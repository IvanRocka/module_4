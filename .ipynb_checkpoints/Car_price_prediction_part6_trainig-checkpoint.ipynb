{
 "cells": [
  {
   "cell_type": "code",
   "execution_count": 1,
   "metadata": {},
   "outputs": [
    {
     "name": "stdout",
     "output_type": "stream",
     "text": [
      "Requirement already satisfied: xgboost in c:\\users\\user-pc\\anaconda3\\lib\\site-packages (1.3.3)\n",
      "Requirement already satisfied: scipy in c:\\users\\user-pc\\anaconda3\\lib\\site-packages (from xgboost) (1.5.0)\n",
      "Requirement already satisfied: numpy in c:\\users\\user-pc\\anaconda3\\lib\\site-packages (from xgboost) (1.18.5)\n"
     ]
    }
   ],
   "source": [
    "!pip install xgboost\n",
    "import numpy as np\n",
    "import pandas as pd\n",
    "import seaborn as sns\n",
    "import matplotlib.pyplot as plt\n",
    "import json\n",
    "import pickle\n",
    "from functools import partial\n",
    "from tqdm import tqdm\n",
    "\n",
    "from sklearn.model_selection import KFold, cross_val_score, train_test_split, GridSearchCV\n",
    "from sklearn.metrics import make_scorer\n",
    "from sklearn.ensemble import RandomForestRegressor, ExtraTreesRegressor, GradientBoostingRegressor\n",
    "from sklearn.linear_model import Ridge\n",
    "from sklearn.preprocessing import StandardScaler, LabelEncoder\n",
    "from sklearn.linear_model import Ridge, Lasso, LinearRegression\n",
    "from sklearn.base import clone\n",
    "\n",
    "from catboost import CatBoostRegressor\n",
    "import xgboost as xgb"
   ]
  },
  {
   "cell_type": "code",
   "execution_count": 2,
   "metadata": {},
   "outputs": [],
   "source": [
    "#Настроим ноутбук\n",
    "pd.options.display.float_format = '{:,.2f}'.format\n",
    "plt.rcParams['figure.figsize'] = 12, 8\n",
    "RANDOM_SEED=42"
   ]
  },
  {
   "cell_type": "markdown",
   "metadata": {},
   "source": [
    "### Загрузим датасет из прошлой части"
   ]
  },
  {
   "cell_type": "code",
   "execution_count": 3,
   "metadata": {},
   "outputs": [
    {
     "name": "stderr",
     "output_type": "stream",
     "text": [
      "C:\\Users\\User-PC\\anaconda3\\lib\\site-packages\\IPython\\core\\interactiveshell.py:3071: DtypeWarning: Columns (21) have mixed types.Specify dtype option on import or set low_memory=False.\n",
      "  has_raised = await self.run_ast_nodes(code_ast.body, cell_name,\n"
     ]
    },
    {
     "name": "stdout",
     "output_type": "stream",
     "text": [
      "df.shape=(71765, 693)\n"
     ]
    }
   ],
   "source": [
    "df = pd.read_csv('data2.csv')\n",
    "df_train = df[df.is_train==1]\n",
    "print(f\"{df.shape=}\")"
   ]
  },
  {
   "cell_type": "markdown",
   "metadata": {},
   "source": [
    "### Скопируем оттуда же набор функций для анализа\n",
    "* fit_and_score_model - оценивает переданнух модель на кросс валидации, и выводит среднее значение метрики mape\n",
    "* make_submit - делает предсказание модели на тестовых данныхЪ и сохраняет их в файл predict.csv\n",
    "* prepare_data - подгаталивает тренировочный и тестовый набор (на основании переданного списка колонок)\n",
    "* create_dataframe_from_json_column - создает датафрейм из json-колонки\n",
    "* feature_enginering_add_equipment_features - добавляет к датасету список фич из признака equipment"
   ]
  },
  {
   "cell_type": "code",
   "execution_count": 38,
   "metadata": {},
   "outputs": [],
   "source": [
    "def parse_dict_column(row, column_name):\n",
    "    \"\"\"Функция парсит значение в ячейке.\n",
    "    Если это train строка то применяет функцию eval\n",
    "    Если это test - то загружает методом json.loads\n",
    "    Возвращает dict полученный из строкового представления.\n",
    "    Или возвращает None если значение не указано, или словарь пустой\"\"\"\n",
    "    if row[column_name] is np.nan:\n",
    "        value = None\n",
    "    elif row.is_train:\n",
    "        value = eval(row[column_name])\n",
    "    else:\n",
    "        value = json.loads(row[column_name])\n",
    "    \n",
    "    return value if value else None\n",
    "\n",
    "def create_dataframe_from_json_column(df, column_name):\n",
    "    \"\"\"Создает датафрейм из колонки, в которой храняться json(dict) параметров автомобиля \"\"\"\n",
    "    series_ = df.apply(partial(parse_dict_column, column_name=column_name), axis=1)\n",
    "    dataframe_ = series_.apply(pd.Series)\n",
    "    return dataframe_\n",
    "equipment_dataframe = create_dataframe_from_json_column(df, 'equipment_dict')\n",
    "equipment_dataframe.fillna(False, inplace=True)\n",
    "\n",
    "def mape(y_true, y_pred):\n",
    "    \"\"\"оценка MEAN ABSOLUTE PERCENTAGE ERROR, которая используется в соревновании\"\"\"\n",
    "    return np.mean(np.abs((y_true - y_pred) / y_true)) * 100\n",
    "\n",
    "    \n",
    "def fit_and_score_model(model, X, y):\n",
    "    \"\"\"Оцениваем модель и данные на трех фолдах. Выводим средюю оценку, и оценки на фолдах\"\"\"\n",
    "    \n",
    "    kf = KFold(n_splits=3, shuffle=True, random_state=RANDOM_SEED)\n",
    "    cv_results = cross_val_score(\n",
    "        model, X, y, cv=kf, n_jobs=-1, scoring=make_scorer(mape))\n",
    "    \n",
    "    model.fit(X_train,y)\n",
    "    train_score = mape(y, model.predict(X_train))\n",
    "    \n",
    "    print(\"#\"*100)\n",
    "    print(model)\n",
    "    print(f\"train shape {X.shape}\")\n",
    "    print(f\"{cat_cols=}\")\n",
    "    print(f\"{num_cols=}\")\n",
    "    print(\"#\"*100)\n",
    "    print(f\"Train result: {train_score}\")\n",
    "    print(f'CV result: {np.mean(cv_results)} ({cv_results})')\n",
    "    print(\"#\"*100)\n",
    "\n",
    "\n",
    "def make_submit_file(model, X_test, file_name='predict.csv'):\n",
    "    \"\"\"запишем предсказание модели в файл, готовый к отправке на kaggle\"\"\"\n",
    "    pred = np.round(model.predict(X_test))\n",
    "    answer = pd.Series(pred, index=df[~df.is_train].sell_id, name='price')\n",
    "    answer.to_csv(file_name, index_label='sell_id')\n",
    "\n",
    "\n",
    "def prepare_data(categorical_columns: list, numerical_columns: list):\n",
    "    \"\"\"Вытащим требуемые данные из глобальной переменной df\n",
    "    к категориальным применим dummy кодирование\n",
    "    к числовым Шкалирование\"\"\"\n",
    "    X = df.loc[:, categorical_columns+numerical_columns+['is_train']]\n",
    "\n",
    "    X = pd.get_dummies(X, columns=categorical_columns)\n",
    "    X[numerical_columns] = StandardScaler().fit_transform(X[numerical_columns])\n",
    "    \n",
    "    X_train = X[X.is_train == 1].drop('is_train', axis=1)\n",
    "    X_test = X[X.is_train == 0].drop('is_train', axis=1)\n",
    "\n",
    "    y = df[df.is_train].price\n",
    "\n",
    "    return X_train, X_test, y\n",
    "\n",
    "def feature_enginering_add_equipment_features(df):\n",
    "    \"\"\"Добавим новые из колонки equipment_dict\"\"\"    \n",
    "    return pd.concat([df, equipment_dataframe],\n",
    "          axis=1)"
   ]
  },
  {
   "cell_type": "code",
   "execution_count": 7,
   "metadata": {},
   "outputs": [],
   "source": [
    "cat_cols = ['bodyType', 'brand', 'fuelType', 'color', 'model_name',\n",
    "            'vehicleTransmission', 'vendor', 'ПТС', 'Владельцы', 'Привод', 'Руль'] \n",
    "num_cols = ['productionDate', 'numberOfDoors',\n",
    "            'enginePower_log', 'mileage_log', 'diff_date_model_production'] + list(equipment_dataframe.columns.values)"
   ]
  },
  {
   "cell_type": "markdown",
   "metadata": {},
   "source": [
    "### Подготовим данные для моделей"
   ]
  },
  {
   "cell_type": "code",
   "execution_count": 6,
   "metadata": {},
   "outputs": [],
   "source": [
    "X_train, X_test, y = prepare_data(cat_cols, num_cols)"
   ]
  },
  {
   "cell_type": "markdown",
   "metadata": {},
   "source": [
    "### Случайный лес из 1000 деревьев"
   ]
  },
  {
   "cell_type": "code",
   "execution_count": 8,
   "metadata": {},
   "outputs": [],
   "source": [
    "model = RandomForestRegressor(1000, random_state=RANDOM_STATE, verbose=True, n_jobs = -1)"
   ]
  },
  {
   "cell_type": "code",
   "execution_count": 9,
   "metadata": {},
   "outputs": [
    {
     "name": "stderr",
     "output_type": "stream",
     "text": [
      "[Parallel(n_jobs=-1)]: Using backend ThreadingBackend with 12 concurrent workers.\n",
      "[Parallel(n_jobs=-1)]: Done  26 tasks      | elapsed:   10.6s\n",
      "[Parallel(n_jobs=-1)]: Done 176 tasks      | elapsed:   54.9s\n",
      "[Parallel(n_jobs=-1)]: Done 426 tasks      | elapsed:  2.2min\n",
      "[Parallel(n_jobs=-1)]: Done 776 tasks      | elapsed:  3.9min\n",
      "[Parallel(n_jobs=-1)]: Done 1000 out of 1000 | elapsed:  5.1min finished\n",
      "[Parallel(n_jobs=12)]: Using backend ThreadingBackend with 12 concurrent workers.\n",
      "[Parallel(n_jobs=12)]: Done  26 tasks      | elapsed:    0.0s\n",
      "[Parallel(n_jobs=12)]: Done 176 tasks      | elapsed:    0.3s\n",
      "[Parallel(n_jobs=12)]: Done 426 tasks      | elapsed:    0.9s\n",
      "[Parallel(n_jobs=12)]: Done 776 tasks      | elapsed:    1.7s\n"
     ]
    },
    {
     "name": "stdout",
     "output_type": "stream",
     "text": [
      "####################################################################################################\n",
      "RandomForestRegressor(n_estimators=1000, n_jobs=-1, random_state=42,\n",
      "                      verbose=True)\n",
      "train shape (37079, 1092)\n",
      "cat_cols=['bodyType', 'brand', 'fuelType', 'color', 'model_name', 'vehicleTransmission', 'vendor', 'ПТС', 'Владельцы', 'Привод', 'Руль']\n",
      "num_cols=['productionDate', 'numberOfDoors', 'enginePower_log', 'mileage_log', 'diff_date_model_production', 'engine-proof', 'tinted-glass', 'airbag-driver', 'aux', 'isofix', 'electro-window-front', 'ashtray-and-cigarette-lighter', 'airbag-passenger', 'computer', 'high-beam-assist', 'seat-transformation', 'isofix-front', 'wheel-power', 'alarm', 'lock', 'door-sill-panel', 'fabric-seats', 'electro-mirrors', 'airbag-rear-side', 'electro-window-back', 'steel-wheels', 'ptf', '16-inch-wheels', 'rain-sensor', 'airbag-side', 'audiosystem-cd', 'dark-interior', 'cooling-box', 'condition', 'abs', 'power-child-locks-rear-doors', 'front-seats-heat', 'wheel-configuration2', 'wheel-configuration1', '12v-socket', 'park-assist-r', 'cruise-control', 'asr', 'esp', 'usb', 'light-sensor', 'drl', 'alloy-wheel-disks', 'tyre-pressure', 'mirrors-heat', 'driver-seat-updown', 'wheel-heat', 'bluetooth', 'immo', 'windscreen-heat', 'climate-control-2', 'adaptive-light', 'multi-wheel', 'xenon', 'heated-wash-system', 'front-centre-armrest', 'body-mouldings', 'combo-interior', 'rear-seats-heat', 'knee-airbag', 'hcc', 'airbag-curtain', 'light-cleaner', 'leather-gear-stick', 'wheel-leather', 'auto-mirrors', 'third-rear-headrest', 'roller-blind-for-rear-window', 'spare-wheel', 'navigation', 'folding-front-passenger-seat', 'programmed-block-heater', 'passenger-seat-updown', 'sport-seats', 'front-seat-support', '18-inch-wheels', 'volume-sensor', 'hatch', 'music-super', 'automatic-lighting-control', 'paint-metallic', 'climate-control-1', 'roof-rails', '17-inch-wheels', 'sport-pedals', 'gbo', 'park-assist-f', 'feedback-alarm', 'passenger-seat-electric', 'leather', 'electro-trunk', 'driver-seat-memory', 'keyless-entry', 'rear-camera', 'led-lights', '15-inch-wheels', 'audiosystem-tv', 'seats-7', 'auto-park', 'apple-carplay', 'decorative-interior-lighting', 'bas', 'servo', 'reduce-spare-wheel', 'glonass', 'drowsy-driver-alert-system', 'android-auto', 'start-button', 'blind-spot', 'voice-recognition', 'remote-engine-start', 'electronic-gage-panel', 'auto-cruise', 'seat-memory', 'windcleaner-heat', 'audiopreparation', 'folding-tables-rear', 'panorama-roof', 'front-seats-heat-vent', 'start-stop-function', '360-camera', 'light-interior', 'steering-wheel-gear-shift-paddles', 'drive-mode-sys', 'collision-prevention-assist', 'driver-seat-electric', 'alcantara', 'multizone-climate-control', '19-inch-wheels', 'third-row-seats', 'projection-display', '13-inch-wheels', '14-inch-wheels', '220v-socket', 'traffic-sign-recognition', 'night-vision', 'lane-keeping-assist', 'airbrush', 'seats-5', 'driver-seat-support', 'seats-2', 'vsm', 'dha', 'velvet-seats', 'sport-suspension', 'black-roof', 'roller-blinds-for-rear-side-windows', 'turnbuckle', 'eco-leather', 'wireless-charger', 'e-adjustment-wheel', 'seats-4', 'armored', 'activ-suspension', 'electro-rear-seat', 'massage-seats', 'easy-trunk-opening', 'adj-pedals', 'ya-auto', 'PW1', '8T6', 'PL2', '9S6', '9P5', 'RAB', 'PN0', 'PB0', 'entertainment-system-for-rear-seat-passengers', 'rear-seat-heat-vent', 'power-latching-doors', 'seats-heat', 'immobiliser-not-standard', 'parktronik', 'laser-lights', 'halogen', 'air-suspension', 'electro-window-all', 'airbag-2', 'front-camera', 'passenger-seat-manual', 'driver-seat-manual', 'climate-control', 'wheel-memory', 'advanced-frontlighting-system', 'wheel-configuration3', 'audiosystem', '20-inch-wheels', '21-inch-wheels', 'laminated-safety-glass', 'body-kit', '22-inch-wheels', 'seats-6', '6XE', 'PX2', '3L5', '6NQ', 'PNQ', '9R1', 'KA2', '4D3', 'airbag-6', 'seats-8', '12-inch-wheels', 'electro-seat', 'passenger-seat-memory', 'airbag-4', '27-inch-wheels', 'climate-control-3', '25-inch-wheels', '23-inch-wheels', '235', '242', '246', '249', '270', '274', '351', '364', '367', '431', '448', '475', '500', '501', '513', '551', '670', '728', '772', '776', '807', '810', '824', '871', '873', '881', '882', '883', '889', '927', '989', 'U09', '51U', 'H06', 'U22', 'DZ9', 'P17', 'B63', 'RVR', '14U', 'R66', 'P29', '03B', 'P31', '16U', 'P44', 'R01', 'B16', '17U', 'L5C', 'seats-9', 'WVA', 'S7N', 'E0P', '24-inch-wheels', '2C5', '1N1', '7AA', '9AB', 'UI4', '6XD', '3B3', '7B2', '9S3', '4I2', '3NZ', '4UC', '4UE', '4A3', '4R2', '4R3', '6R1', '9T1', '3Q6', 'duo-body-color', '8T2', '8RM', 'CJ3', '9VS', '218', '345', '440', '632', '840', '301', '531', '540', '443', '608', '234', '401', 'U25', '414', '872', '61U', '597', '357', '228', '6XF', 'N4M', '8X1', '3S1', '4X4', '6E3', '7X5', 'PCH', '3FB', 'CJ4', 'F06', '28-inch-wheels', '298', 'PE6', '8RF', '239']\n",
      "####################################################################################################\n",
      "Train result: 4.310073253043336\n",
      "CV result: 12.034361418368261 ([12.0043911  11.99140828 12.10728487])\n",
      "####################################################################################################\n",
      "Wall time: 14min 51s\n"
     ]
    },
    {
     "name": "stderr",
     "output_type": "stream",
     "text": [
      "[Parallel(n_jobs=12)]: Done 1000 out of 1000 | elapsed:    2.2s finished\n"
     ]
    }
   ],
   "source": [
    "%%time\n",
    "fit_and_score_model(model, X_train, y)"
   ]
  },
  {
   "cell_type": "code",
   "execution_count": 10,
   "metadata": {},
   "outputs": [
    {
     "data": {
      "text/plain": [
       "body-kit                     0.37\n",
       "enginePower_log              0.28\n",
       "productionDate               0.15\n",
       "mileage_log                  0.04\n",
       "228                          0.01\n",
       "fuelType_бензин              0.01\n",
       "model_name_W188              0.01\n",
       "model_name_G-КЛАСС_AMG       0.01\n",
       "fuelType_дизель              0.01\n",
       "model_name_G-КЛАСС           0.01\n",
       "model_name_V-КЛАСС           0.01\n",
       "diff_date_model_production   0.00\n",
       "model_name_S-КЛАСС           0.00\n",
       "rear-camera                  0.00\n",
       "feedback-alarm               0.00\n",
       "19-inch-wheels               0.00\n",
       "brand_MERCEDES               0.00\n",
       "model_name_LAND_CRUISER      0.00\n",
       "electro-trunk                0.00\n",
       "301                          0.00\n",
       "dtype: float64"
      ]
     },
     "execution_count": 10,
     "metadata": {},
     "output_type": "execute_result"
    }
   ],
   "source": [
    "pd.Series(model.feature_importances_,\n",
    "          index=X_test.columns).sort_values(ascending=False).iloc[:20]"
   ]
  },
  {
   "cell_type": "code",
   "execution_count": 11,
   "metadata": {},
   "outputs": [
    {
     "name": "stderr",
     "output_type": "stream",
     "text": [
      "[Parallel(n_jobs=12)]: Using backend ThreadingBackend with 12 concurrent workers.\n",
      "[Parallel(n_jobs=12)]: Done  26 tasks      | elapsed:    0.0s\n",
      "[Parallel(n_jobs=12)]: Done 176 tasks      | elapsed:    0.2s\n",
      "[Parallel(n_jobs=12)]: Done 426 tasks      | elapsed:    0.6s\n",
      "[Parallel(n_jobs=12)]: Done 776 tasks      | elapsed:    1.3s\n",
      "[Parallel(n_jobs=12)]: Done 1000 out of 1000 | elapsed:    1.7s finished\n"
     ]
    }
   ],
   "source": [
    "make_submit_file(model, X_test, \"6.1_random_forest_1000.csv\") # 12.88"
   ]
  },
  {
   "cell_type": "markdown",
   "metadata": {},
   "source": [
    "### Случайный лес на 2000 деревьев"
   ]
  },
  {
   "cell_type": "code",
   "execution_count": 12,
   "metadata": {},
   "outputs": [],
   "source": [
    "model = RandomForestRegressor(2000, random_state=RANDOM_STATE, verbose=True, n_jobs = -1)"
   ]
  },
  {
   "cell_type": "code",
   "execution_count": 13,
   "metadata": {},
   "outputs": [
    {
     "name": "stderr",
     "output_type": "stream",
     "text": [
      "[Parallel(n_jobs=-1)]: Using backend ThreadingBackend with 12 concurrent workers.\n",
      "[Parallel(n_jobs=-1)]: Done  26 tasks      | elapsed:   11.0s\n",
      "[Parallel(n_jobs=-1)]: Done 176 tasks      | elapsed:   56.5s\n",
      "[Parallel(n_jobs=-1)]: Done 426 tasks      | elapsed:  2.2min\n",
      "[Parallel(n_jobs=-1)]: Done 776 tasks      | elapsed:  4.0min\n",
      "[Parallel(n_jobs=-1)]: Done 1226 tasks      | elapsed:  6.3min\n",
      "[Parallel(n_jobs=-1)]: Done 1776 tasks      | elapsed:  9.0min\n",
      "[Parallel(n_jobs=-1)]: Done 2000 out of 2000 | elapsed: 10.2min finished\n",
      "[Parallel(n_jobs=12)]: Using backend ThreadingBackend with 12 concurrent workers.\n",
      "[Parallel(n_jobs=12)]: Done  26 tasks      | elapsed:    0.0s\n",
      "[Parallel(n_jobs=12)]: Done 176 tasks      | elapsed:    0.3s\n",
      "[Parallel(n_jobs=12)]: Done 426 tasks      | elapsed:    0.9s\n",
      "[Parallel(n_jobs=12)]: Done 776 tasks      | elapsed:    1.7s\n",
      "[Parallel(n_jobs=12)]: Done 1226 tasks      | elapsed:    2.8s\n",
      "[Parallel(n_jobs=12)]: Done 1776 tasks      | elapsed:    4.0s\n"
     ]
    },
    {
     "name": "stdout",
     "output_type": "stream",
     "text": [
      "####################################################################################################\n",
      "RandomForestRegressor(n_estimators=2000, n_jobs=-1, random_state=42,\n",
      "                      verbose=True)\n",
      "train shape (37079, 1092)\n",
      "cat_cols=['bodyType', 'brand', 'fuelType', 'color', 'model_name', 'vehicleTransmission', 'vendor', 'ПТС', 'Владельцы', 'Привод', 'Руль']\n",
      "num_cols=['productionDate', 'numberOfDoors', 'enginePower_log', 'mileage_log', 'diff_date_model_production', 'engine-proof', 'tinted-glass', 'airbag-driver', 'aux', 'isofix', 'electro-window-front', 'ashtray-and-cigarette-lighter', 'airbag-passenger', 'computer', 'high-beam-assist', 'seat-transformation', 'isofix-front', 'wheel-power', 'alarm', 'lock', 'door-sill-panel', 'fabric-seats', 'electro-mirrors', 'airbag-rear-side', 'electro-window-back', 'steel-wheels', 'ptf', '16-inch-wheels', 'rain-sensor', 'airbag-side', 'audiosystem-cd', 'dark-interior', 'cooling-box', 'condition', 'abs', 'power-child-locks-rear-doors', 'front-seats-heat', 'wheel-configuration2', 'wheel-configuration1', '12v-socket', 'park-assist-r', 'cruise-control', 'asr', 'esp', 'usb', 'light-sensor', 'drl', 'alloy-wheel-disks', 'tyre-pressure', 'mirrors-heat', 'driver-seat-updown', 'wheel-heat', 'bluetooth', 'immo', 'windscreen-heat', 'climate-control-2', 'adaptive-light', 'multi-wheel', 'xenon', 'heated-wash-system', 'front-centre-armrest', 'body-mouldings', 'combo-interior', 'rear-seats-heat', 'knee-airbag', 'hcc', 'airbag-curtain', 'light-cleaner', 'leather-gear-stick', 'wheel-leather', 'auto-mirrors', 'third-rear-headrest', 'roller-blind-for-rear-window', 'spare-wheel', 'navigation', 'folding-front-passenger-seat', 'programmed-block-heater', 'passenger-seat-updown', 'sport-seats', 'front-seat-support', '18-inch-wheels', 'volume-sensor', 'hatch', 'music-super', 'automatic-lighting-control', 'paint-metallic', 'climate-control-1', 'roof-rails', '17-inch-wheels', 'sport-pedals', 'gbo', 'park-assist-f', 'feedback-alarm', 'passenger-seat-electric', 'leather', 'electro-trunk', 'driver-seat-memory', 'keyless-entry', 'rear-camera', 'led-lights', '15-inch-wheels', 'audiosystem-tv', 'seats-7', 'auto-park', 'apple-carplay', 'decorative-interior-lighting', 'bas', 'servo', 'reduce-spare-wheel', 'glonass', 'drowsy-driver-alert-system', 'android-auto', 'start-button', 'blind-spot', 'voice-recognition', 'remote-engine-start', 'electronic-gage-panel', 'auto-cruise', 'seat-memory', 'windcleaner-heat', 'audiopreparation', 'folding-tables-rear', 'panorama-roof', 'front-seats-heat-vent', 'start-stop-function', '360-camera', 'light-interior', 'steering-wheel-gear-shift-paddles', 'drive-mode-sys', 'collision-prevention-assist', 'driver-seat-electric', 'alcantara', 'multizone-climate-control', '19-inch-wheels', 'third-row-seats', 'projection-display', '13-inch-wheels', '14-inch-wheels', '220v-socket', 'traffic-sign-recognition', 'night-vision', 'lane-keeping-assist', 'airbrush', 'seats-5', 'driver-seat-support', 'seats-2', 'vsm', 'dha', 'velvet-seats', 'sport-suspension', 'black-roof', 'roller-blinds-for-rear-side-windows', 'turnbuckle', 'eco-leather', 'wireless-charger', 'e-adjustment-wheel', 'seats-4', 'armored', 'activ-suspension', 'electro-rear-seat', 'massage-seats', 'easy-trunk-opening', 'adj-pedals', 'ya-auto', 'PW1', '8T6', 'PL2', '9S6', '9P5', 'RAB', 'PN0', 'PB0', 'entertainment-system-for-rear-seat-passengers', 'rear-seat-heat-vent', 'power-latching-doors', 'seats-heat', 'immobiliser-not-standard', 'parktronik', 'laser-lights', 'halogen', 'air-suspension', 'electro-window-all', 'airbag-2', 'front-camera', 'passenger-seat-manual', 'driver-seat-manual', 'climate-control', 'wheel-memory', 'advanced-frontlighting-system', 'wheel-configuration3', 'audiosystem', '20-inch-wheels', '21-inch-wheels', 'laminated-safety-glass', 'body-kit', '22-inch-wheels', 'seats-6', '6XE', 'PX2', '3L5', '6NQ', 'PNQ', '9R1', 'KA2', '4D3', 'airbag-6', 'seats-8', '12-inch-wheels', 'electro-seat', 'passenger-seat-memory', 'airbag-4', '27-inch-wheels', 'climate-control-3', '25-inch-wheels', '23-inch-wheels', '235', '242', '246', '249', '270', '274', '351', '364', '367', '431', '448', '475', '500', '501', '513', '551', '670', '728', '772', '776', '807', '810', '824', '871', '873', '881', '882', '883', '889', '927', '989', 'U09', '51U', 'H06', 'U22', 'DZ9', 'P17', 'B63', 'RVR', '14U', 'R66', 'P29', '03B', 'P31', '16U', 'P44', 'R01', 'B16', '17U', 'L5C', 'seats-9', 'WVA', 'S7N', 'E0P', '24-inch-wheels', '2C5', '1N1', '7AA', '9AB', 'UI4', '6XD', '3B3', '7B2', '9S3', '4I2', '3NZ', '4UC', '4UE', '4A3', '4R2', '4R3', '6R1', '9T1', '3Q6', 'duo-body-color', '8T2', '8RM', 'CJ3', '9VS', '218', '345', '440', '632', '840', '301', '531', '540', '443', '608', '234', '401', 'U25', '414', '872', '61U', '597', '357', '228', '6XF', 'N4M', '8X1', '3S1', '4X4', '6E3', '7X5', 'PCH', '3FB', 'CJ4', 'F06', '28-inch-wheels', '298', 'PE6', '8RF', '239']\n",
      "####################################################################################################\n",
      "Train result: 4.304447482039716\n",
      "CV result: 12.040143520177418 ([12.0060197  11.99840076 12.1160101 ])\n",
      "####################################################################################################\n"
     ]
    },
    {
     "name": "stderr",
     "output_type": "stream",
     "text": [
      "[Parallel(n_jobs=12)]: Done 2000 out of 2000 | elapsed:    4.5s finished\n"
     ]
    }
   ],
   "source": [
    "fit_and_score_model(model, X_train, y)"
   ]
  },
  {
   "cell_type": "markdown",
   "metadata": {},
   "source": [
    "Случайный лес на 2000 деревьев показал схожий результат что и на 1000, при этом времени и ресурсов на него было затрачено больше. Вывод: не будем его сохранять.\n",
    "### Подбор параметров для модели\n",
    "Посмотрим какие параметры окажутся наиболее подходящими для случайного леса\n",
    "* n_estimators — число «деревьев» в «случайном лесу».\n",
    "* max_features — число признаков для выбора расщепления.\n",
    "* max_depth — максимальная глубина деревьев.\n",
    "* min_samples_split — минимальное число объектов, необходимое для того, * чтобы узел дерева мог бы расщепиться.\n",
    "* min_samples_leaf — минимальное число объектов в листьях.\n",
    "* bootstrap — использование для построения деревьев подвыборки с возвращением."
   ]
  },
  {
   "cell_type": "code",
   "execution_count": 15,
   "metadata": {},
   "outputs": [],
   "source": [
    "from sklearn.model_selection import RandomizedSearchCV\n",
    "n_estimators = [int(x) for x in np.linspace(start = 100, stop = 1000, num = 10)]\n",
    "max_features = ['log2', 'sqrt']\n",
    "max_depth = [int(x) for x in np.linspace(start = 1, stop = 15, num = 15)]\n",
    "min_samples_split = [int(x) for x in np.linspace(start = 2, stop = 50, num = 10)]\n",
    "min_samples_leaf = [int(x) for x in np.linspace(start = 2, stop = 50, num = 10)]\n",
    "bootstrap = [True, False]\n",
    "param_dist = {'n_estimators': n_estimators,\n",
    "               'max_features': max_features,\n",
    "               'max_depth': max_depth,\n",
    "               'min_samples_split': min_samples_split,\n",
    "               'min_samples_leaf': min_samples_leaf,\n",
    "               'bootstrap': bootstrap}\n",
    "model = RandomForestRegressor()\n",
    "rs = RandomizedSearchCV(model, \n",
    "                        param_dist, \n",
    "                        n_iter = 100, \n",
    "                        cv = 3, \n",
    "                        verbose = 1, \n",
    "                        n_jobs=-1, \n",
    "                        random_state=42)"
   ]
  },
  {
   "cell_type": "code",
   "execution_count": 16,
   "metadata": {},
   "outputs": [
    {
     "name": "stdout",
     "output_type": "stream",
     "text": [
      "Fitting 3 folds for each of 100 candidates, totalling 300 fits\n"
     ]
    },
    {
     "name": "stderr",
     "output_type": "stream",
     "text": [
      "[Parallel(n_jobs=-1)]: Using backend LokyBackend with 12 concurrent workers.\n",
      "[Parallel(n_jobs=-1)]: Done  26 tasks      | elapsed:  1.2min\n",
      "[Parallel(n_jobs=-1)]: Done 176 tasks      | elapsed:  8.8min\n",
      "[Parallel(n_jobs=-1)]: Done 300 out of 300 | elapsed: 14.4min finished\n"
     ]
    },
    {
     "data": {
      "text/plain": [
       "{'n_estimators': 600,\n",
       " 'min_samples_split': 23,\n",
       " 'min_samples_leaf': 2,\n",
       " 'max_features': 'sqrt',\n",
       " 'max_depth': 15,\n",
       " 'bootstrap': False}"
      ]
     },
     "execution_count": 16,
     "metadata": {},
     "output_type": "execute_result"
    }
   ],
   "source": [
    "rs.fit(X_train, y)\n",
    "rs.best_params_"
   ]
  },
  {
   "cell_type": "markdown",
   "metadata": {},
   "source": [
    "Таким образом наилучшими параметрами для модели оказались:\n",
    "* 'n_estimators': 600,\n",
    "*  'min_samples_split': 23,\n",
    "*  'min_samples_leaf': 2,\n",
    "*  'max_features': 'sqrt',\n",
    "*  'max_depth': 15,\n",
    "*  'bootstrap': False   \n",
    "Попробуем обучить модель на полученных гиперпараметрах"
   ]
  },
  {
   "cell_type": "code",
   "execution_count": 18,
   "metadata": {},
   "outputs": [],
   "source": [
    "model = RandomForestRegressor(600,min_samples_split = 23,\n",
    "                              min_samples_leaf = 2,\n",
    "                              max_features = 'sqrt', max_depth = 15,\n",
    "                              bootstrap = False, random_state=RANDOM_STATE,\n",
    "                              verbose=True, n_jobs = -1)"
   ]
  },
  {
   "cell_type": "code",
   "execution_count": 19,
   "metadata": {},
   "outputs": [
    {
     "name": "stderr",
     "output_type": "stream",
     "text": [
      "[Parallel(n_jobs=-1)]: Using backend ThreadingBackend with 12 concurrent workers.\n",
      "[Parallel(n_jobs=-1)]: Done  26 tasks      | elapsed:    0.9s\n",
      "[Parallel(n_jobs=-1)]: Done 176 tasks      | elapsed:    5.2s\n",
      "[Parallel(n_jobs=-1)]: Done 426 tasks      | elapsed:   12.5s\n",
      "[Parallel(n_jobs=-1)]: Done 600 out of 600 | elapsed:   17.5s finished\n",
      "[Parallel(n_jobs=12)]: Using backend ThreadingBackend with 12 concurrent workers.\n",
      "[Parallel(n_jobs=12)]: Done  26 tasks      | elapsed:    0.0s\n",
      "[Parallel(n_jobs=12)]: Done 176 tasks      | elapsed:    0.1s\n"
     ]
    },
    {
     "name": "stdout",
     "output_type": "stream",
     "text": [
      "####################################################################################################\n",
      "RandomForestRegressor(bootstrap=False, max_depth=15, max_features='sqrt',\n",
      "                      min_samples_leaf=2, min_samples_split=23,\n",
      "                      n_estimators=600, n_jobs=-1, random_state=42,\n",
      "                      verbose=True)\n",
      "train shape (37079, 1092)\n",
      "cat_cols=['bodyType', 'brand', 'fuelType', 'color', 'model_name', 'vehicleTransmission', 'vendor', 'ПТС', 'Владельцы', 'Привод', 'Руль']\n",
      "num_cols=['productionDate', 'numberOfDoors', 'enginePower_log', 'mileage_log', 'diff_date_model_production', 'engine-proof', 'tinted-glass', 'airbag-driver', 'aux', 'isofix', 'electro-window-front', 'ashtray-and-cigarette-lighter', 'airbag-passenger', 'computer', 'high-beam-assist', 'seat-transformation', 'isofix-front', 'wheel-power', 'alarm', 'lock', 'door-sill-panel', 'fabric-seats', 'electro-mirrors', 'airbag-rear-side', 'electro-window-back', 'steel-wheels', 'ptf', '16-inch-wheels', 'rain-sensor', 'airbag-side', 'audiosystem-cd', 'dark-interior', 'cooling-box', 'condition', 'abs', 'power-child-locks-rear-doors', 'front-seats-heat', 'wheel-configuration2', 'wheel-configuration1', '12v-socket', 'park-assist-r', 'cruise-control', 'asr', 'esp', 'usb', 'light-sensor', 'drl', 'alloy-wheel-disks', 'tyre-pressure', 'mirrors-heat', 'driver-seat-updown', 'wheel-heat', 'bluetooth', 'immo', 'windscreen-heat', 'climate-control-2', 'adaptive-light', 'multi-wheel', 'xenon', 'heated-wash-system', 'front-centre-armrest', 'body-mouldings', 'combo-interior', 'rear-seats-heat', 'knee-airbag', 'hcc', 'airbag-curtain', 'light-cleaner', 'leather-gear-stick', 'wheel-leather', 'auto-mirrors', 'third-rear-headrest', 'roller-blind-for-rear-window', 'spare-wheel', 'navigation', 'folding-front-passenger-seat', 'programmed-block-heater', 'passenger-seat-updown', 'sport-seats', 'front-seat-support', '18-inch-wheels', 'volume-sensor', 'hatch', 'music-super', 'automatic-lighting-control', 'paint-metallic', 'climate-control-1', 'roof-rails', '17-inch-wheels', 'sport-pedals', 'gbo', 'park-assist-f', 'feedback-alarm', 'passenger-seat-electric', 'leather', 'electro-trunk', 'driver-seat-memory', 'keyless-entry', 'rear-camera', 'led-lights', '15-inch-wheels', 'audiosystem-tv', 'seats-7', 'auto-park', 'apple-carplay', 'decorative-interior-lighting', 'bas', 'servo', 'reduce-spare-wheel', 'glonass', 'drowsy-driver-alert-system', 'android-auto', 'start-button', 'blind-spot', 'voice-recognition', 'remote-engine-start', 'electronic-gage-panel', 'auto-cruise', 'seat-memory', 'windcleaner-heat', 'audiopreparation', 'folding-tables-rear', 'panorama-roof', 'front-seats-heat-vent', 'start-stop-function', '360-camera', 'light-interior', 'steering-wheel-gear-shift-paddles', 'drive-mode-sys', 'collision-prevention-assist', 'driver-seat-electric', 'alcantara', 'multizone-climate-control', '19-inch-wheels', 'third-row-seats', 'projection-display', '13-inch-wheels', '14-inch-wheels', '220v-socket', 'traffic-sign-recognition', 'night-vision', 'lane-keeping-assist', 'airbrush', 'seats-5', 'driver-seat-support', 'seats-2', 'vsm', 'dha', 'velvet-seats', 'sport-suspension', 'black-roof', 'roller-blinds-for-rear-side-windows', 'turnbuckle', 'eco-leather', 'wireless-charger', 'e-adjustment-wheel', 'seats-4', 'armored', 'activ-suspension', 'electro-rear-seat', 'massage-seats', 'easy-trunk-opening', 'adj-pedals', 'ya-auto', 'PW1', '8T6', 'PL2', '9S6', '9P5', 'RAB', 'PN0', 'PB0', 'entertainment-system-for-rear-seat-passengers', 'rear-seat-heat-vent', 'power-latching-doors', 'seats-heat', 'immobiliser-not-standard', 'parktronik', 'laser-lights', 'halogen', 'air-suspension', 'electro-window-all', 'airbag-2', 'front-camera', 'passenger-seat-manual', 'driver-seat-manual', 'climate-control', 'wheel-memory', 'advanced-frontlighting-system', 'wheel-configuration3', 'audiosystem', '20-inch-wheels', '21-inch-wheels', 'laminated-safety-glass', 'body-kit', '22-inch-wheels', 'seats-6', '6XE', 'PX2', '3L5', '6NQ', 'PNQ', '9R1', 'KA2', '4D3', 'airbag-6', 'seats-8', '12-inch-wheels', 'electro-seat', 'passenger-seat-memory', 'airbag-4', '27-inch-wheels', 'climate-control-3', '25-inch-wheels', '23-inch-wheels', '235', '242', '246', '249', '270', '274', '351', '364', '367', '431', '448', '475', '500', '501', '513', '551', '670', '728', '772', '776', '807', '810', '824', '871', '873', '881', '882', '883', '889', '927', '989', 'U09', '51U', 'H06', 'U22', 'DZ9', 'P17', 'B63', 'RVR', '14U', 'R66', 'P29', '03B', 'P31', '16U', 'P44', 'R01', 'B16', '17U', 'L5C', 'seats-9', 'WVA', 'S7N', 'E0P', '24-inch-wheels', '2C5', '1N1', '7AA', '9AB', 'UI4', '6XD', '3B3', '7B2', '9S3', '4I2', '3NZ', '4UC', '4UE', '4A3', '4R2', '4R3', '6R1', '9T1', '3Q6', 'duo-body-color', '8T2', '8RM', 'CJ3', '9VS', '218', '345', '440', '632', '840', '301', '531', '540', '443', '608', '234', '401', 'U25', '414', '872', '61U', '597', '357', '228', '6XF', 'N4M', '8X1', '3S1', '4X4', '6E3', '7X5', 'PCH', '3FB', 'CJ4', 'F06', '28-inch-wheels', '298', 'PE6', '8RF', '239']\n",
      "####################################################################################################\n",
      "Train result: 36.21733988524606\n",
      "CV result: 39.23961273344677 ([39.52216414 38.75602254 39.44065153])\n",
      "####################################################################################################\n",
      "Wall time: 56.3 s\n"
     ]
    },
    {
     "name": "stderr",
     "output_type": "stream",
     "text": [
      "[Parallel(n_jobs=12)]: Done 426 tasks      | elapsed:    0.3s\n",
      "[Parallel(n_jobs=12)]: Done 600 out of 600 | elapsed:    0.5s finished\n"
     ]
    }
   ],
   "source": [
    "%%time\n",
    "fit_and_score_model(model, X_train, y)"
   ]
  },
  {
   "cell_type": "markdown",
   "metadata": {},
   "source": [
    "## Используем в качестве модели CatBoost"
   ]
  },
  {
   "cell_type": "code",
   "execution_count": 8,
   "metadata": {},
   "outputs": [],
   "source": [
    "X = df.loc[:, cat_cols+num_cols+['is_train']]\n",
    "X_train = X[X.is_train == 1].drop('is_train', axis=1)\n",
    "X_sub = X[X.is_train == 0].drop('is_train', axis=1)\n",
    "y = df[df.is_train].price"
   ]
  },
  {
   "cell_type": "code",
   "execution_count": 11,
   "metadata": {},
   "outputs": [],
   "source": [
    "X_train, X_test, y_train, y_test = train_test_split(X_train, y, test_size=0.2, shuffle=True, random_state=RANDOM_SEED)"
   ]
  },
  {
   "cell_type": "code",
   "execution_count": 25,
   "metadata": {},
   "outputs": [],
   "source": [
    "model = CatBoostRegressor(iterations=5000,\n",
    "                          random_seed=RANDOM_SEED,\n",
    "                          eval_metric='MAPE',\n",
    "                          custom_metric=['R2', 'MAE'],\n",
    "                          silent=True,)"
   ]
  },
  {
   "cell_type": "code",
   "execution_count": 26,
   "metadata": {},
   "outputs": [
    {
     "name": "stdout",
     "output_type": "stream",
     "text": [
      "Wall time: 4min 20s\n"
     ]
    },
    {
     "data": {
      "text/plain": [
       "<catboost.core.CatBoostRegressor at 0x23c11f7bb20>"
      ]
     },
     "execution_count": 26,
     "metadata": {},
     "output_type": "execute_result"
    }
   ],
   "source": [
    "%%time\n",
    "model.fit(X_train, y_train,\n",
    "         cat_features=cat_cols,\n",
    "         eval_set=(X_test, y_test),\n",
    "         verbose_eval=0,\n",
    "         use_best_model=True,\n",
    "         #plot=True\n",
    "         )"
   ]
  },
  {
   "cell_type": "code",
   "execution_count": 27,
   "metadata": {},
   "outputs": [],
   "source": [
    "pred = model.predict(X_test)"
   ]
  },
  {
   "cell_type": "code",
   "execution_count": 28,
   "metadata": {},
   "outputs": [],
   "source": [
    "def mape(y_true, y_pred):\n",
    "    \"\"\"оценка MEAN ABSOLUTE PERCENTAGE ERROR, которая используется в соревновании\"\"\"\n",
    "    return np.mean(np.abs((y_true - y_pred) / y_true)) * 100"
   ]
  },
  {
   "cell_type": "code",
   "execution_count": 29,
   "metadata": {},
   "outputs": [
    {
     "data": {
      "text/plain": [
       "12.524124588881538"
      ]
     },
     "execution_count": 29,
     "metadata": {},
     "output_type": "execute_result"
    }
   ],
   "source": [
    "mape(y_test,pred)"
   ]
  },
  {
   "cell_type": "markdown",
   "metadata": {},
   "source": [
    "Результат получился хуже, чем при модели случайного леса. Но для случайного леса свойственно переобучение, попробую обе модели в соревновании."
   ]
  },
  {
   "cell_type": "code",
   "execution_count": 32,
   "metadata": {},
   "outputs": [],
   "source": [
    "model.save_model('catboost.model')"
   ]
  },
  {
   "cell_type": "markdown",
   "metadata": {},
   "source": [
    "### XGBOOST"
   ]
  },
  {
   "cell_type": "code",
   "execution_count": 39,
   "metadata": {},
   "outputs": [],
   "source": [
    "X_train, X_test, y = prepare_data(cat_cols, num_cols)"
   ]
  },
  {
   "cell_type": "code",
   "execution_count": 40,
   "metadata": {},
   "outputs": [],
   "source": [
    "model = xgb.XGBRegressor(objective='reg:squarederror', \n",
    "                          colsample_bytree=0.5,\n",
    "                          learning_rate=0.1, \n",
    "                          max_depth=12, \n",
    "                          alpha=1,\n",
    "                          n_estimators=2000,\n",
    "                          n_jobs = -1,\n",
    "                          silent=1)"
   ]
  },
  {
   "cell_type": "code",
   "execution_count": 41,
   "metadata": {},
   "outputs": [
    {
     "name": "stdout",
     "output_type": "stream",
     "text": [
      "[22:40:08] WARNING: C:/Users/Administrator/workspace/xgboost-win64_release_1.3.0/src/learner.cc:541: \n",
      "Parameters: { silent } might not be used.\n",
      "\n",
      "  This may not be accurate due to some parameters are only used in language bindings but\n",
      "  passed down to XGBoost core.  Or some parameters are not used but slip through this\n",
      "  verification. Please open an issue if you find above cases.\n",
      "\n",
      "\n",
      "####################################################################################################\n",
      "XGBRegressor(alpha=1, base_score=0.5, booster='gbtree', colsample_bylevel=1,\n",
      "             colsample_bynode=1, colsample_bytree=0.5, gamma=0, gpu_id=-1,\n",
      "             importance_type='gain', interaction_constraints='',\n",
      "             learning_rate=0.1, max_delta_step=0, max_depth=12,\n",
      "             min_child_weight=1, missing=nan, monotone_constraints='()',\n",
      "             n_estimators=2000, n_jobs=-1, num_parallel_tree=1, random_state=0,\n",
      "             reg_alpha=1, reg_lambda=1, scale_pos_weight=1, silent=1,\n",
      "             subsample=1, tree_method='exact', validate_parameters=1,\n",
      "             verbosity=None)\n",
      "train shape (37079, 1092)\n",
      "cat_cols=['bodyType', 'brand', 'fuelType', 'color', 'model_name', 'vehicleTransmission', 'vendor', 'ПТС', 'Владельцы', 'Привод', 'Руль']\n",
      "num_cols=['productionDate', 'numberOfDoors', 'enginePower_log', 'mileage_log', 'diff_date_model_production', 'engine-proof', 'tinted-glass', 'airbag-driver', 'aux', 'isofix', 'electro-window-front', 'ashtray-and-cigarette-lighter', 'airbag-passenger', 'computer', 'high-beam-assist', 'seat-transformation', 'isofix-front', 'wheel-power', 'alarm', 'lock', 'door-sill-panel', 'fabric-seats', 'electro-mirrors', 'airbag-rear-side', 'electro-window-back', 'steel-wheels', 'ptf', '16-inch-wheels', 'rain-sensor', 'airbag-side', 'audiosystem-cd', 'dark-interior', 'cooling-box', 'condition', 'abs', 'power-child-locks-rear-doors', 'front-seats-heat', 'wheel-configuration2', 'wheel-configuration1', '12v-socket', 'park-assist-r', 'cruise-control', 'asr', 'esp', 'usb', 'light-sensor', 'drl', 'alloy-wheel-disks', 'tyre-pressure', 'mirrors-heat', 'driver-seat-updown', 'wheel-heat', 'bluetooth', 'immo', 'windscreen-heat', 'climate-control-2', 'adaptive-light', 'multi-wheel', 'xenon', 'heated-wash-system', 'front-centre-armrest', 'body-mouldings', 'combo-interior', 'rear-seats-heat', 'knee-airbag', 'hcc', 'airbag-curtain', 'light-cleaner', 'leather-gear-stick', 'wheel-leather', 'auto-mirrors', 'third-rear-headrest', 'roller-blind-for-rear-window', 'spare-wheel', 'navigation', 'folding-front-passenger-seat', 'programmed-block-heater', 'passenger-seat-updown', 'sport-seats', 'front-seat-support', '18-inch-wheels', 'volume-sensor', 'hatch', 'music-super', 'automatic-lighting-control', 'paint-metallic', 'climate-control-1', 'roof-rails', '17-inch-wheels', 'sport-pedals', 'gbo', 'park-assist-f', 'feedback-alarm', 'passenger-seat-electric', 'leather', 'electro-trunk', 'driver-seat-memory', 'keyless-entry', 'rear-camera', 'led-lights', '15-inch-wheels', 'audiosystem-tv', 'seats-7', 'auto-park', 'apple-carplay', 'decorative-interior-lighting', 'bas', 'servo', 'reduce-spare-wheel', 'glonass', 'drowsy-driver-alert-system', 'android-auto', 'start-button', 'blind-spot', 'voice-recognition', 'remote-engine-start', 'electronic-gage-panel', 'auto-cruise', 'seat-memory', 'windcleaner-heat', 'audiopreparation', 'folding-tables-rear', 'panorama-roof', 'front-seats-heat-vent', 'start-stop-function', '360-camera', 'light-interior', 'steering-wheel-gear-shift-paddles', 'drive-mode-sys', 'collision-prevention-assist', 'driver-seat-electric', 'alcantara', 'multizone-climate-control', '19-inch-wheels', 'third-row-seats', 'projection-display', '13-inch-wheels', '14-inch-wheels', '220v-socket', 'traffic-sign-recognition', 'night-vision', 'lane-keeping-assist', 'airbrush', 'seats-5', 'driver-seat-support', 'seats-2', 'vsm', 'dha', 'velvet-seats', 'sport-suspension', 'black-roof', 'roller-blinds-for-rear-side-windows', 'turnbuckle', 'eco-leather', 'wireless-charger', 'e-adjustment-wheel', 'seats-4', 'armored', 'activ-suspension', 'electro-rear-seat', 'massage-seats', 'easy-trunk-opening', 'adj-pedals', 'ya-auto', 'PW1', '8T6', 'PL2', '9S6', '9P5', 'RAB', 'PN0', 'PB0', 'entertainment-system-for-rear-seat-passengers', 'rear-seat-heat-vent', 'power-latching-doors', 'seats-heat', 'immobiliser-not-standard', 'parktronik', 'laser-lights', 'halogen', 'air-suspension', 'electro-window-all', 'airbag-2', 'front-camera', 'passenger-seat-manual', 'driver-seat-manual', 'climate-control', 'wheel-memory', 'advanced-frontlighting-system', 'wheel-configuration3', 'audiosystem', '20-inch-wheels', '21-inch-wheels', 'laminated-safety-glass', 'body-kit', '22-inch-wheels', 'seats-6', '6XE', 'PX2', '3L5', '6NQ', 'PNQ', '9R1', 'KA2', '4D3', 'airbag-6', 'seats-8', '12-inch-wheels', 'electro-seat', 'passenger-seat-memory', 'airbag-4', '27-inch-wheels', 'climate-control-3', '25-inch-wheels', '23-inch-wheels', '235', '242', '246', '249', '270', '274', '351', '364', '367', '431', '448', '475', '500', '501', '513', '551', '670', '728', '772', '776', '807', '810', '824', '871', '873', '881', '882', '883', '889', '927', '989', 'U09', '51U', 'H06', 'U22', 'DZ9', 'P17', 'B63', 'RVR', '14U', 'R66', 'P29', '03B', 'P31', '16U', 'P44', 'R01', 'B16', '17U', 'L5C', 'seats-9', 'WVA', 'S7N', 'E0P', '24-inch-wheels', '2C5', '1N1', '7AA', '9AB', 'UI4', '6XD', '3B3', '7B2', '9S3', '4I2', '3NZ', '4UC', '4UE', '4A3', '4R2', '4R3', '6R1', '9T1', '3Q6', 'duo-body-color', '8T2', '8RM', 'CJ3', '9VS', '218', '345', '440', '632', '840', '301', '531', '540', '443', '608', '234', '401', 'U25', '414', '872', '61U', '597', '357', '228', '6XF', 'N4M', '8X1', '3S1', '4X4', '6E3', '7X5', 'PCH', '3FB', 'CJ4', 'F06', '28-inch-wheels', '298', 'PE6', '8RF', '239']\n",
      "####################################################################################################\n",
      "Train result: 1.151989120990038\n",
      "CV result: 12.59914164741834 ([12.39152923 12.38144785 13.02444786])\n",
      "####################################################################################################\n",
      "Wall time: 20min 49s\n"
     ]
    }
   ],
   "source": [
    "%%time\n",
    "fit_and_score_model(model, X_train, y)"
   ]
  },
  {
   "cell_type": "markdown",
   "metadata": {},
   "source": [
    "### Точность хуже чем при предыдущих моделях\n",
    "Попробуем применить ансамбль"
   ]
  },
  {
   "cell_type": "code",
   "execution_count": 42,
   "metadata": {},
   "outputs": [],
   "source": [
    "def compute_meta_feature(clf, X_train, X_test, y_train, cv):    \n",
    "    X_meta_train = np.zeros((len(y_train)), dtype=np.float32)\n",
    "\n",
    "    splits = cv.split(X_train)\n",
    "    \n",
    "    for train_fold_index, predict_fold_index in splits:\n",
    "        X_fold_train, X_fold_predict = X_train[train_fold_index], X_train[predict_fold_index]\n",
    "        y_fold_train = y_train[train_fold_index]\n",
    "        \n",
    "        folded_clf = clone(clf)\n",
    "        folded_clf.fit(X_fold_train, y_fold_train)\n",
    "        \n",
    "        X_meta_train[predict_fold_index] = folded_clf.predict(X_fold_predict)\n",
    "    \n",
    "    meta_clf = clone(clf)\n",
    "    meta_clf.fit(X_train, y_train)\n",
    "    \n",
    "    X_meta_test = meta_clf.predict(X_test)\n",
    "    \n",
    "    return X_meta_train, X_meta_test\n",
    "\n",
    "def generate_meta_features(classifiers, X_train, X_test, y_train, cv):\n",
    "    \n",
    "    features = [\n",
    "        compute_meta_feature(clf, X_train, X_test, y_train, cv)\n",
    "        for clf in tqdm(classifiers)\n",
    "    ]\n",
    "    \n",
    "    stacked_features_train = np.hstack([\n",
    "        features_train for features_train, features_test in features\n",
    "    ]).reshape(-1,len(features), order='F')\n",
    "\n",
    "    stacked_features_test = np.hstack([\n",
    "        features_test for features_train, features_test in features\n",
    "    ]).reshape(-1,len(features), order='F')\n",
    "    \n",
    "    return stacked_features_train, stacked_features_test"
   ]
  },
  {
   "cell_type": "code",
   "execution_count": 43,
   "metadata": {},
   "outputs": [],
   "source": [
    "cv = KFold(n_splits=3, shuffle=True, random_state=RANDOM_SEED)"
   ]
  },
  {
   "cell_type": "code",
   "execution_count": null,
   "metadata": {},
   "outputs": [
    {
     "name": "stderr",
     "output_type": "stream",
     "text": [
      " 20%|████████████████▌                                                                  | 1/5 [02:01<08:06, 121.53s/it]"
     ]
    }
   ],
   "source": [
    "%%time\n",
    "stacked_features_train, stacked_features_test = generate_meta_features([\n",
    "    RandomForestRegressor(n_estimators=100, n_jobs=-1, random_state=RANDOM_SEED),\n",
    "    ExtraTreesRegressor(n_estimators=100, random_state=RANDOM_SEED),\n",
    "    Ridge(random_state=RANDOM_SEED),\n",
    "    GradientBoostingRegressor(n_estimators=100, random_state=RANDOM_SEED),\n",
    "    CatBoostRegressor(random_state=RANDOM_SEED)\n",
    "], X_train.values, X_test.values, y.values, cv)"
   ]
  },
  {
   "cell_type": "code",
   "execution_count": null,
   "metadata": {},
   "outputs": [],
   "source": []
  }
 ],
 "metadata": {
  "kernelspec": {
   "display_name": "Python 3",
   "language": "python",
   "name": "python3"
  },
  "language_info": {
   "codemirror_mode": {
    "name": "ipython",
    "version": 3
   },
   "file_extension": ".py",
   "mimetype": "text/x-python",
   "name": "python",
   "nbconvert_exporter": "python",
   "pygments_lexer": "ipython3",
   "version": "3.8.3"
  }
 },
 "nbformat": 4,
 "nbformat_minor": 4
}
