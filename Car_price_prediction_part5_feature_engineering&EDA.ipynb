{
 "cells": [
  {
   "cell_type": "markdown",
   "metadata": {},
   "source": [
    "### Проведем Feature engineering& EDA"
   ]
  },
  {
   "cell_type": "code",
   "execution_count": 1,
   "metadata": {},
   "outputs": [],
   "source": [
    "import json\n",
    "import pickle\n",
    "from functools import partial\n",
    "\n",
    "import numpy as np\n",
    "import pandas as pd\n",
    "import seaborn as sns\n",
    "import matplotlib.pyplot as plt\n",
    "\n",
    "from sklearn.model_selection import KFold, cross_val_score, train_test_split\n",
    "from sklearn.metrics import make_scorer\n",
    "from sklearn.ensemble import RandomForestRegressor\n",
    "from sklearn.preprocessing import StandardScaler\n",
    "from sklearn.linear_model import Lasso\n",
    "from sklearn.feature_extraction.text import CountVectorizer, TfidfVectorizer\n",
    "from nltk.corpus import stopwords\n",
    "from scipy.sparse import hstack"
   ]
  },
  {
   "cell_type": "markdown",
   "metadata": {},
   "source": [
    "Настроим ноутбук"
   ]
  },
  {
   "cell_type": "code",
   "execution_count": 2,
   "metadata": {},
   "outputs": [],
   "source": [
    "pd.options.display.float_format = '{:,.2f}'.format\n",
    "plt.rcParams['figure.figsize'] = 12, 8\n",
    "RANDOM_STATE=42"
   ]
  },
  {
   "cell_type": "markdown",
   "metadata": {},
   "source": [
    "#### Возьмем полученный ранее объединенный датасет\n"
   ]
  },
  {
   "cell_type": "code",
   "execution_count": 3,
   "metadata": {},
   "outputs": [
    {
     "name": "stdout",
     "output_type": "stream",
     "text": [
      "df.shape=(71765, 34)\n"
     ]
    },
    {
     "name": "stderr",
     "output_type": "stream",
     "text": [
      "C:\\Users\\User-PC\\anaconda3\\lib\\site-packages\\IPython\\core\\interactiveshell.py:3071: DtypeWarning: Columns (20) have mixed types.Specify dtype option on import or set low_memory=False.\n",
      "  has_raised = await self.run_ast_nodes(code_ast.body, cell_name,\n"
     ]
    }
   ],
   "source": [
    "df = pd.read_csv('data1.csv')\n",
    "print(f\"{df.shape=}\")"
   ]
  },
  {
   "cell_type": "markdown",
   "metadata": {},
   "source": [
    "### Подготовим используемые функции"
   ]
  },
  {
   "cell_type": "markdown",
   "metadata": {},
   "source": [
    "* fit_and_score_model - оценивает переданнух модель на кросс валидации, и выводит среднее значение метрики mape\n",
    "* make_submit - делает предсказание модели на тестовых данныхЪ и сохраняет их в файл predict.csv\n",
    "* prepare_data - подгаталивает тренировочный и тестовый набор (на основании переданного списка колонок)"
   ]
  },
  {
   "cell_type": "code",
   "execution_count": 4,
   "metadata": {},
   "outputs": [],
   "source": [
    "def mape(y_true, y_pred):\n",
    "    \"\"\"оценка MEAN ABSOLUTE PERCENTAGE ERROR, которая используется в соревновании\"\"\"\n",
    "    return np.mean(np.abs((y_true - y_pred) / y_true)) * 100\n",
    "\n",
    "    \n",
    "def fit_and_score_model(model, X, y):\n",
    "    \"\"\"Оцениваем модель и данные на трех фолдах. Выводим средюю оценку, и оценки на фолдах\"\"\"\n",
    "    \n",
    "    kf = KFold(n_splits=3, shuffle=True, random_state=RANDOM_STATE)\n",
    "    cv_results = cross_val_score(\n",
    "        model, X, y, cv=kf, n_jobs=-1, scoring=make_scorer(mape))\n",
    "    \n",
    "    model.fit(X_train,y)\n",
    "    train_score = mape(y, model.predict(X_train))\n",
    "    \n",
    "    print(\"#\"*100)\n",
    "    print(model)\n",
    "    print(f\"train shape {X.shape}\")\n",
    "    print(f\"{cat_cols=}\")\n",
    "    print(f\"{num_cols=}\")\n",
    "    print(\"#\"*100)\n",
    "    print(f\"Train result: {train_score}\")\n",
    "    print(f'CV result: {np.mean(cv_results)} ({cv_results})')\n",
    "    print(\"#\"*100)\n",
    "\n",
    "\n",
    "def make_submit_file(model, X_test, file_name='predict.csv'):\n",
    "    \"\"\"запишем предсказание модели в файл, готовый к отправке на kaggle\"\"\"\n",
    "    pred = np.round(model.predict(X_test))\n",
    "    answer = pd.Series(pred, index=df[~df.is_train].sell_id, name='price')\n",
    "    answer.to_csv(file_name, index_label='sell_id')\n",
    "\n",
    "\n",
    "def prepare_data(categorical_columns: list, numerical_columns: list):\n",
    "    \"\"\"Вытащим требуемые данные из глобальной переменной df\n",
    "    к категориальным применим dummy кодирование\n",
    "    к числовым Шкалирование\"\"\"\n",
    "    X = df.loc[:, categorical_columns+numerical_columns+['is_train']]\n",
    "\n",
    "    X = pd.get_dummies(X, columns=categorical_columns)\n",
    "    X[numerical_columns] = StandardScaler().fit_transform(X[numerical_columns])\n",
    "    \n",
    "    X_train = X[X.is_train == 1].drop('is_train', axis=1)\n",
    "    X_test = X[X.is_train == 0].drop('is_train', axis=1)\n",
    "\n",
    "    y = df[df.is_train].price\n",
    "\n",
    "    return X_train, X_test, y"
   ]
  },
  {
   "cell_type": "markdown",
   "metadata": {},
   "source": [
    "### Используем в качестве модели Случайный лес"
   ]
  },
  {
   "cell_type": "code",
   "execution_count": 5,
   "metadata": {},
   "outputs": [],
   "source": [
    "cat_cols = ['bodyType', 'brand', 'fuelType', 'color', 'model_name',\n",
    "            'vehicleTransmission', 'vendor', 'ПТС', 'Владельцы', 'Привод', 'Руль']\n",
    "num_cols = ['productionDate', 'numberOfDoors',\n",
    "            'engineDisplacement', 'mileage', ]"
   ]
  },
  {
   "cell_type": "code",
   "execution_count": 6,
   "metadata": {},
   "outputs": [],
   "source": [
    "X_train, X_test, y = prepare_data(cat_cols, num_cols)"
   ]
  },
  {
   "cell_type": "code",
   "execution_count": 7,
   "metadata": {},
   "outputs": [],
   "source": [
    "model = RandomForestRegressor(100, random_state=RANDOM_STATE)"
   ]
  },
  {
   "cell_type": "code",
   "execution_count": 8,
   "metadata": {},
   "outputs": [
    {
     "name": "stdout",
     "output_type": "stream",
     "text": [
      "####################################################################################################\n",
      "RandomForestRegressor(random_state=43)\n",
      "train shape (37079, 832)\n",
      "cat_cols=['bodyType', 'brand', 'fuelType', 'color', 'model_name', 'vehicleTransmission', 'vendor', 'ПТС', 'Владельцы', 'Привод', 'Руль']\n",
      "num_cols=['productionDate', 'numberOfDoors', 'engineDisplacement', 'mileage']\n",
      "####################################################################################################\n",
      "Train result: 5.352067448508653\n",
      "CV result: 13.299726812856742 ([13.54160944 12.9206982  13.4368728 ])\n",
      "####################################################################################################\n",
      "Wall time: 2min 1s\n"
     ]
    }
   ],
   "source": [
    "%%time\n",
    "fit_and_score_model(model, X_train, y)"
   ]
  },
  {
   "cell_type": "code",
   "execution_count": 9,
   "metadata": {},
   "outputs": [
    {
     "data": {
      "text/plain": [
       "engineDisplacement                 0.38\n",
       "mileage                            0.34\n",
       "productionDate                     0.08\n",
       "brand_MERCEDES                     0.06\n",
       "Привод_передний                    0.02\n",
       "vendor_EUROPEAN                    0.01\n",
       "vendor_JAPANESE                    0.01\n",
       "model_name_MAYBACH S-КЛАСС         0.01\n",
       "model_name_G-КЛАСС AMG             0.01\n",
       "bodyType_минивэн                   0.00\n",
       "model_name_S-КЛАСС                 0.00\n",
       "model_name_GLE                     0.00\n",
       "model_name_G-КЛАСС                 0.00\n",
       "vehicleTransmission_механическая   0.00\n",
       "model_name_W188                    0.00\n",
       "brand_LEXUS                        0.00\n",
       "model_name_V-КЛАСС                 0.00\n",
       "brand_SKODA                        0.00\n",
       "model_name_XC90                    0.00\n",
       "model_name_MAYBACH GLS             0.00\n",
       "dtype: float64"
      ]
     },
     "execution_count": 9,
     "metadata": {},
     "output_type": "execute_result"
    }
   ],
   "source": [
    "pd.Series(model.feature_importances_,\n",
    "          index=X_train.columns).sort_values(ascending=False).iloc[:20]"
   ]
  },
  {
   "cell_type": "code",
   "execution_count": 10,
   "metadata": {},
   "outputs": [],
   "source": [
    "X_test.engineDisplacement.fillna(df.engineDisplacement.mean(), inplace=True)"
   ]
  },
  {
   "cell_type": "code",
   "execution_count": 11,
   "metadata": {},
   "outputs": [],
   "source": [
    "make_submit_file(model, X_test, \"1_baseline_random_forest_100.csv\")"
   ]
  },
  {
   "cell_type": "markdown",
   "metadata": {},
   "source": [
    "### EDA"
   ]
  },
  {
   "cell_type": "markdown",
   "metadata": {},
   "source": [
    "* Посмотреть корреляцию данных\n",
    "* Посмотреть пропуски если получиться и заполнить их\n",
    "* Анализировать колонки"
   ]
  },
  {
   "cell_type": "markdown",
   "metadata": {},
   "source": [
    "#### Ищем корреляцию"
   ]
  },
  {
   "cell_type": "code",
   "execution_count": 12,
   "metadata": {},
   "outputs": [
    {
     "data": {
      "image/png": "[encoded data removed]",
      "text/plain": [
       "<Figure size 864x576 with 2 Axes>"
      ]
     },
     "metadata": {
      "needs_background": "light"
     },
     "output_type": "display_data"
    }
   ],
   "source": [
    "sns.heatmap(df.corr());"
   ]
  },
  {
   "cell_type": "markdown",
   "metadata": {},
   "source": [
    "#### Выводы по диаграмме корреляции:\n",
    "* production_date коррелирует с model_date - оставляем ону колонку\n",
    "* bp engine dicplacement коррелирует с engine power - оставляем одну колонку\n",
    "* mileage отрицательно коррелрует с modelDate, productionDate и price"
   ]
  },
  {
   "cell_type": "markdown",
   "metadata": {},
   "source": [
    "### Исследуем пропуски"
   ]
  },
  {
   "cell_type": "code",
   "execution_count": 13,
   "metadata": {},
   "outputs": [
    {
     "data": {
      "text/plain": [
       "bodyType                    0\n",
       "brand                       0\n",
       "car_url                     0\n",
       "color                       0\n",
       "complectation_dict      28268\n",
       "description               732\n",
       "engineDisplacement         55\n",
       "enginePower                 0\n",
       "equipment_dict           9996\n",
       "fuelType                    0\n",
       "image                       0\n",
       "mileage                     0\n",
       "modelDate                   0\n",
       "model_info                  0\n",
       "model_name                  0\n",
       "name                        0\n",
       "numberOfDoors               0\n",
       "parsing_unixtime            0\n",
       "priceCurrency               0\n",
       "productionDate              0\n",
       "sell_id                     0\n",
       "super_gen                   0\n",
       "vehicleConfiguration        0\n",
       "vehicleTransmission         0\n",
       "vendor                      0\n",
       "Владельцы                   0\n",
       "Владение                52125\n",
       "ПТС                         0\n",
       "Привод                      0\n",
       "Руль                        0\n",
       "Состояние                   0\n",
       "Таможня                     0\n",
       "is_train                    0\n",
       "price                       0\n",
       "dtype: int64"
      ]
     },
     "execution_count": 13,
     "metadata": {},
     "output_type": "execute_result"
    }
   ],
   "source": [
    "df.isna().sum()"
   ]
  },
  {
   "cell_type": "markdown",
   "metadata": {},
   "source": [
    "### Выводы"
   ]
  },
  {
   "cell_type": "markdown",
   "metadata": {},
   "source": [
    "* complectation_dict, description, equipment_dict - это поля, из которых мы будем получать доп.сведения пока пропуски в этих полях не используем (как и сами поля)\n",
    "* engineDisplacement надо заполнить\n",
    "* Владение - пока не используем, но нужно будет поработать с этим полем"
   ]
  },
  {
   "cell_type": "markdown",
   "metadata": {},
   "source": [
    "### Заполним пропуски в engineDisplacement"
   ]
  },
  {
   "cell_type": "markdown",
   "metadata": {},
   "source": [
    "Посмотрим какой тип топлива у машин с пропусками в этом поле"
   ]
  },
  {
   "cell_type": "code",
   "execution_count": 14,
   "metadata": {},
   "outputs": [
    {
     "data": {
      "text/plain": [
       "электро    55\n",
       "Name: fuelType, dtype: int64"
      ]
     },
     "execution_count": 14,
     "metadata": {},
     "output_type": "execute_result"
    }
   ],
   "source": [
    "df[df.engineDisplacement.isna()].fuelType.value_counts()"
   ]
  },
  {
   "cell_type": "markdown",
   "metadata": {},
   "source": [
    "Так как электро автомобили - не имеют ДВС установим значение 0.0"
   ]
  },
  {
   "cell_type": "code",
   "execution_count": 15,
   "metadata": {},
   "outputs": [
    {
     "data": {
      "text/plain": [
       "0.00    80\n",
       "Name: engineDisplacement, dtype: int64"
      ]
     },
     "execution_count": 15,
     "metadata": {},
     "output_type": "execute_result"
    }
   ],
   "source": [
    "df[df.fuelType=='электро'].engineDisplacement.value_counts()"
   ]
  },
  {
   "cell_type": "code",
   "execution_count": 16,
   "metadata": {},
   "outputs": [],
   "source": [
    "df.loc[df.fuelType=='электро','engineDisplacement'] = df.loc[df.fuelType=='электро','engineDisplacement'].fillna(0)"
   ]
  },
  {
   "cell_type": "markdown",
   "metadata": {},
   "source": [
    "### Рассмотрим колонку bodyType"
   ]
  },
  {
   "cell_type": "code",
   "execution_count": 17,
   "metadata": {},
   "outputs": [
    {
     "data": {
      "text/plain": [
       "внедорожник 5 дв.          29316\n",
       "седан                      24254\n",
       "лифтбек                     5645\n",
       "хэтчбек 5 дв.               3785\n",
       "универсал 5 дв.             2314\n",
       "минивэн                     1696\n",
       "купе                        1577\n",
       "компактвэн                   856\n",
       "хэтчбек 3 дв.                775\n",
       "пикап двойная кабина         563\n",
       "внедорожник 3 дв.            219\n",
       "купе-хардтоп                 204\n",
       "фургон                       173\n",
       "кабриолет                    158\n",
       "родстер                      140\n",
       "микровэн                      21\n",
       "седан-хардтоп                 17\n",
       "седан 2 дв.                   13\n",
       "пикап одинарная кабина        11\n",
       "лимузин                        7\n",
       "пикап полуторная кабина        6\n",
       "внедорожник открытый           4\n",
       "минивэн caravan elgrand        3\n",
       "тарга                          2\n",
       "седан-хардтоп ceres            2\n",
       "фастбек                        1\n",
       "универсал 3 дв.1               1\n",
       "универсал 5 дв. qualis         1\n",
       "универсал 3 дв.                1\n",
       "Name: bodyType, dtype: int64"
      ]
     },
     "execution_count": 17,
     "metadata": {},
     "output_type": "execute_result"
    }
   ],
   "source": [
    "df.bodyType.value_counts()"
   ]
  },
  {
   "cell_type": "markdown",
   "metadata": {},
   "source": [
    "Сгруппируем и понаблюдаем сводную таблицу по типам авто и их цене"
   ]
  },
  {
   "cell_type": "code",
   "execution_count": 18,
   "metadata": {},
   "outputs": [
    {
     "data": {
      "text/html": [
       "<div>\n",
       "<style scoped>\n",
       "    .dataframe tbody tr th:only-of-type {\n",
       "        vertical-align: middle;\n",
       "    }\n",
       "\n",
       "    .dataframe tbody tr th {\n",
       "        vertical-align: top;\n",
       "    }\n",
       "\n",
       "    .dataframe thead th {\n",
       "        text-align: right;\n",
       "    }\n",
       "</style>\n",
       "<table border=\"1\" class=\"dataframe\">\n",
       "  <thead>\n",
       "    <tr style=\"text-align: right;\">\n",
       "      <th></th>\n",
       "      <th></th>\n",
       "      <th>count</th>\n",
       "      <th>min</th>\n",
       "      <th>mean</th>\n",
       "      <th>max</th>\n",
       "    </tr>\n",
       "    <tr>\n",
       "      <th>bodyType</th>\n",
       "      <th>is_train</th>\n",
       "      <th></th>\n",
       "      <th></th>\n",
       "      <th></th>\n",
       "      <th></th>\n",
       "    </tr>\n",
       "  </thead>\n",
       "  <tbody>\n",
       "    <tr>\n",
       "      <th rowspan=\"2\" valign=\"top\">внедорожник 3 дв.</th>\n",
       "      <th>False</th>\n",
       "      <td>115</td>\n",
       "      <td>0</td>\n",
       "      <td>0.00</td>\n",
       "      <td>0</td>\n",
       "    </tr>\n",
       "    <tr>\n",
       "      <th>True</th>\n",
       "      <td>104</td>\n",
       "      <td>105000</td>\n",
       "      <td>485,451.91</td>\n",
       "      <td>3500000</td>\n",
       "    </tr>\n",
       "    <tr>\n",
       "      <th rowspan=\"2\" valign=\"top\">внедорожник 5 дв.</th>\n",
       "      <th>False</th>\n",
       "      <td>12228</td>\n",
       "      <td>0</td>\n",
       "      <td>0.00</td>\n",
       "      <td>0</td>\n",
       "    </tr>\n",
       "    <tr>\n",
       "      <th>True</th>\n",
       "      <td>17088</td>\n",
       "      <td>90000</td>\n",
       "      <td>2,830,068.23</td>\n",
       "      <td>25999000</td>\n",
       "    </tr>\n",
       "    <tr>\n",
       "      <th rowspan=\"2\" valign=\"top\">внедорожник открытый</th>\n",
       "      <th>False</th>\n",
       "      <td>3</td>\n",
       "      <td>0</td>\n",
       "      <td>0.00</td>\n",
       "      <td>0</td>\n",
       "    </tr>\n",
       "    <tr>\n",
       "      <th>True</th>\n",
       "      <td>1</td>\n",
       "      <td>1250000</td>\n",
       "      <td>1,250,000.00</td>\n",
       "      <td>1250000</td>\n",
       "    </tr>\n",
       "    <tr>\n",
       "      <th rowspan=\"2\" valign=\"top\">кабриолет</th>\n",
       "      <th>False</th>\n",
       "      <td>90</td>\n",
       "      <td>0</td>\n",
       "      <td>0.00</td>\n",
       "      <td>0</td>\n",
       "    </tr>\n",
       "    <tr>\n",
       "      <th>True</th>\n",
       "      <td>68</td>\n",
       "      <td>420000</td>\n",
       "      <td>2,247,398.26</td>\n",
       "      <td>14000000</td>\n",
       "    </tr>\n",
       "    <tr>\n",
       "      <th rowspan=\"2\" valign=\"top\">компактвэн</th>\n",
       "      <th>False</th>\n",
       "      <td>489</td>\n",
       "      <td>0</td>\n",
       "      <td>0.00</td>\n",
       "      <td>0</td>\n",
       "    </tr>\n",
       "    <tr>\n",
       "      <th>True</th>\n",
       "      <td>367</td>\n",
       "      <td>35000</td>\n",
       "      <td>498,644.04</td>\n",
       "      <td>1967000</td>\n",
       "    </tr>\n",
       "    <tr>\n",
       "      <th rowspan=\"2\" valign=\"top\">купе</th>\n",
       "      <th>False</th>\n",
       "      <td>824</td>\n",
       "      <td>0</td>\n",
       "      <td>0.00</td>\n",
       "      <td>0</td>\n",
       "    </tr>\n",
       "    <tr>\n",
       "      <th>True</th>\n",
       "      <td>753</td>\n",
       "      <td>50000</td>\n",
       "      <td>2,848,576.68</td>\n",
       "      <td>52500000</td>\n",
       "    </tr>\n",
       "    <tr>\n",
       "      <th rowspan=\"2\" valign=\"top\">купе-хардтоп</th>\n",
       "      <th>False</th>\n",
       "      <td>158</td>\n",
       "      <td>0</td>\n",
       "      <td>0.00</td>\n",
       "      <td>0</td>\n",
       "    </tr>\n",
       "    <tr>\n",
       "      <th>True</th>\n",
       "      <td>46</td>\n",
       "      <td>180000</td>\n",
       "      <td>1,646,359.89</td>\n",
       "      <td>5000000</td>\n",
       "    </tr>\n",
       "    <tr>\n",
       "      <th rowspan=\"2\" valign=\"top\">лимузин</th>\n",
       "      <th>False</th>\n",
       "      <td>6</td>\n",
       "      <td>0</td>\n",
       "      <td>0.00</td>\n",
       "      <td>0</td>\n",
       "    </tr>\n",
       "    <tr>\n",
       "      <th>True</th>\n",
       "      <td>1</td>\n",
       "      <td>8000000</td>\n",
       "      <td>8,000,000.00</td>\n",
       "      <td>8000000</td>\n",
       "    </tr>\n",
       "    <tr>\n",
       "      <th rowspan=\"2\" valign=\"top\">лифтбек</th>\n",
       "      <th>False</th>\n",
       "      <td>2232</td>\n",
       "      <td>0</td>\n",
       "      <td>0.00</td>\n",
       "      <td>0</td>\n",
       "    </tr>\n",
       "    <tr>\n",
       "      <th>True</th>\n",
       "      <td>3413</td>\n",
       "      <td>70000</td>\n",
       "      <td>1,289,605.72</td>\n",
       "      <td>18033500</td>\n",
       "    </tr>\n",
       "    <tr>\n",
       "      <th rowspan=\"2\" valign=\"top\">микровэн</th>\n",
       "      <th>False</th>\n",
       "      <td>7</td>\n",
       "      <td>0</td>\n",
       "      <td>0.00</td>\n",
       "      <td>0</td>\n",
       "    </tr>\n",
       "    <tr>\n",
       "      <th>True</th>\n",
       "      <td>14</td>\n",
       "      <td>130000</td>\n",
       "      <td>544,428.57</td>\n",
       "      <td>997000</td>\n",
       "    </tr>\n",
       "    <tr>\n",
       "      <th rowspan=\"2\" valign=\"top\">минивэн</th>\n",
       "      <th>False</th>\n",
       "      <td>995</td>\n",
       "      <td>0</td>\n",
       "      <td>0.00</td>\n",
       "      <td>0</td>\n",
       "    </tr>\n",
       "    <tr>\n",
       "      <th>True</th>\n",
       "      <td>701</td>\n",
       "      <td>60000</td>\n",
       "      <td>2,621,529.43</td>\n",
       "      <td>26400000</td>\n",
       "    </tr>\n",
       "    <tr>\n",
       "      <th>минивэн caravan elgrand</th>\n",
       "      <th>True</th>\n",
       "      <td>3</td>\n",
       "      <td>340000</td>\n",
       "      <td>766,000.00</td>\n",
       "      <td>1498000</td>\n",
       "    </tr>\n",
       "    <tr>\n",
       "      <th rowspan=\"2\" valign=\"top\">пикап двойная кабина</th>\n",
       "      <th>False</th>\n",
       "      <td>280</td>\n",
       "      <td>0</td>\n",
       "      <td>0.00</td>\n",
       "      <td>0</td>\n",
       "    </tr>\n",
       "    <tr>\n",
       "      <th>True</th>\n",
       "      <td>283</td>\n",
       "      <td>180000</td>\n",
       "      <td>1,738,524.35</td>\n",
       "      <td>13220000</td>\n",
       "    </tr>\n",
       "    <tr>\n",
       "      <th rowspan=\"2\" valign=\"top\">пикап одинарная кабина</th>\n",
       "      <th>False</th>\n",
       "      <td>5</td>\n",
       "      <td>0</td>\n",
       "      <td>0.00</td>\n",
       "      <td>0</td>\n",
       "    </tr>\n",
       "    <tr>\n",
       "      <th>True</th>\n",
       "      <td>6</td>\n",
       "      <td>739000</td>\n",
       "      <td>2,271,839.83</td>\n",
       "      <td>3998000</td>\n",
       "    </tr>\n",
       "    <tr>\n",
       "      <th rowspan=\"2\" valign=\"top\">пикап полуторная кабина</th>\n",
       "      <th>False</th>\n",
       "      <td>5</td>\n",
       "      <td>0</td>\n",
       "      <td>0.00</td>\n",
       "      <td>0</td>\n",
       "    </tr>\n",
       "    <tr>\n",
       "      <th>True</th>\n",
       "      <td>1</td>\n",
       "      <td>4700000</td>\n",
       "      <td>4,700,000.00</td>\n",
       "      <td>4700000</td>\n",
       "    </tr>\n",
       "    <tr>\n",
       "      <th rowspan=\"2\" valign=\"top\">родстер</th>\n",
       "      <th>False</th>\n",
       "      <td>99</td>\n",
       "      <td>0</td>\n",
       "      <td>0.00</td>\n",
       "      <td>0</td>\n",
       "    </tr>\n",
       "    <tr>\n",
       "      <th>True</th>\n",
       "      <td>41</td>\n",
       "      <td>350000</td>\n",
       "      <td>3,564,830.83</td>\n",
       "      <td>21800000</td>\n",
       "    </tr>\n",
       "    <tr>\n",
       "      <th rowspan=\"2\" valign=\"top\">седан</th>\n",
       "      <th>False</th>\n",
       "      <td>13147</td>\n",
       "      <td>0</td>\n",
       "      <td>0.00</td>\n",
       "      <td>0</td>\n",
       "    </tr>\n",
       "    <tr>\n",
       "      <th>True</th>\n",
       "      <td>11107</td>\n",
       "      <td>25000</td>\n",
       "      <td>1,553,748.59</td>\n",
       "      <td>58093592</td>\n",
       "    </tr>\n",
       "    <tr>\n",
       "      <th rowspan=\"2\" valign=\"top\">седан 2 дв.</th>\n",
       "      <th>False</th>\n",
       "      <td>6</td>\n",
       "      <td>0</td>\n",
       "      <td>0.00</td>\n",
       "      <td>0</td>\n",
       "    </tr>\n",
       "    <tr>\n",
       "      <th>True</th>\n",
       "      <td>7</td>\n",
       "      <td>150000</td>\n",
       "      <td>1,124,571.43</td>\n",
       "      <td>2500000</td>\n",
       "    </tr>\n",
       "    <tr>\n",
       "      <th rowspan=\"2\" valign=\"top\">седан-хардтоп</th>\n",
       "      <th>False</th>\n",
       "      <td>12</td>\n",
       "      <td>0</td>\n",
       "      <td>0.00</td>\n",
       "      <td>0</td>\n",
       "    </tr>\n",
       "    <tr>\n",
       "      <th>True</th>\n",
       "      <td>5</td>\n",
       "      <td>205000</td>\n",
       "      <td>488,000.00</td>\n",
       "      <td>595000</td>\n",
       "    </tr>\n",
       "    <tr>\n",
       "      <th>седан-хардтоп ceres</th>\n",
       "      <th>True</th>\n",
       "      <td>2</td>\n",
       "      <td>95000</td>\n",
       "      <td>137,500.00</td>\n",
       "      <td>180000</td>\n",
       "    </tr>\n",
       "    <tr>\n",
       "      <th>тарга</th>\n",
       "      <th>False</th>\n",
       "      <td>2</td>\n",
       "      <td>0</td>\n",
       "      <td>0.00</td>\n",
       "      <td>0</td>\n",
       "    </tr>\n",
       "    <tr>\n",
       "      <th>универсал 3 дв.</th>\n",
       "      <th>True</th>\n",
       "      <td>1</td>\n",
       "      <td>372138</td>\n",
       "      <td>372,138.00</td>\n",
       "      <td>372138</td>\n",
       "    </tr>\n",
       "    <tr>\n",
       "      <th>универсал 3 дв.1</th>\n",
       "      <th>True</th>\n",
       "      <td>1</td>\n",
       "      <td>400000</td>\n",
       "      <td>400,000.00</td>\n",
       "      <td>400000</td>\n",
       "    </tr>\n",
       "    <tr>\n",
       "      <th rowspan=\"2\" valign=\"top\">универсал 5 дв.</th>\n",
       "      <th>False</th>\n",
       "      <td>1276</td>\n",
       "      <td>0</td>\n",
       "      <td>0.00</td>\n",
       "      <td>0</td>\n",
       "    </tr>\n",
       "    <tr>\n",
       "      <th>True</th>\n",
       "      <td>1038</td>\n",
       "      <td>65000</td>\n",
       "      <td>1,066,043.02</td>\n",
       "      <td>7096200</td>\n",
       "    </tr>\n",
       "    <tr>\n",
       "      <th>универсал 5 дв. qualis</th>\n",
       "      <th>True</th>\n",
       "      <td>1</td>\n",
       "      <td>345000</td>\n",
       "      <td>345,000.00</td>\n",
       "      <td>345000</td>\n",
       "    </tr>\n",
       "    <tr>\n",
       "      <th>фастбек</th>\n",
       "      <th>False</th>\n",
       "      <td>1</td>\n",
       "      <td>0</td>\n",
       "      <td>0.00</td>\n",
       "      <td>0</td>\n",
       "    </tr>\n",
       "    <tr>\n",
       "      <th rowspan=\"2\" valign=\"top\">фургон</th>\n",
       "      <th>False</th>\n",
       "      <td>97</td>\n",
       "      <td>0</td>\n",
       "      <td>0.00</td>\n",
       "      <td>0</td>\n",
       "    </tr>\n",
       "    <tr>\n",
       "      <th>True</th>\n",
       "      <td>76</td>\n",
       "      <td>100000</td>\n",
       "      <td>674,798.39</td>\n",
       "      <td>4950000</td>\n",
       "    </tr>\n",
       "    <tr>\n",
       "      <th rowspan=\"2\" valign=\"top\">хэтчбек 3 дв.</th>\n",
       "      <th>False</th>\n",
       "      <td>485</td>\n",
       "      <td>0</td>\n",
       "      <td>0.00</td>\n",
       "      <td>0</td>\n",
       "    </tr>\n",
       "    <tr>\n",
       "      <th>True</th>\n",
       "      <td>290</td>\n",
       "      <td>50000</td>\n",
       "      <td>473,242.68</td>\n",
       "      <td>5050000</td>\n",
       "    </tr>\n",
       "    <tr>\n",
       "      <th rowspan=\"2\" valign=\"top\">хэтчбек 5 дв.</th>\n",
       "      <th>False</th>\n",
       "      <td>2124</td>\n",
       "      <td>0</td>\n",
       "      <td>0.00</td>\n",
       "      <td>0</td>\n",
       "    </tr>\n",
       "    <tr>\n",
       "      <th>True</th>\n",
       "      <td>1661</td>\n",
       "      <td>23000</td>\n",
       "      <td>660,235.98</td>\n",
       "      <td>6690400</td>\n",
       "    </tr>\n",
       "  </tbody>\n",
       "</table>\n",
       "</div>"
      ],
      "text/plain": [
       "                                  count      min         mean       max\n",
       "bodyType                is_train                                       \n",
       "внедорожник 3 дв.       False       115        0         0.00         0\n",
       "                        True        104   105000   485,451.91   3500000\n",
       "внедорожник 5 дв.       False     12228        0         0.00         0\n",
       "                        True      17088    90000 2,830,068.23  25999000\n",
       "внедорожник открытый    False         3        0         0.00         0\n",
       "                        True          1  1250000 1,250,000.00   1250000\n",
       "кабриолет               False        90        0         0.00         0\n",
       "                        True         68   420000 2,247,398.26  14000000\n",
       "компактвэн              False       489        0         0.00         0\n",
       "                        True        367    35000   498,644.04   1967000\n",
       "купе                    False       824        0         0.00         0\n",
       "                        True        753    50000 2,848,576.68  52500000\n",
       "купе-хардтоп            False       158        0         0.00         0\n",
       "                        True         46   180000 1,646,359.89   5000000\n",
       "лимузин                 False         6        0         0.00         0\n",
       "                        True          1  8000000 8,000,000.00   8000000\n",
       "лифтбек                 False      2232        0         0.00         0\n",
       "                        True       3413    70000 1,289,605.72  18033500\n",
       "микровэн                False         7        0         0.00         0\n",
       "                        True         14   130000   544,428.57    997000\n",
       "минивэн                 False       995        0         0.00         0\n",
       "                        True        701    60000 2,621,529.43  26400000\n",
       "минивэн caravan elgrand True          3   340000   766,000.00   1498000\n",
       "пикап двойная кабина    False       280        0         0.00         0\n",
       "                        True        283   180000 1,738,524.35  13220000\n",
       "пикап одинарная кабина  False         5        0         0.00         0\n",
       "                        True          6   739000 2,271,839.83   3998000\n",
       "пикап полуторная кабина False         5        0         0.00         0\n",
       "                        True          1  4700000 4,700,000.00   4700000\n",
       "родстер                 False        99        0         0.00         0\n",
       "                        True         41   350000 3,564,830.83  21800000\n",
       "седан                   False     13147        0         0.00         0\n",
       "                        True      11107    25000 1,553,748.59  58093592\n",
       "седан 2 дв.             False         6        0         0.00         0\n",
       "                        True          7   150000 1,124,571.43   2500000\n",
       "седан-хардтоп           False        12        0         0.00         0\n",
       "                        True          5   205000   488,000.00    595000\n",
       "седан-хардтоп ceres     True          2    95000   137,500.00    180000\n",
       "тарга                   False         2        0         0.00         0\n",
       "универсал 3 дв.         True          1   372138   372,138.00    372138\n",
       "универсал 3 дв.1        True          1   400000   400,000.00    400000\n",
       "универсал 5 дв.         False      1276        0         0.00         0\n",
       "                        True       1038    65000 1,066,043.02   7096200\n",
       "универсал 5 дв. qualis  True          1   345000   345,000.00    345000\n",
       "фастбек                 False         1        0         0.00         0\n",
       "фургон                  False        97        0         0.00         0\n",
       "                        True         76   100000   674,798.39   4950000\n",
       "хэтчбек 3 дв.           False       485        0         0.00         0\n",
       "                        True        290    50000   473,242.68   5050000\n",
       "хэтчбек 5 дв.           False      2124        0         0.00         0\n",
       "                        True       1661    23000   660,235.98   6690400"
      ]
     },
     "execution_count": 18,
     "metadata": {},
     "output_type": "execute_result"
    }
   ],
   "source": [
    "df.groupby(['bodyType', 'is_train'])['price'].agg(\n",
    "    ['count', 'min', 'mean', 'max'])"
   ]
  },
  {
   "cell_type": "markdown",
   "metadata": {},
   "source": [
    "### Рассмотрим поле enginePower"
   ]
  },
  {
   "cell_type": "markdown",
   "metadata": {},
   "source": [
    "Т.к. поля engine power и engine displacement - очень скоррелированы то нужно выбрать одно.\n",
    "у поля engine power есть преимущество, оно не равно 0 для электрокаров\n",
    "и расрпделение лог-нормально, можно прологарифмировать его"
   ]
  },
  {
   "cell_type": "code",
   "execution_count": 19,
   "metadata": {},
   "outputs": [
    {
     "data": {
      "image/png": "[encoded data removed]",
      "text/plain": [
       "<Figure size 1080x576 with 2 Axes>"
      ]
     },
     "metadata": {
      "needs_background": "light"
     },
     "output_type": "display_data"
    }
   ],
   "source": [
    "figure, (ax1,ax2) = plt.subplots(1,2,figsize = (15,8))\n",
    "ax1.hist(df.enginePower)\n",
    "ax2.hist(np.log(df.enginePower))\n",
    "figure.suptitle('Распределение мощности двигателя (исходное и в логарифмированной шкале)')\n",
    "plt.show()"
   ]
  },
  {
   "cell_type": "code",
   "execution_count": 20,
   "metadata": {},
   "outputs": [],
   "source": [
    "df['enginePower_log'] = np.log(df.enginePower)"
   ]
  },
  {
   "cell_type": "markdown",
   "metadata": {},
   "source": [
    "### mileage"
   ]
  },
  {
   "cell_type": "markdown",
   "metadata": {},
   "source": [
    "Поле конечно очень сильно влияет на цену авто.\n",
    "Отдельной категорией идут автомобили без пробега - выделим их отдельно\n",
    "и прологорифмируем колонку"
   ]
  },
  {
   "cell_type": "code",
   "execution_count": 21,
   "metadata": {},
   "outputs": [
    {
     "data": {
      "image/png": "[encoded data removed]",
      "text/plain": [
       "<Figure size 1080x576 with 2 Axes>"
      ]
     },
     "metadata": {
      "needs_background": "light"
     },
     "output_type": "display_data"
    }
   ],
   "source": [
    "figure, (ax1, ax2) = plt.subplots(1, 2, figsize=(15, 8))\n",
    "ax1.hist(df.mileage)\n",
    "ax2.hist(np.log(df.mileage+1))\n",
    "figure.suptitle('Распределение пробега (исходное и в логарифмированной шкале)')\n",
    "plt.show()"
   ]
  },
  {
   "cell_type": "code",
   "execution_count": 22,
   "metadata": {},
   "outputs": [],
   "source": [
    "df['mileage_is_0'] = (df.mileage == 0)\n",
    "df['mileage_log'] = np.log(df.mileage+1)"
   ]
  },
  {
   "cell_type": "markdown",
   "metadata": {},
   "source": [
    "## Объединим все вышеприведенное в одну функцию"
   ]
  },
  {
   "cell_type": "code",
   "execution_count": 23,
   "metadata": {},
   "outputs": [],
   "source": [
    "def feature_enginering_version1(df: pd.DataFrame):\n",
    "    \"\"\"запишем сюда все преобразования которые делали в этом разделе ноутбука\n",
    "    1) заполнили пропуски в поле engineDisplacement для электрокаров\n",
    "    2) сделали колонку логарифм цены\n",
    "    3) сделали свернутую колонки тип кузова bodyType_cut\n",
    "    4) сделали признак enginePower_log - логарифм от мощности двигателя\n",
    "    5) сделали признак пробег равен 0 mileage_is_0\n",
    "    6) сделали признак логарифм от пробега\"\"\"\n",
    "    \n",
    "    df.loc[df.fuelType == 'электро',\n",
    "           'engineDisplacement'] = df.loc[df.fuelType == 'электро',\n",
    "                                          'engineDisplacement'].fillna(0)\n",
    "\n",
    "    #df[\"price_log\"] = np.log(df[df.is_train==1].price)\n",
    "    \n",
    "    bodyTypes = {\n",
    "        'внедорожник открытый': 'внедорожник',\n",
    "        'внедорожник 5 дв.': 'внедорожник',\n",
    "        'седан': 'седан',\n",
    "        'лифтбек': 'хэтчбек',\n",
    "        'хэтчбек 5 дв.': 'хэтчбек',\n",
    "        'универсал 5 дв.': 'универсал',\n",
    "        'минивэн': 'минивэн',\n",
    "        'купе': 'купе',\n",
    "        'компактвэн': 'минивэн',\n",
    "        'хэтчбек 3 дв.': 'хэтчбек',\n",
    "        'пикап двойная кабина': 'пикап',\n",
    "        'внедорожник 3 дв.': 'внедорожник',\n",
    "        'купе-хардтоп': 'купе',\n",
    "        'кабриолет': 'кабриолет',\n",
    "        'родстер': 'родстер',\n",
    "        'фургон': 'фургон',\n",
    "        'микровэн': 'минивэн',\n",
    "        'седан-хардтоп': 'седан',\n",
    "        'седан 2 дв.': 'седан',\n",
    "        'пикап одинарная кабина': 'пикап',\n",
    "        'лимузин': 'лимузин',\n",
    "        'пикап полуторная кабина': 'пикап',\n",
    "        'внедорожник открытый': 'внедорожник',\n",
    "        'тарга': 'родстер',\n",
    "        'фастбек': 'хэтчбек',\n",
    "        'универсал 3 дв.1': 'универсал',\n",
    "    }\n",
    "    #df['bodyType_cut'] = df.bodyType.map(bodyTypes)\n",
    "\n",
    "    df['enginePower_log'] = np.log(df.enginePower)\n",
    "\n",
    "    df['mileage_is_0'] = (df.mileage == 0)\n",
    "    df['mileage_log'] = np.log(df.mileage + 1)"
   ]
  },
  {
   "cell_type": "code",
   "execution_count": 24,
   "metadata": {},
   "outputs": [],
   "source": [
    "feature_enginering_version1(df)"
   ]
  },
  {
   "cell_type": "markdown",
   "metadata": {},
   "source": [
    "### Попробуем новые данные в предсказании"
   ]
  },
  {
   "cell_type": "code",
   "execution_count": 25,
   "metadata": {},
   "outputs": [],
   "source": [
    "cat_cols = ['bodyType', 'brand', 'fuelType', 'color', 'model_name',\n",
    "            'vehicleTransmission', 'vendor', 'ПТС', 'Владельцы', 'Привод', 'Руль']\n",
    "num_cols = ['productionDate', 'numberOfDoors',\n",
    "            'engineDisplacement', 'mileage', ]"
   ]
  },
  {
   "cell_type": "code",
   "execution_count": 26,
   "metadata": {},
   "outputs": [],
   "source": [
    "model = RandomForestRegressor(100, random_state=RANDOM_STATE)"
   ]
  },
  {
   "cell_type": "code",
   "execution_count": 27,
   "metadata": {},
   "outputs": [],
   "source": [
    "X_train, X_test, y = prepare_data(cat_cols, num_cols)"
   ]
  },
  {
   "cell_type": "code",
   "execution_count": 30,
   "metadata": {},
   "outputs": [],
   "source": [
    "X_train, X_val, y_train, y_val = train_test_split(\n",
    "    X_train, y, test_size=0.3, shuffle=True, random_state=RANDOM_STATE)"
   ]
  },
  {
   "cell_type": "code",
   "execution_count": 32,
   "metadata": {},
   "outputs": [
    {
     "name": "stdout",
     "output_type": "stream",
     "text": [
      "MAPE: 12.089892765034726\n"
     ]
    }
   ],
   "source": [
    "model.fit(X_train, y_train)\n",
    "pred = model.predict(X_val)\n",
    "score = mape(pred, y_val)\n",
    "print(f\"MAPE: {score}\")"
   ]
  },
  {
   "cell_type": "markdown",
   "metadata": {},
   "source": [
    "Получили значение на отложенной выборке "
   ]
  },
  {
   "cell_type": "markdown",
   "metadata": {},
   "source": [
    "Теперь используем кроссвалидацию"
   ]
  },
  {
   "cell_type": "code",
   "execution_count": 35,
   "metadata": {},
   "outputs": [],
   "source": [
    "X_train, X_test, y = prepare_data(cat_cols, num_cols)"
   ]
  },
  {
   "cell_type": "code",
   "execution_count": 36,
   "metadata": {},
   "outputs": [
    {
     "name": "stdout",
     "output_type": "stream",
     "text": [
      "####################################################################################################\n",
      "RandomForestRegressor(random_state=43)\n",
      "train shape (37079, 832)\n",
      "cat_cols=['bodyType', 'brand', 'fuelType', 'color', 'model_name', 'vehicleTransmission', 'vendor', 'ПТС', 'Владельцы', 'Привод', 'Руль']\n",
      "num_cols=['productionDate', 'numberOfDoors', 'engineDisplacement', 'mileage']\n",
      "####################################################################################################\n",
      "Train result: 5.351748417774708\n",
      "CV result: 13.300122800191824 ([13.54188569 12.9191585  13.43932421])\n",
      "####################################################################################################\n",
      "Wall time: 2min 2s\n"
     ]
    }
   ],
   "source": [
    "%%time\n",
    "fit_and_score_model(model, X_train, y)"
   ]
  },
  {
   "cell_type": "markdown",
   "metadata": {},
   "source": [
    "На отложенной выборке результат получился лучше, чем при кроссвалидации"
   ]
  },
  {
   "cell_type": "markdown",
   "metadata": {},
   "source": [
    "### enginePower"
   ]
  },
  {
   "cell_type": "code",
   "execution_count": 37,
   "metadata": {},
   "outputs": [],
   "source": [
    "cat_cols = ['bodyType', 'brand', 'fuelType', 'color', 'model_name',\n",
    "            'vehicleTransmission', 'vendor', 'ПТС', 'Владельцы', 'Привод', 'Руль']\n",
    "num_cols = ['productionDate', 'numberOfDoors',\n",
    "            'enginePower_log', 'mileage', ]\n",
    "\n",
    "X_train, X_test, y = prepare_data(cat_cols, num_cols)"
   ]
  },
  {
   "cell_type": "code",
   "execution_count": 38,
   "metadata": {},
   "outputs": [
    {
     "name": "stdout",
     "output_type": "stream",
     "text": [
      "####################################################################################################\n",
      "RandomForestRegressor(random_state=43)\n",
      "train shape (37079, 832)\n",
      "cat_cols=['bodyType', 'brand', 'fuelType', 'color', 'model_name', 'vehicleTransmission', 'vendor', 'ПТС', 'Владельцы', 'Привод', 'Руль']\n",
      "num_cols=['productionDate', 'numberOfDoors', 'enginePower_log', 'mileage']\n",
      "####################################################################################################\n",
      "Train result: 5.066042820765032\n",
      "CV result: 12.710217267693169 ([12.65397809 12.40405701 13.0726167 ])\n",
      "####################################################################################################\n",
      "Wall time: 2min 5s\n"
     ]
    }
   ],
   "source": [
    "%%time\n",
    "fit_and_score_model(model, X_train, y)"
   ]
  },
  {
   "cell_type": "markdown",
   "metadata": {},
   "source": [
    "Показатель enginePower_log помогает лучше нам предсказывать."
   ]
  },
  {
   "cell_type": "markdown",
   "metadata": {},
   "source": [
    "### mileage"
   ]
  },
  {
   "cell_type": "code",
   "execution_count": 39,
   "metadata": {},
   "outputs": [],
   "source": [
    "cat_cols = ['bodyType', 'brand', 'fuelType', 'color', 'model_name',\n",
    "            'vehicleTransmission', 'vendor', 'ПТС', 'Владельцы', 'Привод', 'Руль']\n",
    "num_cols = ['productionDate', 'numberOfDoors',\n",
    "            'enginePower_log', 'mileage_log', ]\n",
    "\n",
    "X_train, X_test, y = prepare_data(cat_cols, num_cols)"
   ]
  },
  {
   "cell_type": "code",
   "execution_count": 41,
   "metadata": {},
   "outputs": [
    {
     "ename": "KeyboardInterrupt",
     "evalue": "",
     "output_type": "error",
     "traceback": [
      "\u001b[1;31m---------------------------------------------------------------------------\u001b[0m",
      "\u001b[1;31mKeyboardInterrupt\u001b[0m                         Traceback (most recent call last)",
      "\u001b[1;32m<timed eval>\u001b[0m in \u001b[0;36m<module>\u001b[1;34m\u001b[0m\n",
      "\u001b[1;32m<ipython-input-4-5a9479d28588>\u001b[0m in \u001b[0;36mfit_and_score_model\u001b[1;34m(model, X, y)\u001b[0m\n\u001b[0;32m      8\u001b[0m \u001b[1;33m\u001b[0m\u001b[0m\n\u001b[0;32m      9\u001b[0m     \u001b[0mkf\u001b[0m \u001b[1;33m=\u001b[0m \u001b[0mKFold\u001b[0m\u001b[1;33m(\u001b[0m\u001b[0mn_splits\u001b[0m\u001b[1;33m=\u001b[0m\u001b[1;36m3\u001b[0m\u001b[1;33m,\u001b[0m \u001b[0mshuffle\u001b[0m\u001b[1;33m=\u001b[0m\u001b[1;32mTrue\u001b[0m\u001b[1;33m,\u001b[0m \u001b[0mrandom_state\u001b[0m\u001b[1;33m=\u001b[0m\u001b[0mRANDOM_STATE\u001b[0m\u001b[1;33m)\u001b[0m\u001b[1;33m\u001b[0m\u001b[1;33m\u001b[0m\u001b[0m\n\u001b[1;32m---> 10\u001b[1;33m     cv_results = cross_val_score(\n\u001b[0m\u001b[0;32m     11\u001b[0m         model, X, y, cv=kf, n_jobs=-1, scoring=make_scorer(mape))\n\u001b[0;32m     12\u001b[0m \u001b[1;33m\u001b[0m\u001b[0m\n",
      "\u001b[1;32m~\\anaconda3\\lib\\site-packages\\sklearn\\utils\\validation.py\u001b[0m in \u001b[0;36minner_f\u001b[1;34m(*args, **kwargs)\u001b[0m\n\u001b[0;32m     71\u001b[0m                           FutureWarning)\n\u001b[0;32m     72\u001b[0m         \u001b[0mkwargs\u001b[0m\u001b[1;33m.\u001b[0m\u001b[0mupdate\u001b[0m\u001b[1;33m(\u001b[0m\u001b[1;33m{\u001b[0m\u001b[0mk\u001b[0m\u001b[1;33m:\u001b[0m \u001b[0marg\u001b[0m \u001b[1;32mfor\u001b[0m \u001b[0mk\u001b[0m\u001b[1;33m,\u001b[0m \u001b[0marg\u001b[0m \u001b[1;32min\u001b[0m \u001b[0mzip\u001b[0m\u001b[1;33m(\u001b[0m\u001b[0msig\u001b[0m\u001b[1;33m.\u001b[0m\u001b[0mparameters\u001b[0m\u001b[1;33m,\u001b[0m \u001b[0margs\u001b[0m\u001b[1;33m)\u001b[0m\u001b[1;33m}\u001b[0m\u001b[1;33m)\u001b[0m\u001b[1;33m\u001b[0m\u001b[1;33m\u001b[0m\u001b[0m\n\u001b[1;32m---> 73\u001b[1;33m         \u001b[1;32mreturn\u001b[0m \u001b[0mf\u001b[0m\u001b[1;33m(\u001b[0m\u001b[1;33m**\u001b[0m\u001b[0mkwargs\u001b[0m\u001b[1;33m)\u001b[0m\u001b[1;33m\u001b[0m\u001b[1;33m\u001b[0m\u001b[0m\n\u001b[0m\u001b[0;32m     74\u001b[0m     \u001b[1;32mreturn\u001b[0m \u001b[0minner_f\u001b[0m\u001b[1;33m\u001b[0m\u001b[1;33m\u001b[0m\u001b[0m\n\u001b[0;32m     75\u001b[0m \u001b[1;33m\u001b[0m\u001b[0m\n",
      "\u001b[1;32m~\\anaconda3\\lib\\site-packages\\sklearn\\model_selection\\_validation.py\u001b[0m in \u001b[0;36mcross_val_score\u001b[1;34m(estimator, X, y, groups, scoring, cv, n_jobs, verbose, fit_params, pre_dispatch, error_score)\u001b[0m\n\u001b[0;32m    399\u001b[0m     \u001b[0mscorer\u001b[0m \u001b[1;33m=\u001b[0m \u001b[0mcheck_scoring\u001b[0m\u001b[1;33m(\u001b[0m\u001b[0mestimator\u001b[0m\u001b[1;33m,\u001b[0m \u001b[0mscoring\u001b[0m\u001b[1;33m=\u001b[0m\u001b[0mscoring\u001b[0m\u001b[1;33m)\u001b[0m\u001b[1;33m\u001b[0m\u001b[1;33m\u001b[0m\u001b[0m\n\u001b[0;32m    400\u001b[0m \u001b[1;33m\u001b[0m\u001b[0m\n\u001b[1;32m--> 401\u001b[1;33m     cv_results = cross_validate(estimator=estimator, X=X, y=y, groups=groups,\n\u001b[0m\u001b[0;32m    402\u001b[0m                                 \u001b[0mscoring\u001b[0m\u001b[1;33m=\u001b[0m\u001b[1;33m{\u001b[0m\u001b[1;34m'score'\u001b[0m\u001b[1;33m:\u001b[0m \u001b[0mscorer\u001b[0m\u001b[1;33m}\u001b[0m\u001b[1;33m,\u001b[0m \u001b[0mcv\u001b[0m\u001b[1;33m=\u001b[0m\u001b[0mcv\u001b[0m\u001b[1;33m,\u001b[0m\u001b[1;33m\u001b[0m\u001b[1;33m\u001b[0m\u001b[0m\n\u001b[0;32m    403\u001b[0m                                 \u001b[0mn_jobs\u001b[0m\u001b[1;33m=\u001b[0m\u001b[0mn_jobs\u001b[0m\u001b[1;33m,\u001b[0m \u001b[0mverbose\u001b[0m\u001b[1;33m=\u001b[0m\u001b[0mverbose\u001b[0m\u001b[1;33m,\u001b[0m\u001b[1;33m\u001b[0m\u001b[1;33m\u001b[0m\u001b[0m\n",
      "\u001b[1;32m~\\anaconda3\\lib\\site-packages\\sklearn\\utils\\validation.py\u001b[0m in \u001b[0;36minner_f\u001b[1;34m(*args, **kwargs)\u001b[0m\n\u001b[0;32m     71\u001b[0m                           FutureWarning)\n\u001b[0;32m     72\u001b[0m         \u001b[0mkwargs\u001b[0m\u001b[1;33m.\u001b[0m\u001b[0mupdate\u001b[0m\u001b[1;33m(\u001b[0m\u001b[1;33m{\u001b[0m\u001b[0mk\u001b[0m\u001b[1;33m:\u001b[0m \u001b[0marg\u001b[0m \u001b[1;32mfor\u001b[0m \u001b[0mk\u001b[0m\u001b[1;33m,\u001b[0m \u001b[0marg\u001b[0m \u001b[1;32min\u001b[0m \u001b[0mzip\u001b[0m\u001b[1;33m(\u001b[0m\u001b[0msig\u001b[0m\u001b[1;33m.\u001b[0m\u001b[0mparameters\u001b[0m\u001b[1;33m,\u001b[0m \u001b[0margs\u001b[0m\u001b[1;33m)\u001b[0m\u001b[1;33m}\u001b[0m\u001b[1;33m)\u001b[0m\u001b[1;33m\u001b[0m\u001b[1;33m\u001b[0m\u001b[0m\n\u001b[1;32m---> 73\u001b[1;33m         \u001b[1;32mreturn\u001b[0m \u001b[0mf\u001b[0m\u001b[1;33m(\u001b[0m\u001b[1;33m**\u001b[0m\u001b[0mkwargs\u001b[0m\u001b[1;33m)\u001b[0m\u001b[1;33m\u001b[0m\u001b[1;33m\u001b[0m\u001b[0m\n\u001b[0m\u001b[0;32m     74\u001b[0m     \u001b[1;32mreturn\u001b[0m \u001b[0minner_f\u001b[0m\u001b[1;33m\u001b[0m\u001b[1;33m\u001b[0m\u001b[0m\n\u001b[0;32m     75\u001b[0m \u001b[1;33m\u001b[0m\u001b[0m\n",
      "\u001b[1;32m~\\anaconda3\\lib\\site-packages\\sklearn\\model_selection\\_validation.py\u001b[0m in \u001b[0;36mcross_validate\u001b[1;34m(estimator, X, y, groups, scoring, cv, n_jobs, verbose, fit_params, pre_dispatch, return_train_score, return_estimator, error_score)\u001b[0m\n\u001b[0;32m    240\u001b[0m     parallel = Parallel(n_jobs=n_jobs, verbose=verbose,\n\u001b[0;32m    241\u001b[0m                         pre_dispatch=pre_dispatch)\n\u001b[1;32m--> 242\u001b[1;33m     scores = parallel(\n\u001b[0m\u001b[0;32m    243\u001b[0m         delayed(_fit_and_score)(\n\u001b[0;32m    244\u001b[0m             \u001b[0mclone\u001b[0m\u001b[1;33m(\u001b[0m\u001b[0mestimator\u001b[0m\u001b[1;33m)\u001b[0m\u001b[1;33m,\u001b[0m \u001b[0mX\u001b[0m\u001b[1;33m,\u001b[0m \u001b[0my\u001b[0m\u001b[1;33m,\u001b[0m \u001b[0mscorers\u001b[0m\u001b[1;33m,\u001b[0m \u001b[0mtrain\u001b[0m\u001b[1;33m,\u001b[0m \u001b[0mtest\u001b[0m\u001b[1;33m,\u001b[0m \u001b[0mverbose\u001b[0m\u001b[1;33m,\u001b[0m \u001b[1;32mNone\u001b[0m\u001b[1;33m,\u001b[0m\u001b[1;33m\u001b[0m\u001b[1;33m\u001b[0m\u001b[0m\n",
      "\u001b[1;32m~\\anaconda3\\lib\\site-packages\\joblib\\parallel.py\u001b[0m in \u001b[0;36m__call__\u001b[1;34m(self, iterable)\u001b[0m\n\u001b[0;32m   1040\u001b[0m \u001b[1;33m\u001b[0m\u001b[0m\n\u001b[0;32m   1041\u001b[0m             \u001b[1;32mwith\u001b[0m \u001b[0mself\u001b[0m\u001b[1;33m.\u001b[0m\u001b[0m_backend\u001b[0m\u001b[1;33m.\u001b[0m\u001b[0mretrieval_context\u001b[0m\u001b[1;33m(\u001b[0m\u001b[1;33m)\u001b[0m\u001b[1;33m:\u001b[0m\u001b[1;33m\u001b[0m\u001b[1;33m\u001b[0m\u001b[0m\n\u001b[1;32m-> 1042\u001b[1;33m                 \u001b[0mself\u001b[0m\u001b[1;33m.\u001b[0m\u001b[0mretrieve\u001b[0m\u001b[1;33m(\u001b[0m\u001b[1;33m)\u001b[0m\u001b[1;33m\u001b[0m\u001b[1;33m\u001b[0m\u001b[0m\n\u001b[0m\u001b[0;32m   1043\u001b[0m             \u001b[1;31m# Make sure that we get a last message telling us we are done\u001b[0m\u001b[1;33m\u001b[0m\u001b[1;33m\u001b[0m\u001b[1;33m\u001b[0m\u001b[0m\n\u001b[0;32m   1044\u001b[0m             \u001b[0melapsed_time\u001b[0m \u001b[1;33m=\u001b[0m \u001b[0mtime\u001b[0m\u001b[1;33m.\u001b[0m\u001b[0mtime\u001b[0m\u001b[1;33m(\u001b[0m\u001b[1;33m)\u001b[0m \u001b[1;33m-\u001b[0m \u001b[0mself\u001b[0m\u001b[1;33m.\u001b[0m\u001b[0m_start_time\u001b[0m\u001b[1;33m\u001b[0m\u001b[1;33m\u001b[0m\u001b[0m\n",
      "\u001b[1;32m~\\anaconda3\\lib\\site-packages\\joblib\\parallel.py\u001b[0m in \u001b[0;36mretrieve\u001b[1;34m(self)\u001b[0m\n\u001b[0;32m    919\u001b[0m             \u001b[1;32mtry\u001b[0m\u001b[1;33m:\u001b[0m\u001b[1;33m\u001b[0m\u001b[1;33m\u001b[0m\u001b[0m\n\u001b[0;32m    920\u001b[0m                 \u001b[1;32mif\u001b[0m \u001b[0mgetattr\u001b[0m\u001b[1;33m(\u001b[0m\u001b[0mself\u001b[0m\u001b[1;33m.\u001b[0m\u001b[0m_backend\u001b[0m\u001b[1;33m,\u001b[0m \u001b[1;34m'supports_timeout'\u001b[0m\u001b[1;33m,\u001b[0m \u001b[1;32mFalse\u001b[0m\u001b[1;33m)\u001b[0m\u001b[1;33m:\u001b[0m\u001b[1;33m\u001b[0m\u001b[1;33m\u001b[0m\u001b[0m\n\u001b[1;32m--> 921\u001b[1;33m                     \u001b[0mself\u001b[0m\u001b[1;33m.\u001b[0m\u001b[0m_output\u001b[0m\u001b[1;33m.\u001b[0m\u001b[0mextend\u001b[0m\u001b[1;33m(\u001b[0m\u001b[0mjob\u001b[0m\u001b[1;33m.\u001b[0m\u001b[0mget\u001b[0m\u001b[1;33m(\u001b[0m\u001b[0mtimeout\u001b[0m\u001b[1;33m=\u001b[0m\u001b[0mself\u001b[0m\u001b[1;33m.\u001b[0m\u001b[0mtimeout\u001b[0m\u001b[1;33m)\u001b[0m\u001b[1;33m)\u001b[0m\u001b[1;33m\u001b[0m\u001b[1;33m\u001b[0m\u001b[0m\n\u001b[0m\u001b[0;32m    922\u001b[0m                 \u001b[1;32melse\u001b[0m\u001b[1;33m:\u001b[0m\u001b[1;33m\u001b[0m\u001b[1;33m\u001b[0m\u001b[0m\n\u001b[0;32m    923\u001b[0m                     \u001b[0mself\u001b[0m\u001b[1;33m.\u001b[0m\u001b[0m_output\u001b[0m\u001b[1;33m.\u001b[0m\u001b[0mextend\u001b[0m\u001b[1;33m(\u001b[0m\u001b[0mjob\u001b[0m\u001b[1;33m.\u001b[0m\u001b[0mget\u001b[0m\u001b[1;33m(\u001b[0m\u001b[1;33m)\u001b[0m\u001b[1;33m)\u001b[0m\u001b[1;33m\u001b[0m\u001b[1;33m\u001b[0m\u001b[0m\n",
      "\u001b[1;32m~\\anaconda3\\lib\\site-packages\\joblib\\_parallel_backends.py\u001b[0m in \u001b[0;36mwrap_future_result\u001b[1;34m(future, timeout)\u001b[0m\n\u001b[0;32m    540\u001b[0m         AsyncResults.get from multiprocessing.\"\"\"\n\u001b[0;32m    541\u001b[0m         \u001b[1;32mtry\u001b[0m\u001b[1;33m:\u001b[0m\u001b[1;33m\u001b[0m\u001b[1;33m\u001b[0m\u001b[0m\n\u001b[1;32m--> 542\u001b[1;33m             \u001b[1;32mreturn\u001b[0m \u001b[0mfuture\u001b[0m\u001b[1;33m.\u001b[0m\u001b[0mresult\u001b[0m\u001b[1;33m(\u001b[0m\u001b[0mtimeout\u001b[0m\u001b[1;33m=\u001b[0m\u001b[0mtimeout\u001b[0m\u001b[1;33m)\u001b[0m\u001b[1;33m\u001b[0m\u001b[1;33m\u001b[0m\u001b[0m\n\u001b[0m\u001b[0;32m    543\u001b[0m         \u001b[1;32mexcept\u001b[0m \u001b[0mCfTimeoutError\u001b[0m \u001b[1;32mas\u001b[0m \u001b[0me\u001b[0m\u001b[1;33m:\u001b[0m\u001b[1;33m\u001b[0m\u001b[1;33m\u001b[0m\u001b[0m\n\u001b[0;32m    544\u001b[0m             \u001b[1;32mraise\u001b[0m \u001b[0mTimeoutError\u001b[0m \u001b[1;32mfrom\u001b[0m \u001b[0me\u001b[0m\u001b[1;33m\u001b[0m\u001b[1;33m\u001b[0m\u001b[0m\n",
      "\u001b[1;32m~\\anaconda3\\lib\\concurrent\\futures\\_base.py\u001b[0m in \u001b[0;36mresult\u001b[1;34m(self, timeout)\u001b[0m\n\u001b[0;32m    432\u001b[0m                 \u001b[1;32mreturn\u001b[0m \u001b[0mself\u001b[0m\u001b[1;33m.\u001b[0m\u001b[0m__get_result\u001b[0m\u001b[1;33m(\u001b[0m\u001b[1;33m)\u001b[0m\u001b[1;33m\u001b[0m\u001b[1;33m\u001b[0m\u001b[0m\n\u001b[0;32m    433\u001b[0m \u001b[1;33m\u001b[0m\u001b[0m\n\u001b[1;32m--> 434\u001b[1;33m             \u001b[0mself\u001b[0m\u001b[1;33m.\u001b[0m\u001b[0m_condition\u001b[0m\u001b[1;33m.\u001b[0m\u001b[0mwait\u001b[0m\u001b[1;33m(\u001b[0m\u001b[0mtimeout\u001b[0m\u001b[1;33m)\u001b[0m\u001b[1;33m\u001b[0m\u001b[1;33m\u001b[0m\u001b[0m\n\u001b[0m\u001b[0;32m    435\u001b[0m \u001b[1;33m\u001b[0m\u001b[0m\n\u001b[0;32m    436\u001b[0m             \u001b[1;32mif\u001b[0m \u001b[0mself\u001b[0m\u001b[1;33m.\u001b[0m\u001b[0m_state\u001b[0m \u001b[1;32min\u001b[0m \u001b[1;33m[\u001b[0m\u001b[0mCANCELLED\u001b[0m\u001b[1;33m,\u001b[0m \u001b[0mCANCELLED_AND_NOTIFIED\u001b[0m\u001b[1;33m]\u001b[0m\u001b[1;33m:\u001b[0m\u001b[1;33m\u001b[0m\u001b[1;33m\u001b[0m\u001b[0m\n",
      "\u001b[1;32m~\\anaconda3\\lib\\threading.py\u001b[0m in \u001b[0;36mwait\u001b[1;34m(self, timeout)\u001b[0m\n\u001b[0;32m    300\u001b[0m         \u001b[1;32mtry\u001b[0m\u001b[1;33m:\u001b[0m    \u001b[1;31m# restore state no matter what (e.g., KeyboardInterrupt)\u001b[0m\u001b[1;33m\u001b[0m\u001b[1;33m\u001b[0m\u001b[0m\n\u001b[0;32m    301\u001b[0m             \u001b[1;32mif\u001b[0m \u001b[0mtimeout\u001b[0m \u001b[1;32mis\u001b[0m \u001b[1;32mNone\u001b[0m\u001b[1;33m:\u001b[0m\u001b[1;33m\u001b[0m\u001b[1;33m\u001b[0m\u001b[0m\n\u001b[1;32m--> 302\u001b[1;33m                 \u001b[0mwaiter\u001b[0m\u001b[1;33m.\u001b[0m\u001b[0macquire\u001b[0m\u001b[1;33m(\u001b[0m\u001b[1;33m)\u001b[0m\u001b[1;33m\u001b[0m\u001b[1;33m\u001b[0m\u001b[0m\n\u001b[0m\u001b[0;32m    303\u001b[0m                 \u001b[0mgotit\u001b[0m \u001b[1;33m=\u001b[0m \u001b[1;32mTrue\u001b[0m\u001b[1;33m\u001b[0m\u001b[1;33m\u001b[0m\u001b[0m\n\u001b[0;32m    304\u001b[0m             \u001b[1;32melse\u001b[0m\u001b[1;33m:\u001b[0m\u001b[1;33m\u001b[0m\u001b[1;33m\u001b[0m\u001b[0m\n",
      "\u001b[1;31mKeyboardInterrupt\u001b[0m: "
     ]
    }
   ],
   "source": [
    "%%time\n",
    "fit_and_score_model(model, X_train, y)"
   ]
  },
  {
   "cell_type": "markdown",
   "metadata": {},
   "source": [
    "Показатель mileage_log тоже немножко улучшил нашу модель"
   ]
  },
  {
   "cell_type": "markdown",
   "metadata": {},
   "source": [
    "### milleage_is_0"
   ]
  },
  {
   "cell_type": "code",
   "execution_count": 42,
   "metadata": {},
   "outputs": [],
   "source": [
    "cat_cols = ['bodyType', 'brand', 'fuelType', 'color', 'model_name',\n",
    "            'vehicleTransmission', 'vendor', 'ПТС', 'Владельцы', 'Привод', 'Руль', 'mileage_is_0']\n",
    "num_cols = ['productionDate', 'numberOfDoors',\n",
    "            'enginePower_log', 'mileage_log', ]\n",
    "\n",
    "X_train, X_test, y = prepare_data(cat_cols, num_cols)"
   ]
  },
  {
   "cell_type": "code",
   "execution_count": 43,
   "metadata": {},
   "outputs": [
    {
     "name": "stdout",
     "output_type": "stream",
     "text": [
      "####################################################################################################\n",
      "RandomForestRegressor(random_state=43)\n",
      "train shape (37079, 834)\n",
      "cat_cols=['bodyType', 'brand', 'fuelType', 'color', 'model_name', 'vehicleTransmission', 'vendor', 'ПТС', 'Владельцы', 'Привод', 'Руль', 'mileage_is_0']\n",
      "num_cols=['productionDate', 'numberOfDoors', 'enginePower_log', 'mileage_log']\n",
      "####################################################################################################\n",
      "Train result: 5.075781569676935\n",
      "CV result: 12.677495889005883 ([12.62094294 12.39945629 13.01208844])\n",
      "####################################################################################################\n",
      "Wall time: 2min 5s\n"
     ]
    }
   ],
   "source": [
    "%%time\n",
    "fit_and_score_model(model, X_train, y)"
   ]
  },
  {
   "cell_type": "markdown",
   "metadata": {},
   "source": [
    "Показатель mieage_is_0 никак не помог. Хотя может быть для других видов моделей (линейной) он бы был полезен."
   ]
  },
  {
   "cell_type": "markdown",
   "metadata": {},
   "source": [
    "### Линейная регрессия\n",
    "Сделаем модель Лассо-регрессии, чтобы посмотреть какие коэффициенты обнуляться"
   ]
  },
  {
   "cell_type": "code",
   "execution_count": 44,
   "metadata": {},
   "outputs": [],
   "source": [
    "model = Lasso(alpha=3)"
   ]
  },
  {
   "cell_type": "code",
   "execution_count": 45,
   "metadata": {},
   "outputs": [],
   "source": [
    "cat_cols = ['bodyType', 'brand', 'fuelType', 'color', 'model_name',\n",
    "            'vehicleTransmission', 'vendor', 'ПТС', 'Владельцы', 'Привод', 'Руль', 'mileage_is_0']\n",
    "num_cols = ['productionDate', 'numberOfDoors',\n",
    "            'enginePower_log', 'mileage_log', ]\n",
    "\n",
    "X_train, X_test, y = prepare_data(cat_cols, num_cols)"
   ]
  },
  {
   "cell_type": "code",
   "execution_count": 46,
   "metadata": {},
   "outputs": [
    {
     "name": "stderr",
     "output_type": "stream",
     "text": [
      "C:\\Users\\User-PC\\anaconda3\\lib\\site-packages\\sklearn\\linear_model\\_coordinate_descent.py:529: ConvergenceWarning: Objective did not converge. You might want to increase the number of iterations. Duality gap: 1.4289631513876188e+16, tolerance: 22338945061031.05\n",
      "  model = cd_fast.enet_coordinate_descent(\n"
     ]
    },
    {
     "name": "stdout",
     "output_type": "stream",
     "text": [
      "####################################################################################################\n",
      "Lasso(alpha=3)\n",
      "train shape (37079, 834)\n",
      "cat_cols=['bodyType', 'brand', 'fuelType', 'color', 'model_name', 'vehicleTransmission', 'vendor', 'ПТС', 'Владельцы', 'Привод', 'Руль', 'mileage_is_0']\n",
      "num_cols=['productionDate', 'numberOfDoors', 'enginePower_log', 'mileage_log']\n",
      "####################################################################################################\n",
      "Train result: 53.55282276390011\n",
      "CV result: 55.42700286367201 ([55.36774441 55.36763635 55.54562783])\n",
      "####################################################################################################\n",
      "Wall time: 45.6 s\n"
     ]
    }
   ],
   "source": [
    "%%time\n",
    "fit_and_score_model(model, X_train, y)"
   ]
  },
  {
   "cell_type": "code",
   "execution_count": 47,
   "metadata": {},
   "outputs": [
    {
     "name": "stdout",
     "output_type": "stream",
     "text": [
      "(834,)\n"
     ]
    },
    {
     "data": {
      "text/plain": [
       "array(['bodyType_пикап полуторная кабина', 'bodyType_тарга',\n",
       "       'bodyType_фастбек', 'color_бежевый', 'color_коричневый',\n",
       "       'color_пурпурный', 'color_серебристый', 'model_name_02',\n",
       "       'model_name_02 (E10)', 'model_name_100NX', 'model_name_100_SERIES',\n",
       "       'model_name_120', 'model_name_140', 'model_name_190_SL',\n",
       "       'model_name_1ER', 'model_name_240_SERIES', 'model_name_280ZX',\n",
       "       'model_name_2ACTIVETOURER', 'model_name_2ER',\n",
       "       'model_name_2GRANDTOURER', 'model_name_350Z', 'model_name_3ER',\n",
       "       'model_name_4', 'model_name_5ER', 'model_name_6ER',\n",
       "       'model_name_7ER', 'model_name_8ER', 'model_name_A4_ALLROAD',\n",
       "       'model_name_ACTY', 'model_name_ALLEX', 'model_name_ALLROAD',\n",
       "       'model_name_ALMERA_CLASSIC', 'model_name_ALMERA_TINO',\n",
       "       'model_name_AMG_GLC_COUPE', 'model_name_AMG_GT',\n",
       "       'model_name_ARTEON', 'model_name_ATLAS',\n",
       "       'model_name_AVENSIS_VERSO', 'model_name_A_KLASSE',\n",
       "       'model_name_A_KLASSE_AMG', 'model_name_BLUEBIRD_SYLPHY',\n",
       "       'model_name_B_KLASSE', 'model_name_CALDINA',\n",
       "       'model_name_CAMRY_SOLARA', 'model_name_CARAVAN_COACH',\n",
       "       'model_name_CARINA_E', 'model_name_CARINA_ED',\n",
       "       'model_name_CAVALIER', 'model_name_CHALLENGER', 'model_name_CITY',\n",
       "       'model_name_CIVIC_FERIO', 'model_name_CIVIC_TYPE_R',\n",
       "       'model_name_CLA_KLASSE', 'model_name_CLA_KLASSE_AMG',\n",
       "       'model_name_CLC_KLASSE', 'model_name_CLIPPER',\n",
       "       'model_name_CLK_KLASSE', 'model_name_CLS_KLASSE',\n",
       "       'model_name_CLS_KLASSE_AMG', 'model_name_CL_KLASSE',\n",
       "       'model_name_CL_KLASSE_AMG', 'model_name_COROLLA_II',\n",
       "       'model_name_COROLLA_LEVIN', 'model_name_COROLLA_RUMION',\n",
       "       'model_name_COROLLA_SPACIO', 'model_name_COROLLA_VERSO',\n",
       "       'model_name_CORONA_EXIV', 'model_name_CROWN_MAJESTA',\n",
       "       'model_name_CR_V', 'model_name_CR_X', 'model_name_CR_Z',\n",
       "       'model_name_CT', 'model_name_CURREN', 'model_name_CYNOS',\n",
       "       'model_name_C_HR', 'model_name_C_KLASSE',\n",
       "       'model_name_C_KLASSE_AMG', 'model_name_DATSUN',\n",
       "       'model_name_DAYZ_ROOX', 'model_name_DELICA_D2',\n",
       "       'model_name_DELICA_D_5', 'model_name_DIAMANTE', 'model_name_E3',\n",
       "       'model_name_ECLIPSE_CROSS', 'model_name_EK_WAGON',\n",
       "       'model_name_EMERAUDE', 'model_name_EOS', 'model_name_ES',\n",
       "       'model_name_ESQUIRE', 'model_name_EUROVAN', 'model_name_E_KLASSE',\n",
       "       'model_name_E_KLASSE_AMG', 'model_name_E_TRON',\n",
       "       'model_name_FABIA_RS', 'model_name_FAIRLADY_Z',\n",
       "       'model_name_FJ_CRUISER', 'model_name_FOX', 'model_name_FR_V',\n",
       "       'model_name_G35', 'model_name_GLA_CLASS',\n",
       "       'model_name_GLA_CLASS_AMG', 'model_name_GLB_KLASSE',\n",
       "       'model_name_GLC_COUPE', 'model_name_GLC_KLASSE',\n",
       "       'model_name_GLC_KLASSE_AMG', 'model_name_GLE_KLASSE',\n",
       "       'model_name_GLE_KLASSE_AMG', 'model_name_GLE_KLASSE_COUPE',\n",
       "       'model_name_GLE_KLASSE_COUPE_AMG', 'model_name_GLK_KLASSE',\n",
       "       'model_name_GLS_KLASSE', 'model_name_GLS_KLASSE_AMG',\n",
       "       'model_name_GL_KLASSE', 'model_name_GL_KLASSE_AMG',\n",
       "       'model_name_GOLF_GTI', 'model_name_GOLF_PLUS', 'model_name_GOLF_R',\n",
       "       'model_name_GOLF_R32', 'model_name_GRAND_HIACE',\n",
       "       'model_name_GRANVIA', 'model_name_GTO', 'model_name_GT_R',\n",
       "       'model_name_G_KLASSE', 'model_name_G_KLASSE_AMG',\n",
       "       'model_name_HILUX', 'model_name_HILUX_SURF', 'model_name_HR_V',\n",
       "       'model_name_IPSUM', 'model_name_ISIS', 'model_name_IST',\n",
       "       'model_name_I_MIEV', 'model_name_JEEP J', 'model_name_JUKE_NISMO',\n",
       "       'model_name_KIX', 'model_name_LAFESTA',\n",
       "       'model_name_LANCER_EVOLUTION', 'model_name_LANCER_RALLIART',\n",
       "       'model_name_LAND_CRUISER', 'model_name_LAND_CRUISER_PRADO',\n",
       "       'model_name_LIFE', 'model_name_LITE_ACE', 'model_name_M1',\n",
       "       'model_name_M2', 'model_name_MARK_II', 'model_name_MARK_X',\n",
       "       'model_name_MARK_X_ZIO', 'model_name_MASTER_ACE_SURF',\n",
       "       'model_name_MATRIX', 'model_name_MAYBACH_GLS',\n",
       "       'model_name_MEGA_CRUISER', 'model_name_MINICA',\n",
       "       'model_name_MOBILIO_SPIKE', 'model_name_MONTERO_SPORT',\n",
       "       'model_name_MR_S', 'model_name_M_KLASSE',\n",
       "       'model_name_M_KLASSE_AMG', 'model_name_NADIA', 'model_name_NAVARA',\n",
       "       'model_name_N_BOX', 'model_name_N_WGN', 'model_name_OCTAVIA_RS',\n",
       "       'model_name_ODYSSEY', 'model_name_ODYSSEY_NA', 'model_name_ORIGIN',\n",
       "       'model_name_PAJERO_IO', 'model_name_PAJERO_MINI',\n",
       "       'model_name_PAJERO_PININ', 'model_name_PAJERO_SPORT',\n",
       "       'model_name_PASEO', 'model_name_PASSAT_CC', 'model_name_PICNIC',\n",
       "       'model_name_POLO_GTI', 'model_name_POPULAR', 'model_name_PRAIRIE',\n",
       "       'model_name_PREMIO', 'model_name_PRESAGE', 'model_name_PRESEA',\n",
       "       'model_name_PRIUSPLUS', 'model_name_PRIUS_ALPHA',\n",
       "       'model_name_PROGRES', 'model_name_PRONARD',\n",
       "       'model_name_QASHQAI_PLUS_2', 'model_name_QUEST', 'model_name_QX70',\n",
       "       'model_name_RAV_4', 'model_name_RC', 'model_name_REGIUS',\n",
       "       'model_name_RIDGELINE', 'model_name_RNESSA', 'model_name_RS3',\n",
       "       'model_name_RS4', 'model_name_RS5', 'model_name_RS6',\n",
       "       'model_name_RS7', 'model_name_RSQ3', 'model_name_R_KLASSE',\n",
       "       'model_name_S60_CROSS_COUNTRY', 'model_name_SCEPTER_SEDAN',\n",
       "       'model_name_SIENTA', 'model_name_SIMPLEX', 'model_name_SLC_KLASSE',\n",
       "       'model_name_SLK_KLASSE', 'model_name_SLR_KLASSE',\n",
       "       'model_name_SLS_AMG', 'model_name_SL_KLASSE',\n",
       "       'model_name_SL_KLASSE_AMG', 'model_name_SOARER',\n",
       "       'model_name_SPACE_GEAR', 'model_name_SPACE_RUNNER',\n",
       "       'model_name_SPACE_STAR', 'model_name_SPACE_WAGON',\n",
       "       'model_name_SPADE', 'model_name_SPRINTER_CARIB',\n",
       "       'model_name_SPRINTER_MARINO', 'model_name_SPRINTER_TRUENO',\n",
       "       'model_name_STEPWAGON', 'model_name_SUCCEED',\n",
       "       'model_name_S_CLASS_MAYBACH', 'model_name_S_KLASSE',\n",
       "       'model_name_S_KLASSE_AMG', 'model_name_TACOMA', 'model_name_TARO',\n",
       "       'model_name_TERRANO_REGULUS', 'model_name_TOWN_ACE',\n",
       "       'model_name_TT_RS', 'model_name_TYPE_1', 'model_name_URVAN',\n",
       "       'model_name_V40', 'model_name_V40_CC',\n",
       "       'model_name_V60_CROSS_COUNTRY', 'model_name_V90_CROSS_COUNTRY',\n",
       "       'model_name_VELLFIRE', 'model_name_VERSO_S', 'model_name_VEZEL',\n",
       "       'model_name_VIGOR', 'model_name_V_KLASSE', 'model_name_W136',\n",
       "       'model_name_W186', 'model_name_W201', 'model_name_WILL_CYPHA',\n",
       "       'model_name_WISH', 'model_name_X3_M', 'model_name_X4_M',\n",
       "       'model_name_X5_M', 'model_name_X6_M', 'model_name_XTERRA',\n",
       "       'model_name_X_KLASSE', 'model_name_X_TRAIL',\n",
       "       'model_name_YARIS VERSO', 'model_name_YARIS_VERSO',\n",
       "       'model_name_Z1', 'model_name_Z3M', 'ПТС_Оригинал'], dtype=object)"
      ]
     },
     "execution_count": 47,
     "metadata": {},
     "output_type": "execute_result"
    }
   ],
   "source": [
    "coefs = pd.Series(model.coef_, index=X_train.columns)\n",
    "print(coefs.shape)\n",
    "coefs[coefs==0].index.values"
   ]
  },
  {
   "cell_type": "markdown",
   "metadata": {},
   "source": [
    "Линейная регрессия конечно очень плохо справилась, но зато можно посмотреть какие коэффициенты она обнулала. Lasso регрессия обнулила 814 коэффициентов, в основном это dummy колонки по model_name"
   ]
  },
  {
   "cell_type": "markdown",
   "metadata": {},
   "source": [
    "### model_name"
   ]
  },
  {
   "cell_type": "markdown",
   "metadata": {},
   "source": [
    "В текущем наборе мы эту колонку сделали dummy колонкой и наша Lasso модель обнулила много коэффициентов по ней\n",
    "наверное стоит сделать ограничение на эту колонку, чтобы не засорять модель 733 новыми колонками\n",
    "определим, сколько моделей стоит учитывать\n",
    "\n",
    "увидел что в колонке есть значение с пробелами и с подчеркиваниями (наверное в тесте и в трейне разные парсеры) - исправим это\n",
    "думаю 50 моделей - нормальное число, как раз только 50 моделей встерчаются более 500 раз, остальные меньше"
   ]
  },
  {
   "cell_type": "code",
   "execution_count": 48,
   "metadata": {},
   "outputs": [],
   "source": [
    "df.model_name = df.model_name.str.replace(' ', '_')"
   ]
  },
  {
   "cell_type": "code",
   "execution_count": 49,
   "metadata": {},
   "outputs": [
    {
     "data": {
      "text/plain": [
       "FX              548\n",
       "GLC             547\n",
       "S60             530\n",
       "YETI            509\n",
       "SUPERB          506\n",
       "FABIA           497\n",
       "Q5              489\n",
       "A5              481\n",
       "JUKE            477\n",
       "GLE_COUPE       463\n",
       "A3              447\n",
       "RAV_4           447\n",
       "PAJERO_SPORT    444\n",
       "C_KLASSE        428\n",
       "A8              425\n",
       "MURANO          424\n",
       "LX              424\n",
       "X1              411\n",
       "KODIAQ          409\n",
       "TERRANO         407\n",
       "Name: model_name, dtype: int64"
      ]
     },
     "execution_count": 49,
     "metadata": {},
     "output_type": "execute_result"
    }
   ],
   "source": [
    "df.model_name.value_counts()[40:60]"
   ]
  },
  {
   "cell_type": "code",
   "execution_count": 50,
   "metadata": {},
   "outputs": [],
   "source": [
    "top_models = df.model_name.value_counts()[:50].index\n",
    "df['model_name_cut'] = df.model_name\n",
    "df.loc[~df.model_name.isin(top_models), 'model_name_cut'] = 'RARE_MODEL'"
   ]
  },
  {
   "cell_type": "code",
   "execution_count": 51,
   "metadata": {},
   "outputs": [
    {
     "data": {
      "text/plain": [
       "RARE_MODEL            28190\n",
       "OCTAVIA                2839\n",
       "POLO                   1874\n",
       "OUTLANDER              1637\n",
       "A6                     1580\n",
       "LANCER                 1568\n",
       "QASHQAI                1547\n",
       "CAMRY                  1496\n",
       "RAPID                  1354\n",
       "PASSAT                 1226\n",
       "A4                     1193\n",
       "TIGUAN                 1186\n",
       "X5                     1105\n",
       "5ER                    1026\n",
       "LAND_CRUISER            938\n",
       "RAV4                    907\n",
       "XC90                    831\n",
       "E_KLASSE                809\n",
       "RX                      773\n",
       "COROLLA                 773\n",
       "TOUAREG                 769\n",
       "ALMERA                  758\n",
       "3ER                     752\n",
       "CIVIC                   748\n",
       "LAND_CRUISER_PRADO      743\n",
       "5_СЕРИИ                 733\n",
       "X-TRAIL                 715\n",
       "ASX                     666\n",
       "X6                      666\n",
       "GOLF                    657\n",
       "X_TRAIL                 654\n",
       "Q7                      648\n",
       "JETTA                   626\n",
       "ACCORD                  625\n",
       "PAJERO                  623\n",
       "3_СЕРИИ                 604\n",
       "X3                      591\n",
       "E-КЛАСС                 586\n",
       "TEANA                   580\n",
       "XC60                    573\n",
       "S_KLASSE                549\n",
       "FX                      548\n",
       "GLC                     547\n",
       "S60                     530\n",
       "YETI                    509\n",
       "SUPERB                  506\n",
       "FABIA                   497\n",
       "Q5                      489\n",
       "A5                      481\n",
       "JUKE                    477\n",
       "GLE_COUPE               463\n",
       "Name: model_name_cut, dtype: int64"
      ]
     },
     "execution_count": 51,
     "metadata": {},
     "output_type": "execute_result"
    }
   ],
   "source": [
    "df.model_name_cut.value_counts()"
   ]
  },
  {
   "cell_type": "markdown",
   "metadata": {},
   "source": [
    "model_date & production_date"
   ]
  },
  {
   "cell_type": "markdown",
   "metadata": {},
   "source": [
    "### model_date&production_date"
   ]
  },
  {
   "cell_type": "markdown",
   "metadata": {},
   "source": [
    "Распределение почти одинаковое.\n",
    "А что если добавить колонку разницу этих дат\n",
    "Ну и по корреляции уже поняли что нужно использовать только одну из этих колонок"
   ]
  },
  {
   "cell_type": "code",
   "execution_count": 52,
   "metadata": {},
   "outputs": [
    {
     "data": {
      "image/png": "[encoded data removed]",
      "text/plain": [
       "<Figure size 1080x576 with 2 Axes>"
      ]
     },
     "metadata": {
      "needs_background": "light"
     },
     "output_type": "display_data"
    }
   ],
   "source": [
    "figure, (ax1, ax2) = plt.subplots(1, 2, figsize=(15, 8))\n",
    "ax1.hist(df.modelDate)\n",
    "ax2.hist(df.productionDate)\n",
    "figure.suptitle('Распределение года модели, и года выпуска самой машины')\n",
    "plt.show()"
   ]
  },
  {
   "cell_type": "code",
   "execution_count": 53,
   "metadata": {},
   "outputs": [],
   "source": [
    "df['diff_date_model_production'] = df.productionDate-df.modelDate\n",
    "df['diff_date_model_production_log'] = np.log(df.diff_date_model_production-np.min(df.diff_date_model_production)+1)"
   ]
  },
  {
   "cell_type": "code",
   "execution_count": 54,
   "metadata": {},
   "outputs": [
    {
     "data": {
      "image/png": "[encoded data removed]",
      "text/plain": [
       "<Figure size 1080x576 with 2 Axes>"
      ]
     },
     "metadata": {
      "needs_background": "light"
     },
     "output_type": "display_data"
    }
   ],
   "source": [
    "figure, (ax1, ax2) = plt.subplots(1, 2, figsize=(15, 8))\n",
    "ax1.hist(df.diff_date_model_production)\n",
    "ax2.hist(df.diff_date_model_production_log)\n",
    "figure.suptitle('Разница года производства и года выпуска модели + логарифм')\n",
    "plt.show();"
   ]
  },
  {
   "cell_type": "markdown",
   "metadata": {},
   "source": [
    "### Владельцы"
   ]
  },
  {
   "cell_type": "markdown",
   "metadata": {},
   "source": [
    "заменим категориальную переменну числом, ведь это ординальная ,3 владельца болье чем 2 и 2 больше чем 1\n",
    "но что ставить когда неизвестно! если пробег 0, то и владельцев 0\n",
    "а если пробег больше 0 то ставим 2 владельца - как среднее в нашей выборке"
   ]
  },
  {
   "cell_type": "code",
   "execution_count": 55,
   "metadata": {},
   "outputs": [
    {
     "data": {
      "text/plain": [
       "3 или более    25382\n",
       "1 владелец     19187\n",
       "2 владельца    16658\n",
       "Неизвестно     10538\n",
       "Name: Владельцы, dtype: int64"
      ]
     },
     "execution_count": 55,
     "metadata": {},
     "output_type": "execute_result"
    }
   ],
   "source": [
    "df['Владельцы'].value_counts()"
   ]
  },
  {
   "cell_type": "code",
   "execution_count": 56,
   "metadata": {},
   "outputs": [
    {
     "data": {
      "text/plain": [
       "array(['3 или более', '1\\xa0владелец', '2\\xa0владельца', 'Неизвестно'],\n",
       "      dtype=object)"
      ]
     },
     "execution_count": 56,
     "metadata": {},
     "output_type": "execute_result"
    }
   ],
   "source": [
    "df['Владельцы'].unique()"
   ]
  },
  {
   "cell_type": "code",
   "execution_count": 57,
   "metadata": {},
   "outputs": [
    {
     "data": {
      "text/plain": [
       "0         8259\n",
       "300000      62\n",
       "200000      60\n",
       "250000      47\n",
       "220000      33\n",
       "          ... \n",
       "245571       1\n",
       "247612       1\n",
       "10000        1\n",
       "173800       1\n",
       "114860       1\n",
       "Name: mileage, Length: 818, dtype: int64"
      ]
     },
     "execution_count": 57,
     "metadata": {},
     "output_type": "execute_result"
    }
   ],
   "source": [
    "df[df['Владельцы'] == 'Неизвестно'].mileage.value_counts()"
   ]
  },
  {
   "cell_type": "code",
   "execution_count": 58,
   "metadata": {},
   "outputs": [],
   "source": [
    "mask = (df['Владельцы'] == 'Неизвестно') & (df.mileage == 0)\n",
    "df.loc[mask, 'Владельцы'] = \"Новая машина\"\n",
    "mask = (df['Владельцы'] == 'Неизвестно') & (df.mileage != 0)\n",
    "df.loc[mask, 'Владельцы'] = \"2\\xa0владельца\""
   ]
  },
  {
   "cell_type": "code",
   "execution_count": 59,
   "metadata": {},
   "outputs": [
    {
     "data": {
      "text/plain": [
       "3 или более     25382\n",
       "1 владелец      19187\n",
       "2 владельца     18937\n",
       "Новая машина     8259\n",
       "Name: Владельцы, dtype: int64"
      ]
     },
     "execution_count": 59,
     "metadata": {},
     "output_type": "execute_result"
    }
   ],
   "source": [
    "df['Владельцы'].value_counts()"
   ]
  },
  {
   "cell_type": "code",
   "execution_count": 60,
   "metadata": {},
   "outputs": [
    {
     "data": {
      "text/plain": [
       "array(['3 или более', '1\\xa0владелец', '2\\xa0владельца', 'Новая машина'],\n",
       "      dtype=object)"
      ]
     },
     "execution_count": 60,
     "metadata": {},
     "output_type": "execute_result"
    }
   ],
   "source": [
    "df['Владельцы'].unique()"
   ]
  },
  {
   "cell_type": "code",
   "execution_count": 61,
   "metadata": {},
   "outputs": [],
   "source": [
    "owners_map = {\n",
    "    'Новая машина':0,\n",
    "    '1\\xa0владелец':1,\n",
    "    '2\\xa0владельца':2,\n",
    "    '3 или более':3    \n",
    "}\n",
    "df['owners'] = df['Владельцы'].map(owners_map)"
   ]
  },
  {
   "cell_type": "code",
   "execution_count": 62,
   "metadata": {},
   "outputs": [
    {
     "data": {
      "image/png": "[encoded data removed]",
      "text/plain": [
       "<Figure size 864x576 with 1 Axes>"
      ]
     },
     "metadata": {
      "needs_background": "light"
     },
     "output_type": "display_data"
    }
   ],
   "source": [
    "df.owners.hist();\n",
    "plt.title('Распределение машин по количеству владельцев');"
   ]
  },
  {
   "cell_type": "markdown",
   "metadata": {},
   "source": [
    "#### В будущем лучше разделить эту колонку на 4 с бинарными значениями"
   ]
  },
  {
   "cell_type": "markdown",
   "metadata": {},
   "source": [
    "### Владение"
   ]
  },
  {
   "cell_type": "markdown",
   "metadata": {},
   "source": [
    "много пропущенных значений, больше половины набора данных\n",
    "сделаем колонку что срок владения укзаан, и больше ничего не будем делать"
   ]
  },
  {
   "cell_type": "code",
   "execution_count": 72,
   "metadata": {},
   "outputs": [
    {
     "name": "stdout",
     "output_type": "stream",
     "text": [
      "процент пропущенных значений: 0.7263289904549571\n"
     ]
    }
   ],
   "source": [
    "print(f\"процент пропущенных значений: {df['Владение'].isna().sum() / df.shape[0]}\")"
   ]
  },
  {
   "cell_type": "code",
   "execution_count": 73,
   "metadata": {},
   "outputs": [
    {
     "data": {
      "text/plain": [
       "1 год и 10 месяцев             209\n",
       "2 года                         197\n",
       "1 год                          194\n",
       "1 год и 1 месяц                193\n",
       "1 год и 2 месяца               187\n",
       "                              ... \n",
       "{'year': 2004, 'month': 9}       1\n",
       "{'year': 1998, 'month': 8}       1\n",
       "{'year': 2000, 'month': 11}      1\n",
       "{'year': 2003, 'month': 7}       1\n",
       "{'year': 1998, 'month': 5}       1\n",
       "Name: Владение, Length: 520, dtype: int64"
      ]
     },
     "execution_count": 73,
     "metadata": {},
     "output_type": "execute_result"
    }
   ],
   "source": [
    "df['Владение'].value_counts()"
   ]
  },
  {
   "cell_type": "code",
   "execution_count": 74,
   "metadata": {},
   "outputs": [],
   "source": [
    "df['own_time_is_na'] = df['Владение'].isna()"
   ]
  },
  {
   "cell_type": "markdown",
   "metadata": {},
   "source": [
    "### Оформим все вышепредставленные изменения в одну функцию"
   ]
  },
  {
   "cell_type": "code",
   "execution_count": 75,
   "metadata": {},
   "outputs": [],
   "source": [
    "def feature_enginering_version2(df: pd.DataFrame):\n",
    "    \"\"\"запишем сюда все преобразования которые делали в этом разделе ноутбука\n",
    "    1) В колонке model_name_cut все редкие модели (не в ТОП 50) заменяем на RARE_MODEL\n",
    "    2) добавляем колонки diff_date_model_production и diff_date_model_production_log\n",
    "    3) добавляем порядковую колонку owners\n",
    "    4) добавляем колонку own_time_is_na\"\"\"\n",
    "    \n",
    "    df.model_name = df.model_name.str.replace(' ', '_')\n",
    "    \n",
    "    df['model_name_cut_50'] = df.model_name\n",
    "    top_models = df.model_name.value_counts()[:50].index\n",
    "    df.loc[~df.model_name.isin(top_models), 'model_name_cut_50'] = 'RARE_MODEL'\n",
    "    \n",
    "    df['model_name_cut_450'] = df.model_name\n",
    "    top_models = df.model_name.value_counts()[:450].index\n",
    "    df.loc[~df.model_name.isin(top_models), 'model_name_cut_450'] = 'RARE_MODEL'\n",
    "    \n",
    "    df['diff_date_model_production'] = df.productionDate-df.modelDate\n",
    "    df['diff_date_model_production_log'] = np.log(df.diff_date_model_production-np.min(df.diff_date_model_production)+1)\n",
    "    \n",
    "    mask = (df['Владельцы'] == 'Неизвестно') & (df.mileage == 0)\n",
    "    df.loc[mask, 'Владельцы'] = \"Новая машина\"\n",
    "    mask = (df['Владельцы'] == 'Неизвестно') & (df.mileage != 0)\n",
    "    df.loc[mask, 'Владельцы'] = \"2\\xa0владельца\"\n",
    "    \n",
    "    owners_map = {\n",
    "        'Новая машина':0,\n",
    "        '1\\xa0владелец':1,\n",
    "        '2\\xa0владельца':2,\n",
    "        '3 или более':3    \n",
    "    }\n",
    "    df['owners'] = df['Владельцы'].map(owners_map)\n",
    "    \n",
    "    df['own_time_is_na'] = df['Владение'].isna()"
   ]
  },
  {
   "cell_type": "code",
   "execution_count": 77,
   "metadata": {},
   "outputs": [],
   "source": [
    "feature_enginering_version2(df)"
   ]
  },
  {
   "cell_type": "markdown",
   "metadata": {},
   "source": [
    "### Пробуем новые признаки в модели"
   ]
  },
  {
   "cell_type": "code",
   "execution_count": 78,
   "metadata": {},
   "outputs": [],
   "source": [
    "cat_cols = ['bodyType', 'brand', 'fuelType', 'color', 'model_name',\n",
    "            'vehicleTransmission', 'vendor', 'ПТС', 'Владельцы', 'Привод', 'Руль']\n",
    "num_cols = ['productionDate', 'numberOfDoors',\n",
    "            'enginePower_log', 'mileage_log', ]\n",
    "\n",
    "\n",
    "X_train, X_test, y = prepare_data(cat_cols, num_cols)"
   ]
  },
  {
   "cell_type": "code",
   "execution_count": 79,
   "metadata": {},
   "outputs": [],
   "source": [
    "model = RandomForestRegressor(100, random_state=RANDOM_STATE)"
   ]
  },
  {
   "cell_type": "code",
   "execution_count": 80,
   "metadata": {},
   "outputs": [
    {
     "name": "stdout",
     "output_type": "stream",
     "text": [
      "####################################################################################################\n",
      "RandomForestRegressor(random_state=43)\n",
      "train shape (37079, 767)\n",
      "cat_cols=['bodyType', 'brand', 'fuelType', 'color', 'model_name', 'vehicleTransmission', 'vendor', 'ПТС', 'Владельцы', 'Привод', 'Руль']\n",
      "num_cols=['productionDate', 'numberOfDoors', 'enginePower_log', 'mileage_log']\n",
      "####################################################################################################\n",
      "Train result: 5.0623623558525415\n",
      "CV result: 12.683171258593902 ([12.60618594 12.38756378 13.05576406])\n",
      "####################################################################################################\n",
      "Wall time: 2min\n"
     ]
    }
   ],
   "source": [
    "%%time\n",
    "fit_and_score_model(model, X_train, y)"
   ]
  },
  {
   "cell_type": "markdown",
   "metadata": {},
   "source": [
    "Очистка поля model_name помогла. Это уже улучшило нашу модель на 0.01 и уменьшило количество колонок на 67."
   ]
  },
  {
   "cell_type": "markdown",
   "metadata": {},
   "source": [
    "### model_name_cut"
   ]
  },
  {
   "cell_type": "code",
   "execution_count": 81,
   "metadata": {},
   "outputs": [],
   "source": [
    "cat_cols = ['bodyType', 'brand', 'fuelType', 'color', 'model_name_cut_50',\n",
    "            'vehicleTransmission', 'vendor', 'ПТС', 'Владельцы', 'Привод', 'Руль']\n",
    "num_cols = ['productionDate', 'numberOfDoors',\n",
    "            'enginePower_log', 'mileage_log', ]\n",
    "\n",
    "\n",
    "X_train, X_test, y = prepare_data(cat_cols, num_cols)"
   ]
  },
  {
   "cell_type": "code",
   "execution_count": 82,
   "metadata": {},
   "outputs": [
    {
     "name": "stdout",
     "output_type": "stream",
     "text": [
      "####################################################################################################\n",
      "RandomForestRegressor(random_state=43)\n",
      "train shape (37079, 134)\n",
      "cat_cols=['bodyType', 'brand', 'fuelType', 'color', 'model_name_cut_50', 'vehicleTransmission', 'vendor', 'ПТС', 'Владельцы', 'Привод', 'Руль']\n",
      "num_cols=['productionDate', 'numberOfDoors', 'enginePower_log', 'mileage_log']\n",
      "####################################################################################################\n",
      "Train result: 5.383062745038261\n",
      "CV result: 13.405549785119547 ([13.24433163 13.0160993  13.95621842])\n",
      "####################################################################################################\n",
      "Wall time: 51.2 s\n"
     ]
    }
   ],
   "source": [
    "%%time\n",
    "fit_and_score_model(model, X_train, y)"
   ]
  },
  {
   "cell_type": "markdown",
   "metadata": {},
   "source": [
    "В результате поле model_name_cut не дало никакого прироста в точности прогноза, а наоборот его ухудшило, поэтому его не используем"
   ]
  },
  {
   "cell_type": "markdown",
   "metadata": {},
   "source": [
    "### diff_date"
   ]
  },
  {
   "cell_type": "code",
   "execution_count": 83,
   "metadata": {},
   "outputs": [],
   "source": [
    "cat_cols = ['bodyType', 'brand', 'fuelType', 'color', 'model_name',\n",
    "            'vehicleTransmission', 'vendor', 'ПТС', 'Владельцы', 'Привод', 'Руль']\n",
    "num_cols = ['productionDate', 'numberOfDoors',\n",
    "            'enginePower_log', 'mileage_log', 'diff_date_model_production_log']\n",
    "\n",
    "\n",
    "X_train, X_test, y = prepare_data(cat_cols, num_cols)"
   ]
  },
  {
   "cell_type": "code",
   "execution_count": 84,
   "metadata": {},
   "outputs": [
    {
     "name": "stdout",
     "output_type": "stream",
     "text": [
      "####################################################################################################\n",
      "RandomForestRegressor(random_state=43)\n",
      "train shape (37079, 768)\n",
      "cat_cols=['bodyType', 'brand', 'fuelType', 'color', 'model_name', 'vehicleTransmission', 'vendor', 'ПТС', 'Владельцы', 'Привод', 'Руль']\n",
      "num_cols=['productionDate', 'numberOfDoors', 'enginePower_log', 'mileage_log', 'diff_date_model_production_log']\n",
      "####################################################################################################\n",
      "Train result: 5.0323829634754835\n",
      "CV result: 12.641787461933108 ([12.51064745 12.39147209 13.02324284])\n",
      "####################################################################################################\n",
      "Wall time: 2min 2s\n"
     ]
    }
   ],
   "source": [
    "%%time\n",
    "fit_and_score_model(model, X_train, y)"
   ]
  },
  {
   "cell_type": "markdown",
   "metadata": {},
   "source": [
    "Показатель diff_date значительно улучшило предсказание модели"
   ]
  },
  {
   "cell_type": "markdown",
   "metadata": {},
   "source": [
    "### owners"
   ]
  },
  {
   "cell_type": "code",
   "execution_count": 86,
   "metadata": {},
   "outputs": [],
   "source": [
    "cat_cols = ['bodyType', 'brand', 'fuelType', 'color', 'model_name',\n",
    "            'vehicleTransmission', 'vendor', 'ПТС', 'Владельцы', 'Привод', 'Руль']\n",
    "num_cols = ['productionDate', 'numberOfDoors',\n",
    "            'enginePower_log', 'mileage_log', 'diff_date_model_production_log', 'owners']\n",
    "\n",
    "\n",
    "X_train, X_test, y = prepare_data(cat_cols, num_cols)"
   ]
  },
  {
   "cell_type": "code",
   "execution_count": 87,
   "metadata": {},
   "outputs": [
    {
     "name": "stdout",
     "output_type": "stream",
     "text": [
      "####################################################################################################\n",
      "RandomForestRegressor(random_state=43)\n",
      "train shape (37079, 769)\n",
      "cat_cols=['bodyType', 'brand', 'fuelType', 'color', 'model_name', 'vehicleTransmission', 'vendor', 'ПТС', 'Владельцы', 'Привод', 'Руль']\n",
      "num_cols=['productionDate', 'numberOfDoors', 'enginePower_log', 'mileage_log', 'diff_date_model_production_log', 'owners']\n",
      "####################################################################################################\n",
      "Train result: 5.038875235850231\n",
      "CV result: 12.638201336066155 ([12.5293926  12.37892354 13.00628788])\n",
      "####################################################################################################\n",
      "Wall time: 2min 9s\n"
     ]
    }
   ],
   "source": [
    "%%time\n",
    "fit_and_score_model(model, X_train, y)"
   ]
  },
  {
   "cell_type": "markdown",
   "metadata": {},
   "source": [
    "Признак owners улучшил предсказание, оставим его в наборе"
   ]
  },
  {
   "cell_type": "markdown",
   "metadata": {},
   "source": [
    "### own_time_is_na"
   ]
  },
  {
   "cell_type": "code",
   "execution_count": 88,
   "metadata": {},
   "outputs": [],
   "source": [
    "cat_cols = ['bodyType', 'brand', 'fuelType', 'color', 'model_name',\n",
    "            'vehicleTransmission', 'vendor', 'ПТС', 'Владельцы', 'Привод', 'Руль']\n",
    "num_cols = ['productionDate', 'numberOfDoors',\n",
    "            'enginePower_log', 'mileage_log', 'diff_date_model_production_log', 'owners', 'own_time_is_na']\n",
    "\n",
    "\n",
    "X_train, X_test, y = prepare_data(cat_cols, num_cols)"
   ]
  },
  {
   "cell_type": "code",
   "execution_count": 89,
   "metadata": {},
   "outputs": [
    {
     "name": "stdout",
     "output_type": "stream",
     "text": [
      "####################################################################################################\n",
      "RandomForestRegressor(random_state=43)\n",
      "train shape (37079, 770)\n",
      "cat_cols=['bodyType', 'brand', 'fuelType', 'color', 'model_name', 'vehicleTransmission', 'vendor', 'ПТС', 'Владельцы', 'Привод', 'Руль']\n",
      "num_cols=['productionDate', 'numberOfDoors', 'enginePower_log', 'mileage_log', 'diff_date_model_production_log', 'owners', 'own_time_is_na']\n",
      "####################################################################################################\n",
      "Train result: 5.035196651131332\n",
      "CV result: 12.627619432270023 ([12.48035229 12.38988499 13.01262101])\n",
      "####################################################################################################\n",
      "Wall time: 2min 7s\n"
     ]
    }
   ],
   "source": [
    "%%time\n",
    "fit_and_score_model(model, X_train, y)"
   ]
  },
  {
   "cell_type": "markdown",
   "metadata": {},
   "source": [
    "### Итоги\n",
    "engine_power_log, mileage_log, diff_date_model_production, owners и  own_time_is_na улучшили предсказание"
   ]
  },
  {
   "cell_type": "code",
   "execution_count": 91,
   "metadata": {},
   "outputs": [],
   "source": [
    "cat_cols = ['bodyType', 'brand', 'fuelType', 'color', 'model_name',\n",
    "            'vehicleTransmission', 'vendor', 'ПТС', 'Владельцы', 'Привод', 'Руль']\n",
    "num_cols = ['productionDate', 'numberOfDoors',\n",
    "            'enginePower_log', 'mileage_log', 'diff_date_model_production_log', 'owners', 'own_time_is_na']\n",
    "\n",
    "\n",
    "X_train, X_test, y = prepare_data(cat_cols, num_cols)"
   ]
  },
  {
   "cell_type": "markdown",
   "metadata": {},
   "source": [
    "### Проанализируем дополнительные колонки"
   ]
  },
  {
   "cell_type": "code",
   "execution_count": 92,
   "metadata": {},
   "outputs": [
    {
     "data": {
      "text/html": [
       "<div>\n",
       "<style scoped>\n",
       "    .dataframe tbody tr th:only-of-type {\n",
       "        vertical-align: middle;\n",
       "    }\n",
       "\n",
       "    .dataframe tbody tr th {\n",
       "        vertical-align: top;\n",
       "    }\n",
       "\n",
       "    .dataframe thead th {\n",
       "        text-align: right;\n",
       "    }\n",
       "</style>\n",
       "<table border=\"1\" class=\"dataframe\">\n",
       "  <thead>\n",
       "    <tr style=\"text-align: right;\">\n",
       "      <th></th>\n",
       "      <th>description</th>\n",
       "      <th>complectation_dict</th>\n",
       "      <th>equipment_dict</th>\n",
       "      <th>model_info</th>\n",
       "      <th>super_gen</th>\n",
       "    </tr>\n",
       "  </thead>\n",
       "  <tbody>\n",
       "    <tr>\n",
       "      <th>0</th>\n",
       "      <td>Все автомобили, представленные в продаже, прох...</td>\n",
       "      <td>NaN</td>\n",
       "      <td>{\"engine-proof\":true,\"tinted-glass\":true,\"airb...</td>\n",
       "      <td>{\"code\":\"OCTAVIA\",\"name\":\"Octavia\",\"ru_name\":\"...</td>\n",
       "      <td>{\"id\":\"10373605\",\"displacement\":1197,\"engine_t...</td>\n",
       "    </tr>\n",
       "    <tr>\n",
       "      <th>1</th>\n",
       "      <td>ЛОТ: 01217195\\nАвтопрага Север\\nДанный автомоб...</td>\n",
       "      <td>NaN</td>\n",
       "      <td>{\"cruise-control\":true,\"asr\":true,\"esp\":true,\"...</td>\n",
       "      <td>{\"code\":\"OCTAVIA\",\"name\":\"Octavia\",\"ru_name\":\"...</td>\n",
       "      <td>{\"id\":\"20913311\",\"displacement\":1598,\"engine_t...</td>\n",
       "    </tr>\n",
       "    <tr>\n",
       "      <th>2</th>\n",
       "      <td>Все автомобили, представленные в продаже, прох...</td>\n",
       "      <td>{\"id\":\"20026336\",\"name\":\"Ambition\",\"available_...</td>\n",
       "      <td>{\"cruise-control\":true,\"tinted-glass\":true,\"es...</td>\n",
       "      <td>{\"code\":\"SUPERB\",\"name\":\"Superb\",\"ru_name\":\"Су...</td>\n",
       "      <td>{\"id\":\"20026323\",\"nameplate\":\"DSG\",\"displaceme...</td>\n",
       "    </tr>\n",
       "    <tr>\n",
       "      <th>3</th>\n",
       "      <td>КОМПЛЕКТ ЗИМНЕЙ (ЛЕТНЕЙ) РЕЗИНЫ ПО СЕЗОНУ В ПО...</td>\n",
       "      <td>{\"id\":\"20803582\",\"name\":\"Ambition\",\"available_...</td>\n",
       "      <td>{\"cruise-control\":true,\"roller-blind-for-rear-...</td>\n",
       "      <td>{\"code\":\"OCTAVIA\",\"name\":\"Octavia\",\"ru_name\":\"...</td>\n",
       "      <td>{\"id\":\"20105521\",\"displacement\":1598,\"engine_t...</td>\n",
       "    </tr>\n",
       "    <tr>\n",
       "      <th>4</th>\n",
       "      <td>ЛОТ: 01220889\\nАвтопрага Север\\n\\nВы можете по...</td>\n",
       "      <td>NaN</td>\n",
       "      <td>{\"cruise-control\":true,\"asr\":true,\"esp\":true,\"...</td>\n",
       "      <td>{\"code\":\"OCTAVIA\",\"name\":\"Octavia\",\"ru_name\":\"...</td>\n",
       "      <td>{\"id\":\"4561004\",\"displacement\":1798,\"engine_ty...</td>\n",
       "    </tr>\n",
       "  </tbody>\n",
       "</table>\n",
       "</div>"
      ],
      "text/plain": [
       "                                         description  \\\n",
       "0  Все автомобили, представленные в продаже, прох...   \n",
       "1  ЛОТ: 01217195\\nАвтопрага Север\\nДанный автомоб...   \n",
       "2  Все автомобили, представленные в продаже, прох...   \n",
       "3  КОМПЛЕКТ ЗИМНЕЙ (ЛЕТНЕЙ) РЕЗИНЫ ПО СЕЗОНУ В ПО...   \n",
       "4  ЛОТ: 01220889\\nАвтопрага Север\\n\\nВы можете по...   \n",
       "\n",
       "                                  complectation_dict  \\\n",
       "0                                                NaN   \n",
       "1                                                NaN   \n",
       "2  {\"id\":\"20026336\",\"name\":\"Ambition\",\"available_...   \n",
       "3  {\"id\":\"20803582\",\"name\":\"Ambition\",\"available_...   \n",
       "4                                                NaN   \n",
       "\n",
       "                                      equipment_dict  \\\n",
       "0  {\"engine-proof\":true,\"tinted-glass\":true,\"airb...   \n",
       "1  {\"cruise-control\":true,\"asr\":true,\"esp\":true,\"...   \n",
       "2  {\"cruise-control\":true,\"tinted-glass\":true,\"es...   \n",
       "3  {\"cruise-control\":true,\"roller-blind-for-rear-...   \n",
       "4  {\"cruise-control\":true,\"asr\":true,\"esp\":true,\"...   \n",
       "\n",
       "                                          model_info  \\\n",
       "0  {\"code\":\"OCTAVIA\",\"name\":\"Octavia\",\"ru_name\":\"...   \n",
       "1  {\"code\":\"OCTAVIA\",\"name\":\"Octavia\",\"ru_name\":\"...   \n",
       "2  {\"code\":\"SUPERB\",\"name\":\"Superb\",\"ru_name\":\"Су...   \n",
       "3  {\"code\":\"OCTAVIA\",\"name\":\"Octavia\",\"ru_name\":\"...   \n",
       "4  {\"code\":\"OCTAVIA\",\"name\":\"Octavia\",\"ru_name\":\"...   \n",
       "\n",
       "                                           super_gen  \n",
       "0  {\"id\":\"10373605\",\"displacement\":1197,\"engine_t...  \n",
       "1  {\"id\":\"20913311\",\"displacement\":1598,\"engine_t...  \n",
       "2  {\"id\":\"20026323\",\"nameplate\":\"DSG\",\"displaceme...  \n",
       "3  {\"id\":\"20105521\",\"displacement\":1598,\"engine_t...  \n",
       "4  {\"id\":\"4561004\",\"displacement\":1798,\"engine_ty...  "
      ]
     },
     "execution_count": 92,
     "metadata": {},
     "output_type": "execute_result"
    }
   ],
   "source": [
    "df[['description','complectation_dict','equipment_dict','model_info','super_gen']].head()"
   ]
  },
  {
   "cell_type": "markdown",
   "metadata": {},
   "source": [
    "### equipment_dict"
   ]
  },
  {
   "cell_type": "code",
   "execution_count": 93,
   "metadata": {},
   "outputs": [
    {
     "data": {
      "text/plain": [
       "array([[\"{'cruise-control': True, 'asr': True, 'tinted-glass': True, 'esp': True, 'multi-wheel': True, 'spare-wheel': True, 'heated-wash-system': True, 'airbag-passenger': True, 'front-centre-armrest': True, 'roof-rails': True, 'bas': True, 'lock': True, 'rear-camera': True, 'electro-mirrors': True, 'mirrors-heat': True, '17-inch-wheels': True, 'park-assist-f': True, 'park-assist-r': True, 'glonass': True, 'start-stop-function': True, 'airbag-driver': True, 'isofix': True, 'electro-window-front': True, 'light-sensor': True, 'hcc': True, 'drowsy-driver-alert-system': True, 'airbag-curtain': True, 'passenger-seat-updown': True, 'computer': True, 'high-beam-assist': True, 'wheel-power': True, 'fabric-seats': True, 'paint-metallic': True, 'alloy-wheel-disks': True, 'rain-sensor': True, 'airbag-side': True, 'audiosystem-cd': True, 'folding-tables-rear': True, 'abs': True, 'front-seats-heat': True, 'wheel-leather': True, 'wheel-configuration2': True, 'wheel-configuration1': True, 'immo': True, 'third-row-seats': True, 'climate-control-1': True, '12v-socket': True, 'third-rear-headrest': True}\",\n",
       "        True]], dtype=object)"
      ]
     },
     "execution_count": 93,
     "metadata": {},
     "output_type": "execute_result"
    }
   ],
   "source": [
    "df[['equipment_dict','is_train']].sample().values"
   ]
  },
  {
   "cell_type": "markdown",
   "metadata": {},
   "source": [
    "В полях содержятся опции автомобилей, если у авто нет какой либо опции, то она не указана в словаре, сделаем бинарные признаки по всем опциям и посмотрим на предсказание модели. Из-за резкого увеличения кол-ва признаков, модель может очень долго считать. Посмотрим насколько точнее станет предсказание и во сколько раз увеличится время"
   ]
  },
  {
   "cell_type": "code",
   "execution_count": 95,
   "metadata": {},
   "outputs": [],
   "source": [
    "def parse_dict_column(row, column_name):\n",
    "    \"\"\"Функция парсит значение в ячейке.\n",
    "    Если это train строка то применяет функцию eval\n",
    "    Если это test - то загружает методом json.loads\n",
    "    Возвращает dict полученный из строкового представления.\n",
    "    Или возвращает None если значение не указано, или словарь пустой\"\"\"\n",
    "    if row[column_name] is np.nan:\n",
    "        value = None\n",
    "    elif row.is_train:\n",
    "        value = eval(row[column_name])\n",
    "    else:\n",
    "        value = json.loads(row[column_name])\n",
    "    \n",
    "    return value if value else None\n",
    "\n",
    "def create_dataframe_from_json_column(column_name):\n",
    "    \"\"\"Создает датафрейм из колонки, в которой храняться json(dict) параметров автомобиля \"\"\"\n",
    "    series_ = df.apply(partial(parse_dict_column, column_name=column_name), axis=1)\n",
    "    dataframe_ = series_.apply(pd.Series)\n",
    "    return dataframe_"
   ]
  },
  {
   "cell_type": "code",
   "execution_count": 96,
   "metadata": {},
   "outputs": [],
   "source": [
    "equipment_dataframe = create_dataframe_from_json_column('equipment_dict')\n",
    "equipment_dataframe.fillna(False, inplace=True)"
   ]
  },
  {
   "cell_type": "code",
   "execution_count": 97,
   "metadata": {},
   "outputs": [
    {
     "data": {
      "text/html": [
       "<div>\n",
       "<style scoped>\n",
       "    .dataframe tbody tr th:only-of-type {\n",
       "        vertical-align: middle;\n",
       "    }\n",
       "\n",
       "    .dataframe tbody tr th {\n",
       "        vertical-align: top;\n",
       "    }\n",
       "\n",
       "    .dataframe thead th {\n",
       "        text-align: right;\n",
       "    }\n",
       "</style>\n",
       "<table border=\"1\" class=\"dataframe\">\n",
       "  <thead>\n",
       "    <tr style=\"text-align: right;\">\n",
       "      <th></th>\n",
       "      <th>engine-proof</th>\n",
       "      <th>tinted-glass</th>\n",
       "      <th>airbag-driver</th>\n",
       "      <th>aux</th>\n",
       "      <th>isofix</th>\n",
       "      <th>electro-window-front</th>\n",
       "      <th>ashtray-and-cigarette-lighter</th>\n",
       "      <th>airbag-passenger</th>\n",
       "      <th>computer</th>\n",
       "      <th>high-beam-assist</th>\n",
       "      <th>...</th>\n",
       "      <th>7X5</th>\n",
       "      <th>PCH</th>\n",
       "      <th>3FB</th>\n",
       "      <th>CJ4</th>\n",
       "      <th>F06</th>\n",
       "      <th>28-inch-wheels</th>\n",
       "      <th>298</th>\n",
       "      <th>PE6</th>\n",
       "      <th>8RF</th>\n",
       "      <th>239</th>\n",
       "    </tr>\n",
       "  </thead>\n",
       "  <tbody>\n",
       "    <tr>\n",
       "      <th>0</th>\n",
       "      <td>True</td>\n",
       "      <td>True</td>\n",
       "      <td>True</td>\n",
       "      <td>True</td>\n",
       "      <td>True</td>\n",
       "      <td>True</td>\n",
       "      <td>True</td>\n",
       "      <td>True</td>\n",
       "      <td>True</td>\n",
       "      <td>True</td>\n",
       "      <td>...</td>\n",
       "      <td>False</td>\n",
       "      <td>False</td>\n",
       "      <td>False</td>\n",
       "      <td>False</td>\n",
       "      <td>False</td>\n",
       "      <td>False</td>\n",
       "      <td>False</td>\n",
       "      <td>False</td>\n",
       "      <td>False</td>\n",
       "      <td>False</td>\n",
       "    </tr>\n",
       "    <tr>\n",
       "      <th>1</th>\n",
       "      <td>False</td>\n",
       "      <td>False</td>\n",
       "      <td>True</td>\n",
       "      <td>False</td>\n",
       "      <td>True</td>\n",
       "      <td>False</td>\n",
       "      <td>False</td>\n",
       "      <td>True</td>\n",
       "      <td>True</td>\n",
       "      <td>False</td>\n",
       "      <td>...</td>\n",
       "      <td>False</td>\n",
       "      <td>False</td>\n",
       "      <td>False</td>\n",
       "      <td>False</td>\n",
       "      <td>False</td>\n",
       "      <td>False</td>\n",
       "      <td>False</td>\n",
       "      <td>False</td>\n",
       "      <td>False</td>\n",
       "      <td>False</td>\n",
       "    </tr>\n",
       "    <tr>\n",
       "      <th>2</th>\n",
       "      <td>True</td>\n",
       "      <td>True</td>\n",
       "      <td>True</td>\n",
       "      <td>True</td>\n",
       "      <td>True</td>\n",
       "      <td>True</td>\n",
       "      <td>True</td>\n",
       "      <td>True</td>\n",
       "      <td>True</td>\n",
       "      <td>False</td>\n",
       "      <td>...</td>\n",
       "      <td>False</td>\n",
       "      <td>False</td>\n",
       "      <td>False</td>\n",
       "      <td>False</td>\n",
       "      <td>False</td>\n",
       "      <td>False</td>\n",
       "      <td>False</td>\n",
       "      <td>False</td>\n",
       "      <td>False</td>\n",
       "      <td>False</td>\n",
       "    </tr>\n",
       "    <tr>\n",
       "      <th>3</th>\n",
       "      <td>True</td>\n",
       "      <td>True</td>\n",
       "      <td>True</td>\n",
       "      <td>True</td>\n",
       "      <td>True</td>\n",
       "      <td>True</td>\n",
       "      <td>True</td>\n",
       "      <td>True</td>\n",
       "      <td>True</td>\n",
       "      <td>True</td>\n",
       "      <td>...</td>\n",
       "      <td>False</td>\n",
       "      <td>False</td>\n",
       "      <td>False</td>\n",
       "      <td>False</td>\n",
       "      <td>False</td>\n",
       "      <td>False</td>\n",
       "      <td>False</td>\n",
       "      <td>False</td>\n",
       "      <td>False</td>\n",
       "      <td>False</td>\n",
       "    </tr>\n",
       "    <tr>\n",
       "      <th>4</th>\n",
       "      <td>False</td>\n",
       "      <td>False</td>\n",
       "      <td>True</td>\n",
       "      <td>False</td>\n",
       "      <td>True</td>\n",
       "      <td>False</td>\n",
       "      <td>False</td>\n",
       "      <td>True</td>\n",
       "      <td>True</td>\n",
       "      <td>False</td>\n",
       "      <td>...</td>\n",
       "      <td>False</td>\n",
       "      <td>False</td>\n",
       "      <td>False</td>\n",
       "      <td>False</td>\n",
       "      <td>False</td>\n",
       "      <td>False</td>\n",
       "      <td>False</td>\n",
       "      <td>False</td>\n",
       "      <td>False</td>\n",
       "      <td>False</td>\n",
       "    </tr>\n",
       "  </tbody>\n",
       "</table>\n",
       "<p>5 rows × 324 columns</p>\n",
       "</div>"
      ],
      "text/plain": [
       "   engine-proof  tinted-glass  airbag-driver    aux  isofix  \\\n",
       "0          True          True           True   True    True   \n",
       "1         False         False           True  False    True   \n",
       "2          True          True           True   True    True   \n",
       "3          True          True           True   True    True   \n",
       "4         False         False           True  False    True   \n",
       "\n",
       "   electro-window-front  ashtray-and-cigarette-lighter  airbag-passenger  \\\n",
       "0                  True                           True              True   \n",
       "1                 False                          False              True   \n",
       "2                  True                           True              True   \n",
       "3                  True                           True              True   \n",
       "4                 False                          False              True   \n",
       "\n",
       "   computer  high-beam-assist  ...    7X5    PCH    3FB    CJ4    F06  \\\n",
       "0      True              True  ...  False  False  False  False  False   \n",
       "1      True             False  ...  False  False  False  False  False   \n",
       "2      True             False  ...  False  False  False  False  False   \n",
       "3      True              True  ...  False  False  False  False  False   \n",
       "4      True             False  ...  False  False  False  False  False   \n",
       "\n",
       "   28-inch-wheels    298    PE6    8RF    239  \n",
       "0           False  False  False  False  False  \n",
       "1           False  False  False  False  False  \n",
       "2           False  False  False  False  False  \n",
       "3           False  False  False  False  False  \n",
       "4           False  False  False  False  False  \n",
       "\n",
       "[5 rows x 324 columns]"
      ]
     },
     "execution_count": 97,
     "metadata": {},
     "output_type": "execute_result"
    }
   ],
   "source": [
    "equipment_dataframe.head()"
   ]
  },
  {
   "cell_type": "code",
   "execution_count": 99,
   "metadata": {},
   "outputs": [],
   "source": [
    "#Сохраним оригинальный датасет перед добавлением данных признаков\n",
    "df_origin = df.copy() "
   ]
  },
  {
   "cell_type": "code",
   "execution_count": 100,
   "metadata": {},
   "outputs": [],
   "source": [
    "df = pd.concat([df_origin, equipment_dataframe], axis=1)"
   ]
  },
  {
   "cell_type": "markdown",
   "metadata": {},
   "source": [
    "### Смотрим на предсказание модели с новым набором признаков"
   ]
  },
  {
   "cell_type": "code",
   "execution_count": 101,
   "metadata": {},
   "outputs": [],
   "source": [
    "cat_cols = ['bodyType', 'brand', 'fuelType', 'color', 'model_name',\n",
    "            'vehicleTransmission', 'vendor', 'ПТС', 'Владельцы', 'Привод', 'Руль'] \n",
    "num_cols = ['productionDate', 'numberOfDoors',\n",
    "            'enginePower_log', 'mileage_log', 'diff_date_model_production'] + list(equipment_dataframe.columns.values)\n",
    "\n",
    "X_train, X_test, y = prepare_data(cat_cols, num_cols)"
   ]
  },
  {
   "cell_type": "code",
   "execution_count": 102,
   "metadata": {},
   "outputs": [],
   "source": [
    "model = RandomForestRegressor(100, random_state=RANDOM_STATE)"
   ]
  },
  {
   "cell_type": "code",
   "execution_count": 103,
   "metadata": {},
   "outputs": [
    {
     "name": "stdout",
     "output_type": "stream",
     "text": [
      "####################################################################################################\n",
      "RandomForestRegressor(random_state=43)\n",
      "train shape (37079, 1092)\n",
      "cat_cols=['bodyType', 'brand', 'fuelType', 'color', 'model_name', 'vehicleTransmission', 'vendor', 'ПТС', 'Владельцы', 'Привод', 'Руль']\n",
      "num_cols=['productionDate', 'numberOfDoors', 'enginePower_log', 'mileage_log', 'diff_date_model_production', 'engine-proof', 'tinted-glass', 'airbag-driver', 'aux', 'isofix', 'electro-window-front', 'ashtray-and-cigarette-lighter', 'airbag-passenger', 'computer', 'high-beam-assist', 'seat-transformation', 'isofix-front', 'wheel-power', 'alarm', 'lock', 'door-sill-panel', 'fabric-seats', 'electro-mirrors', 'airbag-rear-side', 'electro-window-back', 'steel-wheels', 'ptf', '16-inch-wheels', 'rain-sensor', 'airbag-side', 'audiosystem-cd', 'dark-interior', 'cooling-box', 'condition', 'abs', 'power-child-locks-rear-doors', 'front-seats-heat', 'wheel-configuration2', 'wheel-configuration1', '12v-socket', 'park-assist-r', 'cruise-control', 'asr', 'esp', 'usb', 'light-sensor', 'drl', 'alloy-wheel-disks', 'tyre-pressure', 'mirrors-heat', 'driver-seat-updown', 'wheel-heat', 'bluetooth', 'immo', 'windscreen-heat', 'climate-control-2', 'adaptive-light', 'multi-wheel', 'xenon', 'heated-wash-system', 'front-centre-armrest', 'body-mouldings', 'combo-interior', 'rear-seats-heat', 'knee-airbag', 'hcc', 'airbag-curtain', 'light-cleaner', 'leather-gear-stick', 'wheel-leather', 'auto-mirrors', 'third-rear-headrest', 'roller-blind-for-rear-window', 'spare-wheel', 'navigation', 'folding-front-passenger-seat', 'programmed-block-heater', 'passenger-seat-updown', 'sport-seats', 'front-seat-support', '18-inch-wheels', 'volume-sensor', 'hatch', 'music-super', 'automatic-lighting-control', 'paint-metallic', 'climate-control-1', 'roof-rails', '17-inch-wheels', 'sport-pedals', 'gbo', 'park-assist-f', 'feedback-alarm', 'passenger-seat-electric', 'leather', 'electro-trunk', 'driver-seat-memory', 'keyless-entry', 'rear-camera', 'led-lights', '15-inch-wheels', 'audiosystem-tv', 'seats-7', 'auto-park', 'apple-carplay', 'decorative-interior-lighting', 'bas', 'servo', 'reduce-spare-wheel', 'glonass', 'drowsy-driver-alert-system', 'android-auto', 'start-button', 'blind-spot', 'voice-recognition', 'remote-engine-start', 'electronic-gage-panel', 'auto-cruise', 'seat-memory', 'windcleaner-heat', 'audiopreparation', 'folding-tables-rear', 'panorama-roof', 'front-seats-heat-vent', 'start-stop-function', '360-camera', 'light-interior', 'steering-wheel-gear-shift-paddles', 'drive-mode-sys', 'collision-prevention-assist', 'driver-seat-electric', 'alcantara', 'multizone-climate-control', '19-inch-wheels', 'third-row-seats', 'projection-display', '13-inch-wheels', '14-inch-wheels', '220v-socket', 'traffic-sign-recognition', 'night-vision', 'lane-keeping-assist', 'airbrush', 'seats-5', 'driver-seat-support', 'seats-2', 'vsm', 'dha', 'velvet-seats', 'sport-suspension', 'black-roof', 'roller-blinds-for-rear-side-windows', 'turnbuckle', 'eco-leather', 'wireless-charger', 'e-adjustment-wheel', 'seats-4', 'armored', 'activ-suspension', 'electro-rear-seat', 'massage-seats', 'easy-trunk-opening', 'adj-pedals', 'ya-auto', 'PW1', '8T6', 'PL2', '9S6', '9P5', 'RAB', 'PN0', 'PB0', 'entertainment-system-for-rear-seat-passengers', 'rear-seat-heat-vent', 'power-latching-doors', 'seats-heat', 'immobiliser-not-standard', 'parktronik', 'laser-lights', 'halogen', 'air-suspension', 'electro-window-all', 'airbag-2', 'front-camera', 'passenger-seat-manual', 'driver-seat-manual', 'climate-control', 'wheel-memory', 'advanced-frontlighting-system', 'wheel-configuration3', 'audiosystem', '20-inch-wheels', '21-inch-wheels', 'laminated-safety-glass', 'body-kit', '22-inch-wheels', 'seats-6', '6XE', 'PX2', '3L5', '6NQ', 'PNQ', '9R1', 'KA2', '4D3', 'airbag-6', 'seats-8', '12-inch-wheels', 'electro-seat', 'passenger-seat-memory', 'airbag-4', '27-inch-wheels', 'climate-control-3', '25-inch-wheels', '23-inch-wheels', '235', '242', '246', '249', '270', '274', '351', '364', '367', '431', '448', '475', '500', '501', '513', '551', '670', '728', '772', '776', '807', '810', '824', '871', '873', '881', '882', '883', '889', '927', '989', 'U09', '51U', 'H06', 'U22', 'DZ9', 'P17', 'B63', 'RVR', '14U', 'R66', 'P29', '03B', 'P31', '16U', 'P44', 'R01', 'B16', '17U', 'L5C', 'seats-9', 'WVA', 'S7N', 'E0P', '24-inch-wheels', '2C5', '1N1', '7AA', '9AB', 'UI4', '6XD', '3B3', '7B2', '9S3', '4I2', '3NZ', '4UC', '4UE', '4A3', '4R2', '4R3', '6R1', '9T1', '3Q6', 'duo-body-color', '8T2', '8RM', 'CJ3', '9VS', '218', '345', '440', '632', '840', '301', '531', '540', '443', '608', '234', '401', 'U25', '414', '872', '61U', '597', '357', '228', '6XF', 'N4M', '8X1', '3S1', '4X4', '6E3', '7X5', 'PCH', '3FB', 'CJ4', 'F06', '28-inch-wheels', '298', 'PE6', '8RF', '239']\n",
      "####################################################################################################\n",
      "Train result: 4.379610221715629\n",
      "CV result: 12.214361798346323 ([12.0876913  11.98197756 12.57341653])\n",
      "####################################################################################################\n",
      "Wall time: 4min 35s\n"
     ]
    }
   ],
   "source": [
    "%%time\n",
    "fit_and_score_model(model, X_train, y)"
   ]
  },
  {
   "cell_type": "markdown",
   "metadata": {},
   "source": [
    "Результат значительно улучшился, время, которое уходит на просчет модели удвоилось"
   ]
  },
  {
   "cell_type": "markdown",
   "metadata": {},
   "source": [
    "### complectation_dict"
   ]
  },
  {
   "cell_type": "code",
   "execution_count": 104,
   "metadata": {},
   "outputs": [],
   "source": [
    "complectation_dataframe = create_dataframe_from_json_column('complectation_dict')"
   ]
  },
  {
   "cell_type": "code",
   "execution_count": 105,
   "metadata": {},
   "outputs": [
    {
     "data": {
      "text/html": [
       "<div>\n",
       "<style scoped>\n",
       "    .dataframe tbody tr th:only-of-type {\n",
       "        vertical-align: middle;\n",
       "    }\n",
       "\n",
       "    .dataframe tbody tr th {\n",
       "        vertical-align: top;\n",
       "    }\n",
       "\n",
       "    .dataframe thead th {\n",
       "        text-align: right;\n",
       "    }\n",
       "</style>\n",
       "<table border=\"1\" class=\"dataframe\">\n",
       "  <thead>\n",
       "    <tr style=\"text-align: right;\">\n",
       "      <th></th>\n",
       "      <th>id</th>\n",
       "      <th>name</th>\n",
       "      <th>available_options</th>\n",
       "      <th>vendor_colors</th>\n",
       "    </tr>\n",
       "  </thead>\n",
       "  <tbody>\n",
       "    <tr>\n",
       "      <th>0</th>\n",
       "      <td>NaN</td>\n",
       "      <td>NaN</td>\n",
       "      <td>NaN</td>\n",
       "      <td>NaN</td>\n",
       "    </tr>\n",
       "    <tr>\n",
       "      <th>1</th>\n",
       "      <td>NaN</td>\n",
       "      <td>NaN</td>\n",
       "      <td>NaN</td>\n",
       "      <td>NaN</td>\n",
       "    </tr>\n",
       "    <tr>\n",
       "      <th>2</th>\n",
       "      <td>20026336</td>\n",
       "      <td>Ambition</td>\n",
       "      <td>[heated-wash-system, airbag-passenger, lock, d...</td>\n",
       "      <td>NaN</td>\n",
       "    </tr>\n",
       "    <tr>\n",
       "      <th>3</th>\n",
       "      <td>20803582</td>\n",
       "      <td>Ambition</td>\n",
       "      <td>[heated-wash-system, airbag-passenger, lock, e...</td>\n",
       "      <td>[{'body_color_id': 20625189, 'mark_color_id': ...</td>\n",
       "    </tr>\n",
       "    <tr>\n",
       "      <th>4</th>\n",
       "      <td>NaN</td>\n",
       "      <td>NaN</td>\n",
       "      <td>NaN</td>\n",
       "      <td>NaN</td>\n",
       "    </tr>\n",
       "  </tbody>\n",
       "</table>\n",
       "</div>"
      ],
      "text/plain": [
       "         id      name                                  available_options  \\\n",
       "0       NaN       NaN                                                NaN   \n",
       "1       NaN       NaN                                                NaN   \n",
       "2  20026336  Ambition  [heated-wash-system, airbag-passenger, lock, d...   \n",
       "3  20803582  Ambition  [heated-wash-system, airbag-passenger, lock, e...   \n",
       "4       NaN       NaN                                                NaN   \n",
       "\n",
       "                                       vendor_colors  \n",
       "0                                                NaN  \n",
       "1                                                NaN  \n",
       "2                                                NaN  \n",
       "3  [{'body_color_id': 20625189, 'mark_color_id': ...  \n",
       "4                                                NaN  "
      ]
     },
     "execution_count": 105,
     "metadata": {},
     "output_type": "execute_result"
    }
   ],
   "source": [
    "complectation_dataframe.head()"
   ]
  },
  {
   "cell_type": "code",
   "execution_count": 106,
   "metadata": {},
   "outputs": [
    {
     "data": {
      "text/plain": [
       "id                  0.39\n",
       "name                0.71\n",
       "available_options   0.71\n",
       "vendor_colors       0.82\n",
       "dtype: float64"
      ]
     },
     "execution_count": 106,
     "metadata": {},
     "output_type": "execute_result"
    }
   ],
   "source": [
    "complectation_dataframe.isna().sum()/complectation_dataframe.shape[0]"
   ]
  },
  {
   "cell_type": "markdown",
   "metadata": {},
   "source": [
    "Из-за большого обилия пропусков проигнорируем данный признак"
   ]
  },
  {
   "cell_type": "markdown",
   "metadata": {},
   "source": [
    "### model_info"
   ]
  },
  {
   "cell_type": "code",
   "execution_count": 107,
   "metadata": {},
   "outputs": [],
   "source": [
    "model_dataframe = create_dataframe_from_json_column('model_info')"
   ]
  },
  {
   "cell_type": "code",
   "execution_count": 112,
   "metadata": {},
   "outputs": [
    {
     "data": {
      "text/html": [
       "<div>\n",
       "<style scoped>\n",
       "    .dataframe tbody tr th:only-of-type {\n",
       "        vertical-align: middle;\n",
       "    }\n",
       "\n",
       "    .dataframe tbody tr th {\n",
       "        vertical-align: top;\n",
       "    }\n",
       "\n",
       "    .dataframe thead th {\n",
       "        text-align: right;\n",
       "    }\n",
       "</style>\n",
       "<table border=\"1\" class=\"dataframe\">\n",
       "  <thead>\n",
       "    <tr style=\"text-align: right;\">\n",
       "      <th></th>\n",
       "      <th>code</th>\n",
       "      <th>name</th>\n",
       "      <th>ru_name</th>\n",
       "      <th>morphology</th>\n",
       "      <th>nameplate</th>\n",
       "    </tr>\n",
       "  </thead>\n",
       "  <tbody>\n",
       "    <tr>\n",
       "      <th>9033</th>\n",
       "      <td>X6</td>\n",
       "      <td>X6</td>\n",
       "      <td>Х6</td>\n",
       "      <td>{}</td>\n",
       "      <td>{'code': '9265284', 'name': '35i', 'semantic_u...</td>\n",
       "    </tr>\n",
       "    <tr>\n",
       "      <th>27091</th>\n",
       "      <td>ASX</td>\n",
       "      <td>ASX</td>\n",
       "      <td>ASX</td>\n",
       "      <td>{}</td>\n",
       "      <td>{'code': '', 'name': '', 'semantic_url': ''}</td>\n",
       "    </tr>\n",
       "    <tr>\n",
       "      <th>21824</th>\n",
       "      <td>CROWN</td>\n",
       "      <td>Crown</td>\n",
       "      <td>Краун</td>\n",
       "      <td>{}</td>\n",
       "      <td>{'code': '', 'name': '', 'semantic_url': ''}</td>\n",
       "    </tr>\n",
       "    <tr>\n",
       "      <th>56635</th>\n",
       "      <td>LX</td>\n",
       "      <td>LX</td>\n",
       "      <td>LX</td>\n",
       "      <td>{}</td>\n",
       "      <td>{'code': '9264685', 'name': '570', 'semantic_u...</td>\n",
       "    </tr>\n",
       "    <tr>\n",
       "      <th>23566</th>\n",
       "      <td>CADDY</td>\n",
       "      <td>Caddy</td>\n",
       "      <td>Кадди</td>\n",
       "      <td>{}</td>\n",
       "      <td>{'code': '', 'name': '', 'semantic_url': ''}</td>\n",
       "    </tr>\n",
       "    <tr>\n",
       "      <th>45929</th>\n",
       "      <td>QASHQAI</td>\n",
       "      <td>Qashqai</td>\n",
       "      <td>Кашкай</td>\n",
       "      <td>{}</td>\n",
       "      <td>{'code': '', 'name': '', 'semantic_url': ''}</td>\n",
       "    </tr>\n",
       "    <tr>\n",
       "      <th>32052</th>\n",
       "      <td>HR_V</td>\n",
       "      <td>HR-V</td>\n",
       "      <td>HR-V</td>\n",
       "      <td>{'gender': 'FEMININE'}</td>\n",
       "      <td>{'code': '', 'name': '', 'semantic_url': ''}</td>\n",
       "    </tr>\n",
       "    <tr>\n",
       "      <th>48927</th>\n",
       "      <td>MULTIVAN</td>\n",
       "      <td>Multivan</td>\n",
       "      <td>Мультивэн</td>\n",
       "      <td>{}</td>\n",
       "      <td>{'code': '', 'name': '', 'semantic_url': ''}</td>\n",
       "    </tr>\n",
       "    <tr>\n",
       "      <th>57636</th>\n",
       "      <td>OUTLANDER</td>\n",
       "      <td>Outlander</td>\n",
       "      <td>Аутлендер</td>\n",
       "      <td>{}</td>\n",
       "      <td>{'code': '', 'name': '', 'semantic_url': ''}</td>\n",
       "    </tr>\n",
       "    <tr>\n",
       "      <th>45782</th>\n",
       "      <td>X5</td>\n",
       "      <td>X5</td>\n",
       "      <td>Х5</td>\n",
       "      <td>{}</td>\n",
       "      <td>{'code': '9264650', 'name': '25d', 'semantic_u...</td>\n",
       "    </tr>\n",
       "  </tbody>\n",
       "</table>\n",
       "</div>"
      ],
      "text/plain": [
       "            code       name    ru_name              morphology  \\\n",
       "9033          X6         X6         Х6                      {}   \n",
       "27091        ASX        ASX        ASX                      {}   \n",
       "21824      CROWN      Crown      Краун                      {}   \n",
       "56635         LX         LX         LX                      {}   \n",
       "23566      CADDY      Caddy      Кадди                      {}   \n",
       "45929    QASHQAI    Qashqai     Кашкай                      {}   \n",
       "32052       HR_V       HR-V       HR-V  {'gender': 'FEMININE'}   \n",
       "48927   MULTIVAN   Multivan  Мультивэн                      {}   \n",
       "57636  OUTLANDER  Outlander  Аутлендер                      {}   \n",
       "45782         X5         X5         Х5                      {}   \n",
       "\n",
       "                                               nameplate  \n",
       "9033   {'code': '9265284', 'name': '35i', 'semantic_u...  \n",
       "27091       {'code': '', 'name': '', 'semantic_url': ''}  \n",
       "21824       {'code': '', 'name': '', 'semantic_url': ''}  \n",
       "56635  {'code': '9264685', 'name': '570', 'semantic_u...  \n",
       "23566       {'code': '', 'name': '', 'semantic_url': ''}  \n",
       "45929       {'code': '', 'name': '', 'semantic_url': ''}  \n",
       "32052       {'code': '', 'name': '', 'semantic_url': ''}  \n",
       "48927       {'code': '', 'name': '', 'semantic_url': ''}  \n",
       "57636       {'code': '', 'name': '', 'semantic_url': ''}  \n",
       "45782  {'code': '9264650', 'name': '25d', 'semantic_u...  "
      ]
     },
     "execution_count": 112,
     "metadata": {},
     "output_type": "execute_result"
    }
   ],
   "source": [
    "model_dataframe.fillna(False, inplace=True)\n",
    "model_dataframe.sample(10)"
   ]
  },
  {
   "cell_type": "markdown",
   "metadata": {},
   "source": [
    "Данные точнее раскрывают модель каждого авто, не вижу ценности в них"
   ]
  },
  {
   "cell_type": "markdown",
   "metadata": {},
   "source": [
    "### super_gen"
   ]
  },
  {
   "cell_type": "code",
   "execution_count": 116,
   "metadata": {},
   "outputs": [],
   "source": [
    "gen_dataframe = create_dataframe_from_json_column('super_gen')"
   ]
  },
  {
   "cell_type": "code",
   "execution_count": 117,
   "metadata": {},
   "outputs": [
    {
     "data": {
      "text/html": [
       "<div>\n",
       "<style scoped>\n",
       "    .dataframe tbody tr th:only-of-type {\n",
       "        vertical-align: middle;\n",
       "    }\n",
       "\n",
       "    .dataframe tbody tr th {\n",
       "        vertical-align: top;\n",
       "    }\n",
       "\n",
       "    .dataframe thead th {\n",
       "        text-align: right;\n",
       "    }\n",
       "</style>\n",
       "<table border=\"1\" class=\"dataframe\">\n",
       "  <thead>\n",
       "    <tr style=\"text-align: right;\">\n",
       "      <th></th>\n",
       "      <th>id</th>\n",
       "      <th>displacement</th>\n",
       "      <th>engine_type</th>\n",
       "      <th>gear_type</th>\n",
       "      <th>transmission</th>\n",
       "      <th>power</th>\n",
       "      <th>power_kvt</th>\n",
       "      <th>human_name</th>\n",
       "      <th>acceleration</th>\n",
       "      <th>clearance_min</th>\n",
       "      <th>fuel_rate</th>\n",
       "      <th>nameplate</th>\n",
       "      <th>clearance_max</th>\n",
       "      <th>name</th>\n",
       "      <th>ru_name</th>\n",
       "      <th>year_from</th>\n",
       "      <th>price_segment</th>\n",
       "      <th>year_to</th>\n",
       "    </tr>\n",
       "  </thead>\n",
       "  <tbody>\n",
       "    <tr>\n",
       "      <th>13750</th>\n",
       "      <td>4760334</td>\n",
       "      <td>2,988.00</td>\n",
       "      <td>GASOLINE</td>\n",
       "      <td>FORWARD_CONTROL</td>\n",
       "      <td>AUTOMATIC</td>\n",
       "      <td>200.00</td>\n",
       "      <td>147.00</td>\n",
       "      <td>3.0 AT (200 л.с.)</td>\n",
       "      <td>9.60</td>\n",
       "      <td>175.00</td>\n",
       "      <td>nan</td>\n",
       "      <td>NaN</td>\n",
       "      <td>nan</td>\n",
       "      <td>NaN</td>\n",
       "      <td>NaN</td>\n",
       "      <td>nan</td>\n",
       "      <td>NaN</td>\n",
       "      <td>nan</td>\n",
       "    </tr>\n",
       "    <tr>\n",
       "      <th>62026</th>\n",
       "      <td>20677557</td>\n",
       "      <td>nan</td>\n",
       "      <td>NaN</td>\n",
       "      <td>NaN</td>\n",
       "      <td>NaN</td>\n",
       "      <td>nan</td>\n",
       "      <td>nan</td>\n",
       "      <td>NaN</td>\n",
       "      <td>nan</td>\n",
       "      <td>nan</td>\n",
       "      <td>nan</td>\n",
       "      <td>NaN</td>\n",
       "      <td>nan</td>\n",
       "      <td>200 Series Рестайлинг 2</td>\n",
       "      <td>200 Рестайлинг 2</td>\n",
       "      <td>2,015.00</td>\n",
       "      <td>PREMIUM</td>\n",
       "      <td>nan</td>\n",
       "    </tr>\n",
       "    <tr>\n",
       "      <th>28953</th>\n",
       "      <td>7772088</td>\n",
       "      <td>1,584.00</td>\n",
       "      <td>GASOLINE</td>\n",
       "      <td>FORWARD_CONTROL</td>\n",
       "      <td>AUTOMATIC</td>\n",
       "      <td>98.00</td>\n",
       "      <td>72.00</td>\n",
       "      <td>1.6 AT (98 л.с.)</td>\n",
       "      <td>13.60</td>\n",
       "      <td>165.00</td>\n",
       "      <td>7.90</td>\n",
       "      <td>NaN</td>\n",
       "      <td>nan</td>\n",
       "      <td>NaN</td>\n",
       "      <td>NaN</td>\n",
       "      <td>nan</td>\n",
       "      <td>NaN</td>\n",
       "      <td>nan</td>\n",
       "    </tr>\n",
       "    <tr>\n",
       "      <th>27189</th>\n",
       "      <td>8352278</td>\n",
       "      <td>1,998.00</td>\n",
       "      <td>GASOLINE</td>\n",
       "      <td>ALL_WHEEL_DRIVE</td>\n",
       "      <td>VARIATOR</td>\n",
       "      <td>146.00</td>\n",
       "      <td>107.00</td>\n",
       "      <td>2.0 CVT (146 л.с.) 4WD</td>\n",
       "      <td>12.00</td>\n",
       "      <td>215.00</td>\n",
       "      <td>7.80</td>\n",
       "      <td>NaN</td>\n",
       "      <td>nan</td>\n",
       "      <td>NaN</td>\n",
       "      <td>NaN</td>\n",
       "      <td>nan</td>\n",
       "      <td>NaN</td>\n",
       "      <td>nan</td>\n",
       "    </tr>\n",
       "    <tr>\n",
       "      <th>50683</th>\n",
       "      <td>10398058</td>\n",
       "      <td>nan</td>\n",
       "      <td>NaN</td>\n",
       "      <td>NaN</td>\n",
       "      <td>NaN</td>\n",
       "      <td>nan</td>\n",
       "      <td>nan</td>\n",
       "      <td>NaN</td>\n",
       "      <td>nan</td>\n",
       "      <td>nan</td>\n",
       "      <td>nan</td>\n",
       "      <td>NaN</td>\n",
       "      <td>nan</td>\n",
       "      <td>F32/F33/F36</td>\n",
       "      <td>Ф32/Ф33/Ф36</td>\n",
       "      <td>2,013.00</td>\n",
       "      <td>PREMIUM</td>\n",
       "      <td>2,017.00</td>\n",
       "    </tr>\n",
       "    <tr>\n",
       "      <th>13603</th>\n",
       "      <td>3480718</td>\n",
       "      <td>1,998.00</td>\n",
       "      <td>GASOLINE</td>\n",
       "      <td>ALL_WHEEL_DRIVE</td>\n",
       "      <td>MECHANICAL</td>\n",
       "      <td>140.00</td>\n",
       "      <td>103.00</td>\n",
       "      <td>2.0 MT (140 л.с.) 4WD</td>\n",
       "      <td>11.30</td>\n",
       "      <td>200.00</td>\n",
       "      <td>9.30</td>\n",
       "      <td>NaN</td>\n",
       "      <td>nan</td>\n",
       "      <td>NaN</td>\n",
       "      <td>NaN</td>\n",
       "      <td>nan</td>\n",
       "      <td>NaN</td>\n",
       "      <td>nan</td>\n",
       "    </tr>\n",
       "    <tr>\n",
       "      <th>9103</th>\n",
       "      <td>7710483</td>\n",
       "      <td>1,997.00</td>\n",
       "      <td>GASOLINE</td>\n",
       "      <td>ALL_WHEEL_DRIVE</td>\n",
       "      <td>AUTOMATIC</td>\n",
       "      <td>245.00</td>\n",
       "      <td>180.00</td>\n",
       "      <td>528i xDrive 2.0 AT (245 л.с.) 4WD</td>\n",
       "      <td>6.50</td>\n",
       "      <td>141.00</td>\n",
       "      <td>7.00</td>\n",
       "      <td>528i xDrive</td>\n",
       "      <td>nan</td>\n",
       "      <td>528</td>\n",
       "      <td>NaN</td>\n",
       "      <td>nan</td>\n",
       "      <td>NaN</td>\n",
       "      <td>nan</td>\n",
       "    </tr>\n",
       "    <tr>\n",
       "      <th>68524</th>\n",
       "      <td>20368749</td>\n",
       "      <td>nan</td>\n",
       "      <td>NaN</td>\n",
       "      <td>NaN</td>\n",
       "      <td>NaN</td>\n",
       "      <td>nan</td>\n",
       "      <td>nan</td>\n",
       "      <td>NaN</td>\n",
       "      <td>nan</td>\n",
       "      <td>nan</td>\n",
       "      <td>nan</td>\n",
       "      <td>NaN</td>\n",
       "      <td>nan</td>\n",
       "      <td>II (4M)</td>\n",
       "      <td>2 (4M)</td>\n",
       "      <td>2,015.00</td>\n",
       "      <td>PREMIUM</td>\n",
       "      <td>2,019.00</td>\n",
       "    </tr>\n",
       "    <tr>\n",
       "      <th>34622</th>\n",
       "      <td>21131144</td>\n",
       "      <td>1,986.00</td>\n",
       "      <td>GASOLINE</td>\n",
       "      <td>ALL_WHEEL_DRIVE</td>\n",
       "      <td>VARIATOR</td>\n",
       "      <td>150.00</td>\n",
       "      <td>110.00</td>\n",
       "      <td>200 2.0 CVT (150 л.с.) 4WD</td>\n",
       "      <td>12.30</td>\n",
       "      <td>185.00</td>\n",
       "      <td>7.50</td>\n",
       "      <td>200</td>\n",
       "      <td>nan</td>\n",
       "      <td>200</td>\n",
       "      <td>NaN</td>\n",
       "      <td>nan</td>\n",
       "      <td>NaN</td>\n",
       "      <td>nan</td>\n",
       "    </tr>\n",
       "    <tr>\n",
       "      <th>44913</th>\n",
       "      <td>20896051</td>\n",
       "      <td>nan</td>\n",
       "      <td>NaN</td>\n",
       "      <td>NaN</td>\n",
       "      <td>NaN</td>\n",
       "      <td>nan</td>\n",
       "      <td>nan</td>\n",
       "      <td>NaN</td>\n",
       "      <td>nan</td>\n",
       "      <td>nan</td>\n",
       "      <td>nan</td>\n",
       "      <td>NaN</td>\n",
       "      <td>nan</td>\n",
       "      <td>I (X156) Рестайлинг</td>\n",
       "      <td>1 (Х156) Рестайлинг</td>\n",
       "      <td>2,017.00</td>\n",
       "      <td>PREMIUM</td>\n",
       "      <td>2,020.00</td>\n",
       "    </tr>\n",
       "  </tbody>\n",
       "</table>\n",
       "</div>"
      ],
      "text/plain": [
       "             id  displacement engine_type        gear_type transmission  \\\n",
       "13750   4760334      2,988.00    GASOLINE  FORWARD_CONTROL    AUTOMATIC   \n",
       "62026  20677557           nan         NaN              NaN          NaN   \n",
       "28953   7772088      1,584.00    GASOLINE  FORWARD_CONTROL    AUTOMATIC   \n",
       "27189   8352278      1,998.00    GASOLINE  ALL_WHEEL_DRIVE     VARIATOR   \n",
       "50683  10398058           nan         NaN              NaN          NaN   \n",
       "13603   3480718      1,998.00    GASOLINE  ALL_WHEEL_DRIVE   MECHANICAL   \n",
       "9103    7710483      1,997.00    GASOLINE  ALL_WHEEL_DRIVE    AUTOMATIC   \n",
       "68524  20368749           nan         NaN              NaN          NaN   \n",
       "34622  21131144      1,986.00    GASOLINE  ALL_WHEEL_DRIVE     VARIATOR   \n",
       "44913  20896051           nan         NaN              NaN          NaN   \n",
       "\n",
       "       power  power_kvt                         human_name  acceleration  \\\n",
       "13750 200.00     147.00                  3.0 AT (200 л.с.)          9.60   \n",
       "62026    nan        nan                                NaN           nan   \n",
       "28953  98.00      72.00                   1.6 AT (98 л.с.)         13.60   \n",
       "27189 146.00     107.00             2.0 CVT (146 л.с.) 4WD         12.00   \n",
       "50683    nan        nan                                NaN           nan   \n",
       "13603 140.00     103.00              2.0 MT (140 л.с.) 4WD         11.30   \n",
       "9103  245.00     180.00  528i xDrive 2.0 AT (245 л.с.) 4WD          6.50   \n",
       "68524    nan        nan                                NaN           nan   \n",
       "34622 150.00     110.00         200 2.0 CVT (150 л.с.) 4WD         12.30   \n",
       "44913    nan        nan                                NaN           nan   \n",
       "\n",
       "       clearance_min  fuel_rate    nameplate  clearance_max  \\\n",
       "13750         175.00        nan          NaN            nan   \n",
       "62026            nan        nan          NaN            nan   \n",
       "28953         165.00       7.90          NaN            nan   \n",
       "27189         215.00       7.80          NaN            nan   \n",
       "50683            nan        nan          NaN            nan   \n",
       "13603         200.00       9.30          NaN            nan   \n",
       "9103          141.00       7.00  528i xDrive            nan   \n",
       "68524            nan        nan          NaN            nan   \n",
       "34622         185.00       7.50          200            nan   \n",
       "44913            nan        nan          NaN            nan   \n",
       "\n",
       "                          name              ru_name  year_from price_segment  \\\n",
       "13750                      NaN                  NaN        nan           NaN   \n",
       "62026  200 Series Рестайлинг 2     200 Рестайлинг 2   2,015.00       PREMIUM   \n",
       "28953                      NaN                  NaN        nan           NaN   \n",
       "27189                      NaN                  NaN        nan           NaN   \n",
       "50683              F32/F33/F36          Ф32/Ф33/Ф36   2,013.00       PREMIUM   \n",
       "13603                      NaN                  NaN        nan           NaN   \n",
       "9103                       528                  NaN        nan           NaN   \n",
       "68524                  II (4M)               2 (4M)   2,015.00       PREMIUM   \n",
       "34622                      200                  NaN        nan           NaN   \n",
       "44913      I (X156) Рестайлинг  1 (Х156) Рестайлинг   2,017.00       PREMIUM   \n",
       "\n",
       "       year_to  \n",
       "13750      nan  \n",
       "62026      nan  \n",
       "28953      nan  \n",
       "27189      nan  \n",
       "50683 2,017.00  \n",
       "13603      nan  \n",
       "9103       nan  \n",
       "68524 2,019.00  \n",
       "34622      nan  \n",
       "44913 2,020.00  "
      ]
     },
     "execution_count": 117,
     "metadata": {},
     "output_type": "execute_result"
    }
   ],
   "source": [
    "gen_dataframe.sample(10)"
   ]
  },
  {
   "cell_type": "code",
   "execution_count": 118,
   "metadata": {},
   "outputs": [
    {
     "data": {
      "text/plain": [
       "id                   0\n",
       "displacement     37079\n",
       "engine_type      37079\n",
       "gear_type        37079\n",
       "transmission     37079\n",
       "power            37079\n",
       "power_kvt        37079\n",
       "human_name       37079\n",
       "acceleration     39024\n",
       "clearance_min    38030\n",
       "fuel_rate        40555\n",
       "nameplate        61059\n",
       "clearance_max    71169\n",
       "name             25362\n",
       "ru_name          37318\n",
       "year_from        34686\n",
       "price_segment    34686\n",
       "year_to          45457\n",
       "dtype: int64"
      ]
     },
     "execution_count": 118,
     "metadata": {},
     "output_type": "execute_result"
    }
   ],
   "source": [
    "gen_dataframe.isna().sum()"
   ]
  },
  {
   "cell_type": "markdown",
   "metadata": {},
   "source": [
    "Используемый мной парсер  не заполнил данное поле в тренировочном датасете, поэтому невозможно извлечь из него ценные для модели признаки"
   ]
  },
  {
   "cell_type": "markdown",
   "metadata": {},
   "source": [
    "### Оформим все вышеприведенные признаки в одну функцию"
   ]
  },
  {
   "cell_type": "code",
   "execution_count": 120,
   "metadata": {},
   "outputs": [],
   "source": [
    "def parse_dict_column(row, column_name):\n",
    "    \"\"\"Функция парсит значение в ячейке.\n",
    "    Если это train строка то применяет функцию eval\n",
    "    Если это test - то загружает методом json.loads\n",
    "    Возвращает dict полученный из строкового представления.\n",
    "    Или возвращает None если значение не указано, или словарь пустой\"\"\"\n",
    "    if row[column_name] is np.nan:\n",
    "        value = None\n",
    "    elif row.is_train:\n",
    "        value = eval(row[column_name])\n",
    "    else:\n",
    "        value = json.loads(row[column_name])\n",
    "    \n",
    "    return value if value else None\n",
    "\n",
    "def create_dataframe_from_json_column(df, column_name):\n",
    "    \"\"\"Создает датафрейм из колонки, в которой храняться json(dict) параметров автомобиля \"\"\"\n",
    "    series_ = df.apply(partial(parse_dict_column, column_name=column_name), axis=1)\n",
    "    dataframe_ = series_.apply(pd.Series)\n",
    "    return dataframe_\n",
    "\n",
    "def feature_enginering_add_equipment_features(df):\n",
    "    \"\"\"Сгенерируем новые фичи из колонки equipment_dict, возмьмем не все а ТОП 100 признаков\"\"\"\n",
    "    \n",
    "    equipment_dataframe = create_dataframe_from_json_column(df, 'equipment_dict')\n",
    "    equipment_dataframe.fillna(False, inplace=True)\n",
    "    \n",
    "    return pd.concat([df, equipment_dataframe],\n",
    "          axis=1)"
   ]
  },
  {
   "cell_type": "code",
   "execution_count": 121,
   "metadata": {},
   "outputs": [
    {
     "name": "stdout",
     "output_type": "stream",
     "text": [
      "Wall time: 37.6 s\n"
     ]
    }
   ],
   "source": [
    "%%time\n",
    "df = feature_enginering_add_equipment_features(df)"
   ]
  },
  {
   "cell_type": "code",
   "execution_count": 122,
   "metadata": {},
   "outputs": [],
   "source": [
    "cat_cols = ['bodyType', 'brand', 'fuelType', 'color', 'model_name',\n",
    "            'vehicleTransmission', 'vendor', 'ПТС', 'Владельцы', 'Привод', 'Руль'] \n",
    "num_cols = ['productionDate', 'numberOfDoors',\n",
    "            'enginePower_log', 'mileage_log', 'diff_date_model_production'] + list(equipment_dataframe.columns.values)"
   ]
  },
  {
   "cell_type": "markdown",
   "metadata": {},
   "source": [
    "### Итоги\n",
    "На данный момент важные для модели фичи смогли извлечь лишь из equipment_dict"
   ]
  },
  {
   "cell_type": "markdown",
   "metadata": {},
   "source": [
    "### Генерация колонок из текстового описания объявления\n"
   ]
  },
  {
   "cell_type": "code",
   "execution_count": 123,
   "metadata": {},
   "outputs": [
    {
     "data": {
      "text/plain": [
       "0        Все автомобили, представленные в продаже, прох...\n",
       "1        ЛОТ: 01217195\\nАвтопрага Север\\nДанный автомоб...\n",
       "2        Все автомобили, представленные в продаже, прох...\n",
       "3        КОМПЛЕКТ ЗИМНЕЙ (ЛЕТНЕЙ) РЕЗИНЫ ПО СЕЗОНУ В ПО...\n",
       "4        ЛОТ: 01220889\\nАвтопрага Север\\n\\nВы можете по...\n",
       "                               ...                        \n",
       "71760    Комплектация: Volvo XC90 T5 Inscription 7 мест...\n",
       "71761    Обмен и прочее не интересует, ставить никуда н...\n",
       "71762    Этот автомобиль в наличии и доступен к просмот...\n",
       "71763    Этот автомобиль в наличии и доступен к просмот...\n",
       "71764    Акционная стоимость действует при условии прим...\n",
       "Name: description, Length: 71765, dtype: object"
      ]
     },
     "execution_count": 123,
     "metadata": {},
     "output_type": "execute_result"
    }
   ],
   "source": [
    "df.description"
   ]
  },
  {
   "cell_type": "code",
   "execution_count": 124,
   "metadata": {},
   "outputs": [],
   "source": [
    "def remove_uppercase_and_punctuation(serie: pd.Series):\n",
    "    \"\"\"Переводит текстовую колонку в нижний регистр и удаляет знаки препинания\"\"\"\n",
    "    punct = '!\"#$%&\\'()*+,-./:;<=>?@[\\\\]^_`{}~'   # `|` is not present here\n",
    "    transtab = str.maketrans(dict.fromkeys(punct, ''))\n",
    "    \n",
    "    serie = serie.str.lower().str.replace(\"|\",\"\").fillna('')\n",
    "    return pd.Series('|'.join(serie.tolist()).translate(transtab).split('|'))"
   ]
  },
  {
   "cell_type": "markdown",
   "metadata": {},
   "source": [
    "#### Удалим знаки препинания и стоп слова"
   ]
  },
  {
   "cell_type": "code",
   "execution_count": 125,
   "metadata": {},
   "outputs": [],
   "source": [
    "df.description = remove_uppercase_and_punctuation(df.description)"
   ]
  },
  {
   "cell_type": "code",
   "execution_count": 129,
   "metadata": {
    "scrolled": false
   },
   "outputs": [
    {
     "data": {
      "text/plain": [
       "0        все автомобили представленные в продаже проход...\n",
       "1        лот 01217195\\nавтопрага север\\nданный автомоби...\n",
       "2        все автомобили представленные в продаже проход...\n",
       "3        комплект зимней летней резины по сезону в пода...\n",
       "4        лот 01220889\\nавтопрага север\\n\\nвы можете пол...\n",
       "                               ...                        \n",
       "71760    комплектация volvo xc90 t5 inscription 7 мест ...\n",
       "71761    обмен и прочее не интересует ставить никуда не...\n",
       "71762    этот автомобиль в наличии и доступен к просмот...\n",
       "71763    этот автомобиль в наличии и доступен к просмот...\n",
       "71764    акционная стоимость действует при условии прим...\n",
       "Name: description, Length: 71765, dtype: object"
      ]
     },
     "execution_count": 129,
     "metadata": {},
     "output_type": "execute_result"
    }
   ],
   "source": [
    "df.description "
   ]
  },
  {
   "cell_type": "markdown",
   "metadata": {},
   "source": [
    "##### Попробуем составить список слов, которые типичны для объявлений, где продавцом является салон, а не частное лицо и введем колонку is_salon"
   ]
  },
  {
   "cell_type": "code",
   "execution_count": 130,
   "metadata": {},
   "outputs": [
    {
     "ename": "SyntaxError",
     "evalue": "invalid syntax (<ipython-input-130-5d119cc2df8f>, line 3)",
     "output_type": "error",
     "traceback": [
      "\u001b[1;36m  File \u001b[1;32m\"<ipython-input-130-5d119cc2df8f>\"\u001b[1;36m, line \u001b[1;32m3\u001b[0m\n\u001b[1;33m    if is_salon_words\u001b[0m\n\u001b[1;37m                     ^\u001b[0m\n\u001b[1;31mSyntaxError\u001b[0m\u001b[1;31m:\u001b[0m invalid syntax\n"
     ]
    }
   ],
   "source": [
    "is_salon_words = ['сотрудничаем', 'tradein', 'скидку', 'скидка','тестдрайв','комиссии']\n",
    "for i in range(1,len(df.description)+1):\n",
    "    if is_salon_words"
   ]
  },
  {
   "cell_type": "markdown",
   "metadata": {},
   "source": [
    "### Итоги"
   ]
  },
  {
   "cell_type": "code",
   "execution_count": 131,
   "metadata": {},
   "outputs": [],
   "source": [
    "cat_cols = ['bodyType', 'brand', 'fuelType', 'color', 'model_name',\n",
    "            'vehicleTransmission', 'vendor', 'ПТС', 'Владельцы', 'Привод', 'Руль'] \n",
    "num_cols = ['productionDate', 'numberOfDoors',\n",
    "            'enginePower_log', 'mileage_log', 'diff_date_model_production'] + list(equipment_dataframe.columns.values)"
   ]
  },
  {
   "cell_type": "code",
   "execution_count": 132,
   "metadata": {},
   "outputs": [],
   "source": [
    "X_train, X_test, y = prepare_data(cat_cols, num_cols)"
   ]
  },
  {
   "cell_type": "code",
   "execution_count": 133,
   "metadata": {},
   "outputs": [],
   "source": [
    "model = RandomForestRegressor(100, random_state=RANDOM_STATE)"
   ]
  },
  {
   "cell_type": "code",
   "execution_count": 134,
   "metadata": {},
   "outputs": [
    {
     "name": "stdout",
     "output_type": "stream",
     "text": [
      "####################################################################################################\n",
      "RandomForestRegressor(random_state=43)\n",
      "train shape (37079, 1416)\n",
      "cat_cols=['bodyType', 'brand', 'fuelType', 'color', 'model_name', 'vehicleTransmission', 'vendor', 'ПТС', 'Владельцы', 'Привод', 'Руль']\n",
      "num_cols=['productionDate', 'numberOfDoors', 'enginePower_log', 'mileage_log', 'diff_date_model_production', 'engine-proof', 'tinted-glass', 'airbag-driver', 'aux', 'isofix', 'electro-window-front', 'ashtray-and-cigarette-lighter', 'airbag-passenger', 'computer', 'high-beam-assist', 'seat-transformation', 'isofix-front', 'wheel-power', 'alarm', 'lock', 'door-sill-panel', 'fabric-seats', 'electro-mirrors', 'airbag-rear-side', 'electro-window-back', 'steel-wheels', 'ptf', '16-inch-wheels', 'rain-sensor', 'airbag-side', 'audiosystem-cd', 'dark-interior', 'cooling-box', 'condition', 'abs', 'power-child-locks-rear-doors', 'front-seats-heat', 'wheel-configuration2', 'wheel-configuration1', '12v-socket', 'park-assist-r', 'cruise-control', 'asr', 'esp', 'usb', 'light-sensor', 'drl', 'alloy-wheel-disks', 'tyre-pressure', 'mirrors-heat', 'driver-seat-updown', 'wheel-heat', 'bluetooth', 'immo', 'windscreen-heat', 'climate-control-2', 'adaptive-light', 'multi-wheel', 'xenon', 'heated-wash-system', 'front-centre-armrest', 'body-mouldings', 'combo-interior', 'rear-seats-heat', 'knee-airbag', 'hcc', 'airbag-curtain', 'light-cleaner', 'leather-gear-stick', 'wheel-leather', 'auto-mirrors', 'third-rear-headrest', 'roller-blind-for-rear-window', 'spare-wheel', 'navigation', 'folding-front-passenger-seat', 'programmed-block-heater', 'passenger-seat-updown', 'sport-seats', 'front-seat-support', '18-inch-wheels', 'volume-sensor', 'hatch', 'music-super', 'automatic-lighting-control', 'paint-metallic', 'climate-control-1', 'roof-rails', '17-inch-wheels', 'sport-pedals', 'gbo', 'park-assist-f', 'feedback-alarm', 'passenger-seat-electric', 'leather', 'electro-trunk', 'driver-seat-memory', 'keyless-entry', 'rear-camera', 'led-lights', '15-inch-wheels', 'audiosystem-tv', 'seats-7', 'auto-park', 'apple-carplay', 'decorative-interior-lighting', 'bas', 'servo', 'reduce-spare-wheel', 'glonass', 'drowsy-driver-alert-system', 'android-auto', 'start-button', 'blind-spot', 'voice-recognition', 'remote-engine-start', 'electronic-gage-panel', 'auto-cruise', 'seat-memory', 'windcleaner-heat', 'audiopreparation', 'folding-tables-rear', 'panorama-roof', 'front-seats-heat-vent', 'start-stop-function', '360-camera', 'light-interior', 'steering-wheel-gear-shift-paddles', 'drive-mode-sys', 'collision-prevention-assist', 'driver-seat-electric', 'alcantara', 'multizone-climate-control', '19-inch-wheels', 'third-row-seats', 'projection-display', '13-inch-wheels', '14-inch-wheels', '220v-socket', 'traffic-sign-recognition', 'night-vision', 'lane-keeping-assist', 'airbrush', 'seats-5', 'driver-seat-support', 'seats-2', 'vsm', 'dha', 'velvet-seats', 'sport-suspension', 'black-roof', 'roller-blinds-for-rear-side-windows', 'turnbuckle', 'eco-leather', 'wireless-charger', 'e-adjustment-wheel', 'seats-4', 'armored', 'activ-suspension', 'electro-rear-seat', 'massage-seats', 'easy-trunk-opening', 'adj-pedals', 'ya-auto', 'PW1', '8T6', 'PL2', '9S6', '9P5', 'RAB', 'PN0', 'PB0', 'entertainment-system-for-rear-seat-passengers', 'rear-seat-heat-vent', 'power-latching-doors', 'seats-heat', 'immobiliser-not-standard', 'parktronik', 'laser-lights', 'halogen', 'air-suspension', 'electro-window-all', 'airbag-2', 'front-camera', 'passenger-seat-manual', 'driver-seat-manual', 'climate-control', 'wheel-memory', 'advanced-frontlighting-system', 'wheel-configuration3', 'audiosystem', '20-inch-wheels', '21-inch-wheels', 'laminated-safety-glass', 'body-kit', '22-inch-wheels', 'seats-6', '6XE', 'PX2', '3L5', '6NQ', 'PNQ', '9R1', 'KA2', '4D3', 'airbag-6', 'seats-8', '12-inch-wheels', 'electro-seat', 'passenger-seat-memory', 'airbag-4', '27-inch-wheels', 'climate-control-3', '25-inch-wheels', '23-inch-wheels', '235', '242', '246', '249', '270', '274', '351', '364', '367', '431', '448', '475', '500', '501', '513', '551', '670', '728', '772', '776', '807', '810', '824', '871', '873', '881', '882', '883', '889', '927', '989', 'U09', '51U', 'H06', 'U22', 'DZ9', 'P17', 'B63', 'RVR', '14U', 'R66', 'P29', '03B', 'P31', '16U', 'P44', 'R01', 'B16', '17U', 'L5C', 'seats-9', 'WVA', 'S7N', 'E0P', '24-inch-wheels', '2C5', '1N1', '7AA', '9AB', 'UI4', '6XD', '3B3', '7B2', '9S3', '4I2', '3NZ', '4UC', '4UE', '4A3', '4R2', '4R3', '6R1', '9T1', '3Q6', 'duo-body-color', '8T2', '8RM', 'CJ3', '9VS', '218', '345', '440', '632', '840', '301', '531', '540', '443', '608', '234', '401', 'U25', '414', '872', '61U', '597', '357', '228', '6XF', 'N4M', '8X1', '3S1', '4X4', '6E3', '7X5', 'PCH', '3FB', 'CJ4', 'F06', '28-inch-wheels', '298', 'PE6', '8RF', '239']\n",
      "####################################################################################################\n",
      "Train result: 4.381530950132319\n",
      "CV result: 12.242988415604103 ([12.1236725  12.02205051 12.58324224])\n",
      "####################################################################################################\n",
      "Wall time: 7min\n"
     ]
    }
   ],
   "source": [
    "%%time\n",
    "fit_and_score_model(model, X_train, y)"
   ]
  },
  {
   "cell_type": "code",
   "execution_count": 135,
   "metadata": {},
   "outputs": [],
   "source": [
    "make_submit_file(model, X_test, \"predict_after_feature_enginering.csv\")"
   ]
  },
  {
   "cell_type": "markdown",
   "metadata": {},
   "source": [
    "### Сохраним датасет для дальнейшей обработки"
   ]
  },
  {
   "cell_type": "code",
   "execution_count": 136,
   "metadata": {},
   "outputs": [],
   "source": [
    "df.to_csv('data2.csv')"
   ]
  },
  {
   "cell_type": "code",
   "execution_count": null,
   "metadata": {},
   "outputs": [],
   "source": []
  }
 ],
 "metadata": {
  "kernelspec": {
   "display_name": "Python 3",
   "language": "python",
   "name": "python3"
  },
  "language_info": {
   "codemirror_mode": {
    "name": "ipython",
    "version": 3
   },
   "file_extension": ".py",
   "mimetype": "text/x-python",
   "name": "python",
   "nbconvert_exporter": "python",
   "pygments_lexer": "ipython3",
   "version": "3.8.3"
  }
 },
 "nbformat": 4,
 "nbformat_minor": 4
}
