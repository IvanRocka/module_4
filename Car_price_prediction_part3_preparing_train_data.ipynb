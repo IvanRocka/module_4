{
 "cells": [
  {
   "cell_type": "markdown",
   "metadata": {},
   "source": [
    "Мы спарсили объявления с сайта auto.ru с помощью скрипта.\n",
    "\n",
    "В каталоге train лежит много csv файлов, и теперь нужно с ними поработать.\n",
    "\n",
    "* Объединим их в один датасет\n",
    "* Удалим дубликаты\n",
    "* Приведем собранные данные в тот же формат, что и в тестовом наборе"
   ]
  },
  {
   "cell_type": "code",
   "execution_count": 5,
   "metadata": {},
   "outputs": [],
   "source": [
    "import os\n",
    "import pandas as pd"
   ]
  },
  {
   "cell_type": "code",
   "execution_count": 6,
   "metadata": {},
   "outputs": [],
   "source": [
    "TRAIN_FOLDER_PATH = \"train_folder\""
   ]
  },
  {
   "cell_type": "code",
   "execution_count": 7,
   "metadata": {},
   "outputs": [],
   "source": [
    "df_train = []\n",
    "for file_name in os.listdir(TRAIN_FOLDER_PATH):\n",
    "    #print(pd.read_csv(os.path.join(TRAIN_FOLDER_PATH,file_name)).shape)\n",
    "    df_train.append(pd.read_csv(os.path.join(TRAIN_FOLDER_PATH,file_name)))\n",
    "df = pd.concat(df_train)"
   ]
  },
  {
   "cell_type": "code",
   "execution_count": 8,
   "metadata": {},
   "outputs": [
    {
     "data": {
      "text/plain": [
       "(175716, 34)"
      ]
     },
     "execution_count": 8,
     "metadata": {},
     "output_type": "execute_result"
    }
   ],
   "source": [
    "df.shape"
   ]
  },
  {
   "cell_type": "code",
   "execution_count": 9,
   "metadata": {},
   "outputs": [
    {
     "data": {
      "text/plain": [
       "0       040001\n",
       "1       200204\n",
       "2       97948F\n",
       "3       040001\n",
       "4       040001\n",
       "         ...  \n",
       "1845    4A2197\n",
       "1846    007F00\n",
       "1847    97948F\n",
       "1848    200204\n",
       "1849    FAFBFB\n",
       "Name: color, Length: 175716, dtype: object"
      ]
     },
     "execution_count": 9,
     "metadata": {},
     "output_type": "execute_result"
    }
   ],
   "source": [
    "#df.info()\n",
    "df.color"
   ]
  },
  {
   "cell_type": "code",
   "execution_count": 10,
   "metadata": {},
   "outputs": [
    {
     "data": {
      "text/plain": [
       "bodyType                     0\n",
       "brand                        0\n",
       "car_url                      0\n",
       "color                        0\n",
       "complectation_dict           0\n",
       "description               1546\n",
       "engineDisplacement           0\n",
       "enginePower                  0\n",
       "location                     0\n",
       "equipment_dict               0\n",
       "fuelType                     0\n",
       "image                        0\n",
       "mileage                      0\n",
       "modelDate                    0\n",
       "model_info                   0\n",
       "model_name                   0\n",
       "name                         0\n",
       "numberOfDoors                0\n",
       "parsing_unixtime             0\n",
       "priceCurrency                0\n",
       "productionDate               0\n",
       "sell_id                      0\n",
       "super_gen                    0\n",
       "vehicleConfiguration         0\n",
       "vehicleTransmission          0\n",
       "vendor                       0\n",
       "Владельцы                38841\n",
       "Владение                149547\n",
       "ПТС                        424\n",
       "Привод                       0\n",
       "Руль                         0\n",
       "Состояние                    0\n",
       "Таможня                      0\n",
       "price                        0\n",
       "dtype: int64"
      ]
     },
     "execution_count": 10,
     "metadata": {},
     "output_type": "execute_result"
    }
   ],
   "source": [
    "df.isna().sum()"
   ]
  },
  {
   "cell_type": "markdown",
   "metadata": {},
   "source": [
    "## Обрабатываем набор"
   ]
  },
  {
   "cell_type": "code",
   "execution_count": 11,
   "metadata": {},
   "outputs": [],
   "source": [
    "def make_raw_train_data_like_test(df):\n",
    "    \"\"\"\n",
    "    Функция преобразует спарсенные данные так, чтобы они были в таком же формате\n",
    "    как и данные в тестовом наборе из соревнования kaggle\n",
    "    \"\"\"\n",
    "    df.bodyType = df.bodyType.str.lower()\\\n",
    "                    .str.replace(' gran turismo','')\\\n",
    "                    .str.replace(' gran coupe','')\\\n",
    "                    .str.replace(' compact','')\\\n",
    "                    .str.replace(' roadster','')\\\n",
    "                    .str.replace(' single cab','')\\\n",
    "                    .str.replace(' lucida','')\\\n",
    "                    .str.replace(' marco polo','')\\\n",
    "                    .str.replace(' asti','')\\\n",
    "                    .str.replace(' plus','')\\\n",
    "                    .str.replace(' regius','')\\\n",
    "                    .str.replace(' double cab','')\\\n",
    "                    .str.replace(' gran tourer','')\\\n",
    "                    .str.replace(' lwb','')\\\n",
    "                    .str.replace(' xl','')\\\n",
    "                    .str.replace(' sportback','')\\\n",
    "                    .str.replace(' type-s','')\\\n",
    "                    .str.replace(' us market','')\\\n",
    "                    .str.replace(' scout','')\\\n",
    "                    .str.replace(' emina','')\\\n",
    "                    .str.replace(' l2','')\\\n",
    "                    .str.replace(' crewmax','')\\\n",
    "                    .str.replace(' extralong','')\\\n",
    "                    .str.replace(' swb','')\\\n",
    "                    .str.replace(' pullman','')\\\n",
    "                    .str.replace(' extra','')\\\n",
    "                    .str.replace(' phv','')\\\n",
    "                    .str.replace(' l3','')\\\n",
    "                    .str.replace(' all-terrain','')\\\n",
    "                    .str.replace(' del sol','')\\\n",
    "                    .str.replace(' life maxi','')\\\n",
    "                    .str.replace(' 76','')\\\n",
    "                    .str.replace(' spada','')\\\n",
    "                    .str.replace(' lucida','')\\\n",
    "                    .str.replace(' gita','')\\\n",
    "                    .str.replace(' alltrack','')\\\n",
    "                    .str.replace(' blit','')\\\n",
    "                    .str.replace(' kasten','')\\\n",
    "                    .str.replace(' allspace','')\\\n",
    "                    .str.replace(' arctic trucks','')\\\n",
    "                    .str.replace(' 78','')\\\n",
    "                    .str.replace(' noah','')\\\n",
    "                    .str.replace(' l1','')\\\n",
    "                    .str.replace(' japan market','')\\\n",
    "                    .str.replace(' fielder','')\\\n",
    "                    .str.replace(' ardeo','')\\\n",
    "                    .str.replace(' 79','')\\\n",
    "                    .str.replace(' runx','')\\\n",
    "                    .str.replace(' gracia','')\\\n",
    "                    .str.replace(' asti','')\\\n",
    "                    .str.replace(' plus','')\\\n",
    "                    .str.replace(' marco polo','')\\\n",
    "                    .str.replace(' single cab','')\\\n",
    "                    .str.replace(' cross','')\\\n",
    "                    .str.replace(' gracia','')\\\n",
    "                    .str.replace(' liftback','')\\\n",
    "                    .str.replace(' xc','')\\\n",
    "                    .str.replace(' latio','')\\\n",
    "                    .str.replace(' spike','')\\\n",
    "                    .str.replace(' bed','')\\\n",
    "                    .str.replace(' 4x4','')\\\n",
    "                    .str.replace(' 120','')\\\n",
    "                    .str.replace(' regius','')\\\n",
    "                    .str.replace(' california','')\\\n",
    "                    .str.replace(' life','')\\\n",
    "                    .str.replace(' maxi','')\\\n",
    "                    .str.replace(' axio','')\\\n",
    "                    .str.replace(' gt','')\\\n",
    "                    .str.replace(' t150','')\\\n",
    "                    .str.replace(' spaceback','')\\\n",
    "                    .str.replace(' regular cab','')\\\n",
    "                    .str.replace(' cargo','')\\\n",
    "                    .str.replace(' long','')\\\n",
    "                    .str.replace(' l','')\\\n",
    "                    \n",
    "    colors = {\n",
    "    '040001':'чёрный',\n",
    "    '0000CC':'синий',\n",
    "    'FAFBFB':'белый',\n",
    "    '97948F':'серый',\n",
    "    'CACECB':'серый',\n",
    "    '200204':'чёрный',\n",
    "    'EE1D19':'красный',\n",
    "    'FFC0CB':'розовый',\n",
    "    'C49648':'золотистый',\n",
    "    '22A0F8':'голубой',\n",
    "    'FF8649':'оранжевый',\n",
    "    '007F00':'зелёный',\n",
    "    'DEA522':'золотистый',\n",
    "    '660099':'фиолетовый',\n",
    "    '4A2197':'фиолетовый',\n",
    "    'FFD600':'жёлтый'\n",
    "    }\n",
    "    df.color = df.color.map(colors)\n",
    "    \n",
    "    fuelTypes = {\n",
    "    'DIESEL':'дизель',\n",
    "    'GASOLINE':'бензин',\n",
    "    'LPG':'газ',\n",
    "    'HYBRID':'гибрид',\n",
    "    'ELECTRO':'электро',\n",
    "    }\n",
    "    df.fuelType = df.fuelType.map(fuelTypes)\n",
    "    \n",
    "    df.modelDate = df.modelDate.astype(float)\n",
    "    \n",
    "    df.numberOfDoors = df.numberOfDoors.astype(float)\n",
    "    \n",
    "    df.loc[df.brand=='Mercedes-Benz','brand'] = 'MERCEDES'\n",
    "    df.brand = df.brand.str.upper()\n",
    "    \n",
    "    transmissionTypes = {\n",
    "    'AUTOMATIC':'автоматическая',\n",
    "    'MECHANICAL':'механическая',\n",
    "    'ROBOT':'роботизированная',\n",
    "    'VARIATOR':'вариатор'\n",
    "    }\n",
    "    df.vehicleTransmission = df.vehicleTransmission.map(transmissionTypes)\n",
    "    \n",
    "    pTypes = {\n",
    "    'ALL_WHEEL_DRIVE':'полный',\n",
    "    'REAR_DRIVE':'задний',\n",
    "    'FORWARD_CONTROL':'передний',\n",
    "    }\n",
    "    df['Привод'] = df['Привод'].map(pTypes)\n",
    "    \n",
    "    pTypes = {\n",
    "    'LEFT':'Левый',\n",
    "    'RIGHT':'Правый',\n",
    "    }\n",
    "    df['Руль'] = df['Руль'].map(pTypes)\n",
    "    \n",
    "    pTypes = {\n",
    "    True:'Не требует ремонта',\n",
    "    }\n",
    "    df['Состояние'] = df['Состояние'].map(pTypes)\n",
    "    \n",
    "    pTypes = {\n",
    "    1:'1\\xa0владелец',\n",
    "    2:'2\\xa0владельца',\n",
    "    3:'3 или более',\n",
    "    }\n",
    "    df['Владельцы'] = df['Владельцы'].map(pTypes)\n",
    "    \n",
    "    pTypes = {\n",
    "    'ORIGINAL':'Оригинал',\n",
    "    'DUPLICATE':'Дубликат'\n",
    "    }\n",
    "    df['ПТС'] = df['ПТС'].map(pTypes)\n",
    "    \n",
    "    pTypes = {\n",
    "    True:'Растаможен',\n",
    "    }\n",
    "    df['Таможня'] = df['Таможня'].map(pTypes)\n",
    "    \n",
    "    df.model_name = df.model_name.str.upper()"
   ]
  },
  {
   "cell_type": "code",
   "execution_count": 12,
   "metadata": {},
   "outputs": [],
   "source": [
    "make_raw_train_data_like_test(df)"
   ]
  },
  {
   "cell_type": "markdown",
   "metadata": {},
   "source": [
    "## Удалим дублирующиеся значения"
   ]
  },
  {
   "cell_type": "code",
   "execution_count": 13,
   "metadata": {},
   "outputs": [],
   "source": [
    "df.drop_duplicates(['car_url'], inplace=True)\n",
    "df.reset_index(inplace=True)"
   ]
  },
  {
   "cell_type": "code",
   "execution_count": 14,
   "metadata": {},
   "outputs": [
    {
     "data": {
      "text/plain": [
       "(37079, 35)"
      ]
     },
     "execution_count": 14,
     "metadata": {},
     "output_type": "execute_result"
    }
   ],
   "source": [
    "df.shape"
   ]
  },
  {
   "cell_type": "markdown",
   "metadata": {},
   "source": [
    "После удаления дублей осталось всего 34340 записей, что чуть меньше тестового набора. Пока поработаем с этимми данными, а затем уже спарсим больше."
   ]
  },
  {
   "cell_type": "markdown",
   "metadata": {},
   "source": [
    "## Проанализируем колонки"
   ]
  },
  {
   "cell_type": "markdown",
   "metadata": {},
   "source": [
    "### bodyType"
   ]
  },
  {
   "cell_type": "code",
   "execution_count": 18,
   "metadata": {},
   "outputs": [
    {
     "name": "stdout",
     "output_type": "stream",
     "text": [
      "['седан' 'внедорожник 5 дв.' 'универсал 5 дв.' 'минивэн' 'купе-хардтоп'\n",
      " 'хэтчбек 5 дв.' 'лифтбек' 'купе' 'фургон' 'компактвэн'\n",
      " 'пикап двойная кабина' 'пикап одинарная кабина' 'хэтчбек 3 дв.'\n",
      " 'внедорожник 3 дв.' 'кабриолет' 'микровэн' 'универсал 3 дв.' 'родстер'\n",
      " 'седан-хардтоп' 'минивэн caravan elgrand' 'седан 2 дв.'\n",
      " 'внедорожник открытый' 'универсал 3 дв.1' 'пикап полуторная кабина'\n",
      " 'седан-хардтоп ceres' 'универсал 5 дв. qualis' 'лимузин']\n",
      "27\n"
     ]
    }
   ],
   "source": [
    "print(df.bodyType.unique())\n",
    "print(df.bodyType.nunique())"
   ]
  },
  {
   "cell_type": "markdown",
   "metadata": {},
   "source": [
    "### brand"
   ]
  },
  {
   "cell_type": "code",
   "execution_count": 16,
   "metadata": {},
   "outputs": [
    {
     "data": {
      "text/plain": [
       "MERCEDES      4136\n",
       "VOLKSWAGEN    3847\n",
       "SKODA         3786\n",
       "MITSUBISHI    3775\n",
       "BMW           3771\n",
       "NISSAN        3749\n",
       "TOYOTA        3696\n",
       "AUDI          3696\n",
       "VOLVO         2221\n",
       "HONDA         1688\n",
       "LEXUS         1685\n",
       "INFINITI      1029\n",
       "Name: brand, dtype: int64"
      ]
     },
     "execution_count": 16,
     "metadata": {},
     "output_type": "execute_result"
    }
   ],
   "source": [
    "df.brand.value_counts()"
   ]
  },
  {
   "cell_type": "markdown",
   "metadata": {},
   "source": [
    "### color"
   ]
  },
  {
   "cell_type": "code",
   "execution_count": 20,
   "metadata": {},
   "outputs": [
    {
     "data": {
      "text/plain": [
       "чёрный        12859\n",
       "серый          8183\n",
       "белый          7961\n",
       "синий          3772\n",
       "красный        1527\n",
       "золотистый      875\n",
       "зелёный         805\n",
       "голубой         406\n",
       "фиолетовый      369\n",
       "оранжевый       174\n",
       "жёлтый          141\n",
       "розовый           7\n",
       "Name: color, dtype: int64"
      ]
     },
     "execution_count": 20,
     "metadata": {},
     "output_type": "execute_result"
    }
   ],
   "source": [
    "df.color.value_counts()"
   ]
  },
  {
   "cell_type": "markdown",
   "metadata": {},
   "source": [
    "### car_url"
   ]
  },
  {
   "cell_type": "code",
   "execution_count": 22,
   "metadata": {},
   "outputs": [
    {
     "data": {
      "text/plain": [
       "0    https://auto.ru/cars/new/sale/volvo/s90/110263...\n",
       "1    https://auto.ru/cars/used/sale/volvo/xc60/1102...\n",
       "2    https://auto.ru/cars/used/sale/volvo/s60/11026...\n",
       "3    https://auto.ru/cars/new/sale/volvo/xc90/11026...\n",
       "4    https://auto.ru/cars/used/sale/volvo/xc90/1102...\n",
       "Name: car_url, dtype: object"
      ]
     },
     "execution_count": 22,
     "metadata": {},
     "output_type": "execute_result"
    }
   ],
   "source": [
    "df.car_url.head()"
   ]
  },
  {
   "cell_type": "code",
   "execution_count": 23,
   "metadata": {},
   "outputs": [
    {
     "data": {
      "text/plain": [
       "array(['https://auto.ru/cars/used/sale/audi/s2/1101519876-9cf891b6/'],\n",
       "      dtype=object)"
      ]
     },
     "execution_count": 23,
     "metadata": {},
     "output_type": "execute_result"
    }
   ],
   "source": [
    "df.car_url.sample(1).values"
   ]
  },
  {
   "cell_type": "code",
   "execution_count": null,
   "metadata": {},
   "outputs": [],
   "source": [
    "df.description.sample(1).values"
   ]
  },
  {
   "cell_type": "markdown",
   "metadata": {},
   "source": [
    "### complectiaion_dict"
   ]
  },
  {
   "cell_type": "code",
   "execution_count": 24,
   "metadata": {},
   "outputs": [
    {
     "data": {
      "text/plain": [
       "array(['.\\n\\nВаш выбор и Ваше время — наши главные приоритеты. Поэтому в РОЛЬФ Северо-Запад | Автомобили с пробегом мы предлагаем Вам индивидуальные условия на приобретение Audi Q3 с пробегом.\\n\\nСпециально для Вас:\\n\\n✅ Более 1 500 проверенных автомобилей с пробегом на площади 27 000 кв.м. \\n✅ Более 50 брендов в различных ценовых категориях.\\n✅ Кредитование в более чем 10 банков-партнёров.\\n✅ Все виды страхования автомобилей.\\n✅ Услуги ГИБДД (поставка на учет, прекращение учета, сохранение государственных знаков).\\n✅ Гарантия до 2 лет на автомобили различных марок.\\n✅ Юридическая чистота и безопасность сделки.\\n✅ Онлайн-консультация по интересующему вас автомобилю.\\n✅ Онлайн-бронирование и предоплата автомобилей.\\n✅ Дистанционно-бесконтактный осмотр автомобиля.\\n✅ Запись на сервисное обслуживание.\\n\\nРОЛЬФ Северо-Запад | Автомобили с пробегом.\\n⭐ №1 по продажам автомобилей с пробегом в России*\\nпо данным АвтоБизнесРевю\\n\\nМы рады видеть Вас ежедневно с 10:00 до 22:00 по адресу: Москва, 71-й километр, 16А, МКАД.'],\n",
       "      dtype=object)"
      ]
     },
     "execution_count": 24,
     "metadata": {},
     "output_type": "execute_result"
    }
   ],
   "source": [
    "df.description.sample(1).values"
   ]
  },
  {
   "cell_type": "markdown",
   "metadata": {},
   "source": [
    "### engineDisplacement"
   ]
  },
  {
   "cell_type": "code",
   "execution_count": 25,
   "metadata": {},
   "outputs": [
    {
     "data": {
      "text/plain": [
       "2.0 LTR    10194\n",
       "1.6 LTR     5437\n",
       "3.0 LTR     3832\n",
       "2.5 LTR     2557\n",
       "1.8 LTR     2369\n",
       "1.4 LTR     2233\n",
       "2.4 LTR     1830\n",
       "3.5 LTR     1293\n",
       "1.5 LTR      741\n",
       "1.9 LTR      627\n",
       "2.9 LTR      615\n",
       "1.2 LTR      474\n",
       "4.0 LTR      442\n",
       "1.3 LTR      414\n",
       "4.5 LTR      369\n",
       "2.8 LTR      321\n",
       "4.4 LTR      278\n",
       "2.1 LTR      244\n",
       "5.6 LTR      227\n",
       "3.7 LTR      227\n",
       "5.7 LTR      225\n",
       "4.7 LTR      212\n",
       "3.2 LTR      209\n",
       "2.7 LTR      203\n",
       "2.3 LTR      171\n",
       "4.2 LTR      157\n",
       "4.6 LTR      156\n",
       "5.5 LTR      132\n",
       "2.2 LTR      125\n",
       "3.6 LTR      124\n",
       "0.0 LTR       80\n",
       "5.0 LTR       74\n",
       "3.8 LTR       49\n",
       "3.1 LTR       46\n",
       "1.7 LTR       42\n",
       "3.3 LTR       42\n",
       "0.7 LTR       37\n",
       "1.0 LTR       37\n",
       "4.8 LTR       34\n",
       "6.0 LTR       32\n",
       "4.1 LTR       28\n",
       "3.4 LTR       24\n",
       "6.2 LTR       20\n",
       "2.6 LTR       18\n",
       "5.4 LTR       17\n",
       "4.3 LTR       15\n",
       "5.9 LTR       10\n",
       "5.2 LTR        9\n",
       "0.6 LTR        7\n",
       "6.6 LTR        6\n",
       "1.1 LTR        5\n",
       "6.3 LTR        4\n",
       "4.9 LTR        3\n",
       "3.9 LTR        1\n",
       "5.8 LTR        1\n",
       "Name: engineDisplacement, dtype: int64"
      ]
     },
     "execution_count": 25,
     "metadata": {},
     "output_type": "execute_result"
    }
   ],
   "source": [
    "df.engineDisplacement.value_counts()"
   ]
  },
  {
   "cell_type": "markdown",
   "metadata": {},
   "source": [
    "### enginePower"
   ]
  },
  {
   "cell_type": "code",
   "execution_count": 26,
   "metadata": {},
   "outputs": [
    {
     "data": {
      "text/plain": [
       "150 N12    2787\n",
       "249 N12    2782\n",
       "110 N12    1813\n",
       "190 N12    1235\n",
       "180 N12     979\n",
       "           ... \n",
       "40 N12        1\n",
       "324 N12       1\n",
       "196 N12       1\n",
       "460 N12       1\n",
       "485 N12       1\n",
       "Name: enginePower, Length: 309, dtype: int64"
      ]
     },
     "execution_count": 26,
     "metadata": {},
     "output_type": "execute_result"
    }
   ],
   "source": [
    "df.enginePower.value_counts()"
   ]
  },
  {
   "cell_type": "markdown",
   "metadata": {},
   "source": [
    "### location"
   ]
  },
  {
   "cell_type": "code",
   "execution_count": 27,
   "metadata": {},
   "outputs": [
    {
     "data": {
      "text/plain": [
       "Москва              23858\n",
       "Санкт-Петербург      3258\n",
       "Нижний Новгород       553\n",
       "Воронеж               527\n",
       "Химки                 505\n",
       "                    ...  \n",
       "Скопин                  1\n",
       "Николо-Черкизово        1\n",
       "Кашин                   1\n",
       "Красноармейское         1\n",
       "Акулово                 1\n",
       "Name: location, Length: 751, dtype: int64"
      ]
     },
     "execution_count": 27,
     "metadata": {},
     "output_type": "execute_result"
    }
   ],
   "source": [
    "df.location.value_counts()"
   ]
  },
  {
   "cell_type": "markdown",
   "metadata": {},
   "source": [
    "### equipment_dict"
   ]
  },
  {
   "cell_type": "code",
   "execution_count": 28,
   "metadata": {},
   "outputs": [
    {
     "data": {
      "text/plain": [
       "array([\"{'engine-proof': True, 'electro-window-back': True, 'steel-wheels': True, 'ptf': True, 'esp': True, '16-inch-wheels': True, 'airbag-driver': True, 'airbag-side': True, 'electro-window-front': True, 'xenon': True, 'passenger-seat-updown': True, 'airbag-passenger': True, 'velvet-seats': True, 'abs': True, 'front-seats-heat': True, 'wheel-configuration2': True, 'wheel-configuration1': True, 'passenger-seat-electric': True, 'lock': True, 'light-cleaner': True}\"],\n",
       "      dtype=object)"
      ]
     },
     "execution_count": 28,
     "metadata": {},
     "output_type": "execute_result"
    }
   ],
   "source": [
    "df.equipment_dict.sample(1).values"
   ]
  },
  {
   "cell_type": "markdown",
   "metadata": {},
   "source": [
    "### fuelType"
   ]
  },
  {
   "cell_type": "code",
   "execution_count": 29,
   "metadata": {},
   "outputs": [
    {
     "data": {
      "text/plain": [
       "бензин     29765\n",
       "дизель      6959\n",
       "гибрид       271\n",
       "электро       80\n",
       "газ            4\n",
       "Name: fuelType, dtype: int64"
      ]
     },
     "execution_count": 29,
     "metadata": {},
     "output_type": "execute_result"
    }
   ],
   "source": [
    "df.fuelType.value_counts()"
   ]
  },
  {
   "cell_type": "markdown",
   "metadata": {},
   "source": [
    "### image"
   ]
  },
  {
   "cell_type": "code",
   "execution_count": 30,
   "metadata": {},
   "outputs": [
    {
     "data": {
      "text/plain": [
       "'//avatars.mds.yandex.net/get-autoru-vos/3937311/2ea650e29c5a60f27c02016b1c587cbd/small'"
      ]
     },
     "execution_count": 30,
     "metadata": {},
     "output_type": "execute_result"
    }
   ],
   "source": [
    "df.image.iloc[0]"
   ]
  },
  {
   "cell_type": "markdown",
   "metadata": {},
   "source": [
    "### mileage"
   ]
  },
  {
   "cell_type": "code",
   "execution_count": 31,
   "metadata": {},
   "outputs": [
    {
     "data": {
      "image/png": "[encoded data removed]",
      "text/plain": [
       "<Figure size 432x288 with 1 Axes>"
      ]
     },
     "metadata": {
      "needs_background": "light"
     },
     "output_type": "display_data"
    }
   ],
   "source": [
    "df.mileage.hist();"
   ]
  },
  {
   "cell_type": "markdown",
   "metadata": {},
   "source": [
    "### modelDate"
   ]
  },
  {
   "cell_type": "code",
   "execution_count": 32,
   "metadata": {},
   "outputs": [
    {
     "data": {
      "image/png": "[encoded data removed]",
      "text/plain": [
       "<Figure size 432x288 with 1 Axes>"
      ]
     },
     "metadata": {
      "needs_background": "light"
     },
     "output_type": "display_data"
    }
   ],
   "source": [
    "df.modelDate.hist();"
   ]
  },
  {
   "cell_type": "markdown",
   "metadata": {},
   "source": [
    "### model_name"
   ]
  },
  {
   "cell_type": "code",
   "execution_count": 33,
   "metadata": {},
   "outputs": [
    {
     "data": {
      "text/plain": [
       "OCTAVIA         1421\n",
       "POLO            1150\n",
       "OUTLANDER       1093\n",
       "RAPID            984\n",
       "QASHQAI          938\n",
       "                ... \n",
       "Z                  1\n",
       "HILUX SURF         1\n",
       "CAMRY SOLARA       1\n",
       "920                1\n",
       "X4 M               1\n",
       "Name: model_name, Length: 537, dtype: int64"
      ]
     },
     "execution_count": 33,
     "metadata": {},
     "output_type": "execute_result"
    }
   ],
   "source": [
    "df.model_name.value_counts()"
   ]
  },
  {
   "cell_type": "markdown",
   "metadata": {},
   "source": [
    "### name"
   ]
  },
  {
   "cell_type": "code",
   "execution_count": 34,
   "metadata": {},
   "outputs": [
    {
     "data": {
      "text/plain": [
       "0                     2.0 AT (190 л.с.)\n",
       "1                2.4d AT (190 л.с.) 4WD\n",
       "2                    1.6 AMT (180 л.с.)\n",
       "3                 2.0 AT (249 л.с.) 4WD\n",
       "4                 2.5 AT (210 л.с.) 4WD\n",
       "                      ...              \n",
       "37074             2.0 AT (249 л.с.) 4WD\n",
       "37075            2.4 CVT (167 л.с.) 4WD\n",
       "37076    45 TFSI 2.0 AMT (245 л.с.) 4WD\n",
       "37077        40 TFSI 2.0 AMT (190 л.с.)\n",
       "37078       55 Electro AT (301 кВт) 4WD\n",
       "Name: name, Length: 37079, dtype: object"
      ]
     },
     "execution_count": 34,
     "metadata": {},
     "output_type": "execute_result"
    }
   ],
   "source": [
    "df.name"
   ]
  },
  {
   "cell_type": "markdown",
   "metadata": {},
   "source": [
    "### numberOfDoors"
   ]
  },
  {
   "cell_type": "code",
   "execution_count": 35,
   "metadata": {},
   "outputs": [
    {
     "data": {
      "text/plain": [
       "5.0    23880\n",
       "4.0    11854\n",
       "2.0      924\n",
       "3.0      421\n",
       "Name: numberOfDoors, dtype: int64"
      ]
     },
     "execution_count": 35,
     "metadata": {},
     "output_type": "execute_result"
    }
   ],
   "source": [
    "df.numberOfDoors.value_counts()"
   ]
  },
  {
   "cell_type": "markdown",
   "metadata": {},
   "source": [
    "### parsing_unixtime"
   ]
  },
  {
   "cell_type": "code",
   "execution_count": 36,
   "metadata": {},
   "outputs": [
    {
     "data": {
      "text/plain": [
       "<matplotlib.axes._subplots.AxesSubplot at 0x28d22797c40>"
      ]
     },
     "execution_count": 36,
     "metadata": {},
     "output_type": "execute_result"
    },
    {
     "data": {
      "image/png": "[encoded data removed]",
      "text/plain": [
       "<Figure size 432x288 with 1 Axes>"
      ]
     },
     "metadata": {
      "needs_background": "light"
     },
     "output_type": "display_data"
    }
   ],
   "source": [
    "df.parsing_unixtime.hist()"
   ]
  },
  {
   "cell_type": "markdown",
   "metadata": {},
   "source": [
    "### priceCurrency"
   ]
  },
  {
   "cell_type": "code",
   "execution_count": 37,
   "metadata": {},
   "outputs": [
    {
     "data": {
      "text/plain": [
       "RUR    37079\n",
       "Name: priceCurrency, dtype: int64"
      ]
     },
     "execution_count": 37,
     "metadata": {},
     "output_type": "execute_result"
    }
   ],
   "source": [
    "df.priceCurrency.value_counts()"
   ]
  },
  {
   "cell_type": "markdown",
   "metadata": {},
   "source": [
    "### productionDate"
   ]
  },
  {
   "cell_type": "code",
   "execution_count": 38,
   "metadata": {},
   "outputs": [
    {
     "data": {
      "image/png": "[encoded data removed]",
      "text/plain": [
       "<Figure size 432x288 with 1 Axes>"
      ]
     },
     "metadata": {
      "needs_background": "light"
     },
     "output_type": "display_data"
    }
   ],
   "source": [
    "df.productionDate.hist();"
   ]
  },
  {
   "cell_type": "markdown",
   "metadata": {},
   "source": [
    "### sell_id"
   ]
  },
  {
   "cell_type": "code",
   "execution_count": 39,
   "metadata": {},
   "outputs": [
    {
     "data": {
      "text/plain": [
       "0        1102632297-5cc2974d\n",
       "1        1102086318-0d0497fd\n",
       "2        1102697743-74aa0d29\n",
       "3        1102683086-28471227\n",
       "4        1102472482-c2fb8583\n",
       "                ...         \n",
       "37074    1102696106-a36910cd\n",
       "37075    1102639806-62dd26bf\n",
       "37076    1102376375-e4ab725c\n",
       "37077    1102663723-8d9a9cea\n",
       "37078    1101629987-a6da2d0e\n",
       "Name: sell_id, Length: 37079, dtype: object"
      ]
     },
     "execution_count": 39,
     "metadata": {},
     "output_type": "execute_result"
    }
   ],
   "source": [
    "df.sell_id"
   ]
  },
  {
   "cell_type": "markdown",
   "metadata": {},
   "source": [
    "### vehicleConfiguration"
   ]
  },
  {
   "cell_type": "code",
   "execution_count": 40,
   "metadata": {},
   "outputs": [
    {
     "data": {
      "text/plain": [
       "ALLROAD_5_DOORS VARIATOR 2.0        2553\n",
       "ALLROAD_5_DOORS AUTOMATIC 3.0       2537\n",
       "ALLROAD_5_DOORS AUTOMATIC 2.0       2317\n",
       "SEDAN AUTOMATIC 2.0                 1665\n",
       "SEDAN AUTOMATIC 2.5                 1045\n",
       "                                    ... \n",
       "COUPE AUTOMATIC 6.2                    1\n",
       "HATCHBACK_3_DOORS MECHANICAL 1.9       1\n",
       "MINIVAN MECHANICAL 1.4                 1\n",
       "ROADSTER AUTOMATIC 3.7                 1\n",
       "ALLROAD_3_DOORS MECHANICAL 4.2         1\n",
       "Name: vehicleConfiguration, Length: 598, dtype: int64"
      ]
     },
     "execution_count": 40,
     "metadata": {},
     "output_type": "execute_result"
    }
   ],
   "source": [
    "df.vehicleConfiguration.value_counts()"
   ]
  },
  {
   "cell_type": "markdown",
   "metadata": {},
   "source": [
    "### vehicleTransmission"
   ]
  },
  {
   "cell_type": "code",
   "execution_count": 41,
   "metadata": {},
   "outputs": [
    {
     "data": {
      "text/plain": [
       "автоматическая      20067\n",
       "механическая         6688\n",
       "роботизированная     5260\n",
       "вариатор             5064\n",
       "Name: vehicleTransmission, dtype: int64"
      ]
     },
     "execution_count": 41,
     "metadata": {},
     "output_type": "execute_result"
    }
   ],
   "source": [
    "df.vehicleTransmission.value_counts()"
   ]
  },
  {
   "cell_type": "markdown",
   "metadata": {},
   "source": [
    "### vendor"
   ]
  },
  {
   "cell_type": "code",
   "execution_count": 42,
   "metadata": {},
   "outputs": [
    {
     "data": {
      "text/plain": [
       "EUROPEAN    21457\n",
       "JAPANESE    15622\n",
       "Name: vendor, dtype: int64"
      ]
     },
     "execution_count": 42,
     "metadata": {},
     "output_type": "execute_result"
    }
   ],
   "source": [
    "df.vendor.value_counts()"
   ]
  },
  {
   "cell_type": "markdown",
   "metadata": {},
   "source": [
    "### Adds"
   ]
  },
  {
   "cell_type": "code",
   "execution_count": 43,
   "metadata": {},
   "outputs": [
    {
     "data": {
      "text/plain": [
       "полный      18412\n",
       "передний    16205\n",
       "задний       2462\n",
       "Name: Привод, dtype: int64"
      ]
     },
     "execution_count": 43,
     "metadata": {},
     "output_type": "execute_result"
    }
   ],
   "source": [
    "df['Привод'].value_counts()"
   ]
  },
  {
   "cell_type": "code",
   "execution_count": 44,
   "metadata": {},
   "outputs": [
    {
     "data": {
      "text/plain": [
       "Левый     36071\n",
       "Правый     1008\n",
       "Name: Руль, dtype: int64"
      ]
     },
     "execution_count": 44,
     "metadata": {},
     "output_type": "execute_result"
    }
   ],
   "source": [
    "df['Руль'].value_counts()"
   ]
  },
  {
   "cell_type": "code",
   "execution_count": 45,
   "metadata": {},
   "outputs": [
    {
     "data": {
      "text/plain": [
       "Не требует ремонта    37079\n",
       "Name: Состояние, dtype: int64"
      ]
     },
     "execution_count": 45,
     "metadata": {},
     "output_type": "execute_result"
    }
   ],
   "source": [
    "df['Состояние'].value_counts()"
   ]
  },
  {
   "cell_type": "code",
   "execution_count": 46,
   "metadata": {},
   "outputs": [
    {
     "data": {
      "text/plain": [
       "1 владелец     9728\n",
       "3 или более    9425\n",
       "2 владельца    7388\n",
       "Name: Владельцы, dtype: int64"
      ]
     },
     "execution_count": 46,
     "metadata": {},
     "output_type": "execute_result"
    }
   ],
   "source": [
    "df['Владельцы'].value_counts()"
   ]
  },
  {
   "cell_type": "code",
   "execution_count": 47,
   "metadata": {},
   "outputs": [
    {
     "data": {
      "text/plain": [
       "Оригинал    33325\n",
       "Дубликат     3610\n",
       "Name: ПТС, dtype: int64"
      ]
     },
     "execution_count": 47,
     "metadata": {},
     "output_type": "execute_result"
    }
   ],
   "source": [
    "df['ПТС'].value_counts()"
   ]
  },
  {
   "cell_type": "code",
   "execution_count": 48,
   "metadata": {},
   "outputs": [
    {
     "data": {
      "text/plain": [
       "Растаможен    37079\n",
       "Name: Таможня, dtype: int64"
      ]
     },
     "execution_count": 48,
     "metadata": {},
     "output_type": "execute_result"
    }
   ],
   "source": [
    "df['Таможня'].value_counts()"
   ]
  },
  {
   "cell_type": "code",
   "execution_count": 49,
   "metadata": {},
   "outputs": [
    {
     "data": {
      "text/plain": [
       "{'year': 2019, 'month': 12}    127\n",
       "{'year': 2020, 'month': 1}     126\n",
       "{'year': 2018, 'month': 12}    122\n",
       "{'year': 2020, 'month': 3}     120\n",
       "{'year': 2019, 'month': 11}    120\n",
       "                              ... \n",
       "{'year': 2004, 'month': 10}      1\n",
       "{'year': 1999, 'month': 9}       1\n",
       "{'year': 1999, 'month': 2}       1\n",
       "{'year': 1993, 'month': 2}       1\n",
       "{'year': 2002, 'month': 10}      1\n",
       "Name: Владение, Length: 245, dtype: int64"
      ]
     },
     "execution_count": 49,
     "metadata": {},
     "output_type": "execute_result"
    }
   ],
   "source": [
    "df['Владение'].value_counts()"
   ]
  },
  {
   "cell_type": "markdown",
   "metadata": {},
   "source": [
    "### Колонки для возможных фич"
   ]
  },
  {
   "cell_type": "code",
   "execution_count": 50,
   "metadata": {},
   "outputs": [
    {
     "data": {
      "text/plain": [
       "0        ЛОТ: 01242183\\n\\nЛучшее предложение на приобре...\n",
       "1        Одна из последних в этом кузове. Самый конец 1...\n",
       "2        Автомобили с пробегом от Официального Дилера У...\n",
       "3        Официальный дилер Volvo в Москве и Московской ...\n",
       "4        Внимание! Только для клиентов AVILON Автомобил...\n",
       "                               ...                        \n",
       "37074    Комплектация: Volvo XC90 T5 Inscription 7 мест...\n",
       "37075    Обмен и прочее не интересует, ставить никуда н...\n",
       "37076    Этот автомобиль в наличии и доступен к просмот...\n",
       "37077    Этот автомобиль в наличии и доступен к просмот...\n",
       "37078    Акционная стоимость действует при условии прим...\n",
       "Name: description, Length: 37079, dtype: object"
      ]
     },
     "execution_count": 50,
     "metadata": {},
     "output_type": "execute_result"
    }
   ],
   "source": [
    "df.description"
   ]
  },
  {
   "cell_type": "code",
   "execution_count": 51,
   "metadata": {},
   "outputs": [
    {
     "data": {
      "text/plain": [
       "0        {'id': '22189636', 'name': 'Inscription', 'ava...\n",
       "1        {'id': '20893102', 'name': 'Summum', 'availabl...\n",
       "2                                              {'id': '0'}\n",
       "3        {'id': '21555108', 'name': 'R-Design', 'availa...\n",
       "4                                              {'id': '0'}\n",
       "                               ...                        \n",
       "37074    {'id': '21555855', 'name': 'Inscription 7 мест...\n",
       "37075    {'id': '21397687', 'name': 'Instyle', 'availab...\n",
       "37076    {'id': '21649577', 'name': 'Design 45 TFSI qua...\n",
       "37077    {'id': '21793195', 'name': 'Advance 40 TFSI S ...\n",
       "37078    {'id': '22291467', 'name': 'Sport 55 quattro',...\n",
       "Name: complectation_dict, Length: 37079, dtype: object"
      ]
     },
     "execution_count": 51,
     "metadata": {},
     "output_type": "execute_result"
    }
   ],
   "source": [
    "df.complectation_dict"
   ]
  },
  {
   "cell_type": "code",
   "execution_count": 52,
   "metadata": {},
   "outputs": [
    {
     "data": {
      "text/plain": [
       "0        {'asr': True, 'roller-blind-for-rear-window': ...\n",
       "1        {'cruise-control': True, 'asr': True, 'tinted-...\n",
       "2        {'cruise-control': True, 'engine-proof': True,...\n",
       "3        {'sport-seats': True, 'multi-wheel': True, 'au...\n",
       "4        {'cruise-control': True, 'asr': True, 'front-s...\n",
       "                               ...                        \n",
       "37074    {'multi-wheel': True, 'heated-wash-system': Tr...\n",
       "37075    {'cruise-control': True, 'tinted-glass': True,...\n",
       "37076    {'cruise-control': True, 'e-adjustment-wheel':...\n",
       "37077    {'cruise-control': True, 'asr': True, 'esp': T...\n",
       "37078    {'sport-seats': True, 'e-adjustment-wheel': Tr...\n",
       "Name: equipment_dict, Length: 37079, dtype: object"
      ]
     },
     "execution_count": 52,
     "metadata": {},
     "output_type": "execute_result"
    }
   ],
   "source": [
    "df.equipment_dict"
   ]
  },
  {
   "cell_type": "code",
   "execution_count": 53,
   "metadata": {},
   "outputs": [
    {
     "data": {
      "text/plain": [
       "0        {'code': 'S90', 'name': 'S90', 'ru_name': 'S90...\n",
       "1        {'code': 'XC60', 'name': 'XC60', 'ru_name': 'X...\n",
       "2        {'code': 'S60', 'name': 'S60', 'ru_name': 'S60...\n",
       "3        {'code': 'XC90', 'name': 'XC90', 'ru_name': 'X...\n",
       "4        {'code': 'XC90', 'name': 'XC90', 'ru_name': 'X...\n",
       "                               ...                        \n",
       "37074    {'code': 'XC90', 'name': 'XC90', 'ru_name': 'X...\n",
       "37075    {'code': 'OUTLANDER', 'name': 'Outlander', 'ru...\n",
       "37076    {'code': 'A7', 'name': 'A7', 'ru_name': 'А7', ...\n",
       "37077    {'code': 'A6', 'name': 'A6', 'ru_name': 'А6', ...\n",
       "37078    {'code': 'E_TRON', 'name': 'e-tron', 'ru_name'...\n",
       "Name: model_info, Length: 37079, dtype: object"
      ]
     },
     "execution_count": 53,
     "metadata": {},
     "output_type": "execute_result"
    }
   ],
   "source": [
    "df.model_info"
   ]
  },
  {
   "cell_type": "code",
   "execution_count": 54,
   "metadata": {},
   "outputs": [
    {
     "data": {
      "text/plain": [
       "0        {'id': '22196923', 'name': 'II Рестайлинг', 'r...\n",
       "1        {'id': '20012324', 'name': 'I Рестайлинг', 'ru...\n",
       "2        {'id': '6478325', 'name': 'II', 'ru_name': '2'...\n",
       "3        {'id': '21552979', 'name': 'II Рестайлинг', 'r...\n",
       "4        {'id': '2310047', 'name': 'I Рестайлинг', 'ru_...\n",
       "                               ...                        \n",
       "37074    {'id': '21552979', 'name': 'II Рестайлинг', 'r...\n",
       "37075    {'id': '21397304', 'name': 'III Рестайлинг 3',...\n",
       "37076    {'id': '21134030', 'name': 'II (4K)', 'ru_name...\n",
       "37077    {'id': '21210593', 'name': 'V (C8)', 'ru_name'...\n",
       "37078    {'id': '21447469', 'name': 'I', 'ru_name': '1'...\n",
       "Name: super_gen, Length: 37079, dtype: object"
      ]
     },
     "execution_count": 54,
     "metadata": {},
     "output_type": "execute_result"
    }
   ],
   "source": [
    "df.super_gen"
   ]
  },
  {
   "cell_type": "markdown",
   "metadata": {},
   "source": [
    "### Сохраним файл в  csv"
   ]
  },
  {
   "cell_type": "code",
   "execution_count": 55,
   "metadata": {},
   "outputs": [],
   "source": [
    "df.to_csv('train.csv')"
   ]
  },
  {
   "cell_type": "markdown",
   "metadata": {},
   "source": [
    "## Итоги"
   ]
  },
  {
   "cell_type": "markdown",
   "metadata": {},
   "source": [
    "* Был сформирован тренировочный датасет, соответсвующий формату тестового \n",
    "* Количество записей в тренировочном лишь немного превышает кол-во записей в тестовом,хорошо бы увеличить кол-во данных"
   ]
  },
  {
   "cell_type": "code",
   "execution_count": null,
   "metadata": {},
   "outputs": [],
   "source": []
  }
 ],
 "metadata": {
  "kernelspec": {
   "display_name": "Python 3",
   "language": "python",
   "name": "python3"
  },
  "language_info": {
   "codemirror_mode": {
    "name": "ipython",
    "version": 3
   },
   "file_extension": ".py",
   "mimetype": "text/x-python",
   "name": "python",
   "nbconvert_exporter": "python",
   "pygments_lexer": "ipython3",
   "version": "3.8.3"
  }
 },
 "nbformat": 4,
 "nbformat_minor": 4
}
